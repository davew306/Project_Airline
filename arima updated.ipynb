{
 "cells": [
  {
   "cell_type": "code",
   "execution_count": null,
   "metadata": {},
   "outputs": [],
   "source": [
    "import pmdarima\n",
    "import pandas as pd \n",
    "import matplotlib.pyplot as plt\n",
    "import numpy as np\n"
   ]
  },
  {
   "cell_type": "code",
   "execution_count": null,
   "metadata": {},
   "outputs": [],
   "source": [
    "csv_2019_path = \"data2019.csv\"\n",
    "csv_2020_path = \"data2020.csv\""
   ]
  },
  {
   "cell_type": "code",
   "execution_count": 106,
   "metadata": {},
   "outputs": [],
   "source": [
    "from pmdarima import auto_arima, model_selection \n",
    "from sklearn.metrics import mean_squared_error\n",
    "import pmdarima as pm"
   ]
  },
  {
   "cell_type": "code",
   "execution_count": null,
   "metadata": {},
   "outputs": [],
   "source": [
    "# Reading the file\n",
    "data_2019_df = pd.read_csv(csv_2019_path, encoding=\"utf-8\")\n",
    "data_2019_df.head()"
   ]
  },
  {
   "cell_type": "code",
   "execution_count": 5,
   "metadata": {},
   "outputs": [
    {
     "data": {
      "text/html": [
       "<div>\n",
       "<style scoped>\n",
       "    .dataframe tbody tr th:only-of-type {\n",
       "        vertical-align: middle;\n",
       "    }\n",
       "\n",
       "    .dataframe tbody tr th {\n",
       "        vertical-align: top;\n",
       "    }\n",
       "\n",
       "    .dataframe thead th {\n",
       "        text-align: right;\n",
       "    }\n",
       "</style>\n",
       "<table border=\"1\" class=\"dataframe\">\n",
       "  <thead>\n",
       "    <tr style=\"text-align: right;\">\n",
       "      <th></th>\n",
       "      <th>PASSENGERS</th>\n",
       "      <th>FREIGHT</th>\n",
       "      <th>DISTANCE</th>\n",
       "      <th>UNIQUE_CARRIER_NAME</th>\n",
       "      <th>CARRIER_NAME</th>\n",
       "      <th>ORIGIN</th>\n",
       "      <th>ORIGIN_CITY_NAME</th>\n",
       "      <th>DEST</th>\n",
       "      <th>DEST_CITY_NAME</th>\n",
       "      <th>YEAR</th>\n",
       "      <th>QUARTER</th>\n",
       "      <th>MONTH</th>\n",
       "      <th>DISTANCE_GROUP</th>\n",
       "    </tr>\n",
       "  </thead>\n",
       "  <tbody>\n",
       "    <tr>\n",
       "      <th>0</th>\n",
       "      <td>0</td>\n",
       "      <td>0</td>\n",
       "      <td>104</td>\n",
       "      <td>Republic Airline</td>\n",
       "      <td>Republic Airline</td>\n",
       "      <td>RSW</td>\n",
       "      <td>Fort Myers, FL</td>\n",
       "      <td>MIA</td>\n",
       "      <td>Miami, FL</td>\n",
       "      <td>2020</td>\n",
       "      <td>1</td>\n",
       "      <td>1</td>\n",
       "      <td>1</td>\n",
       "    </tr>\n",
       "    <tr>\n",
       "      <th>1</th>\n",
       "      <td>0</td>\n",
       "      <td>0</td>\n",
       "      <td>77</td>\n",
       "      <td>Republic Airline</td>\n",
       "      <td>Republic Airline</td>\n",
       "      <td>RSW</td>\n",
       "      <td>Fort Myers, FL</td>\n",
       "      <td>SRQ</td>\n",
       "      <td>Sarasota/Bradenton, FL</td>\n",
       "      <td>2020</td>\n",
       "      <td>1</td>\n",
       "      <td>1</td>\n",
       "      <td>1</td>\n",
       "    </tr>\n",
       "    <tr>\n",
       "      <th>2</th>\n",
       "      <td>0</td>\n",
       "      <td>0</td>\n",
       "      <td>30</td>\n",
       "      <td>Republic Airline</td>\n",
       "      <td>Republic Airline</td>\n",
       "      <td>SAV</td>\n",
       "      <td>Savannah, GA</td>\n",
       "      <td>HHH</td>\n",
       "      <td>Hilton Head, SC</td>\n",
       "      <td>2020</td>\n",
       "      <td>1</td>\n",
       "      <td>1</td>\n",
       "      <td>1</td>\n",
       "    </tr>\n",
       "    <tr>\n",
       "      <th>3</th>\n",
       "      <td>0</td>\n",
       "      <td>0</td>\n",
       "      <td>228</td>\n",
       "      <td>Republic Airline</td>\n",
       "      <td>Republic Airline</td>\n",
       "      <td>STL</td>\n",
       "      <td>St. Louis, MO</td>\n",
       "      <td>CID</td>\n",
       "      <td>Cedar Rapids/Iowa City, IA</td>\n",
       "      <td>2020</td>\n",
       "      <td>1</td>\n",
       "      <td>1</td>\n",
       "      <td>1</td>\n",
       "    </tr>\n",
       "    <tr>\n",
       "      <th>4</th>\n",
       "      <td>0</td>\n",
       "      <td>0</td>\n",
       "      <td>466</td>\n",
       "      <td>Republic Airline</td>\n",
       "      <td>Republic Airline</td>\n",
       "      <td>LNK</td>\n",
       "      <td>Lincoln, NE</td>\n",
       "      <td>ORD</td>\n",
       "      <td>Chicago, IL</td>\n",
       "      <td>2020</td>\n",
       "      <td>1</td>\n",
       "      <td>1</td>\n",
       "      <td>1</td>\n",
       "    </tr>\n",
       "  </tbody>\n",
       "</table>\n",
       "</div>"
      ],
      "text/plain": [
       "   PASSENGERS  FREIGHT  DISTANCE UNIQUE_CARRIER_NAME      CARRIER_NAME ORIGIN  \\\n",
       "0           0        0       104    Republic Airline  Republic Airline    RSW   \n",
       "1           0        0        77    Republic Airline  Republic Airline    RSW   \n",
       "2           0        0        30    Republic Airline  Republic Airline    SAV   \n",
       "3           0        0       228    Republic Airline  Republic Airline    STL   \n",
       "4           0        0       466    Republic Airline  Republic Airline    LNK   \n",
       "\n",
       "  ORIGIN_CITY_NAME DEST              DEST_CITY_NAME  YEAR  QUARTER  MONTH  \\\n",
       "0   Fort Myers, FL  MIA                   Miami, FL  2020        1      1   \n",
       "1   Fort Myers, FL  SRQ      Sarasota/Bradenton, FL  2020        1      1   \n",
       "2     Savannah, GA  HHH             Hilton Head, SC  2020        1      1   \n",
       "3    St. Louis, MO  CID  Cedar Rapids/Iowa City, IA  2020        1      1   \n",
       "4      Lincoln, NE  ORD                 Chicago, IL  2020        1      1   \n",
       "\n",
       "   DISTANCE_GROUP  \n",
       "0               1  \n",
       "1               1  \n",
       "2               1  \n",
       "3               1  \n",
       "4               1  "
      ]
     },
     "execution_count": 5,
     "metadata": {},
     "output_type": "execute_result"
    }
   ],
   "source": [
    "data_2020_df = pd.read_csv(csv_2020_path, encoding=\"utf-8\")\n",
    "data_2020_df.head()"
   ]
  },
  {
   "cell_type": "code",
   "execution_count": 15,
   "metadata": {},
   "outputs": [
    {
     "name": "stdout",
     "output_type": "stream",
     "text": [
      "(444162, 13)\n"
     ]
    }
   ],
   "source": [
    "# Combing data together\n",
    "\n",
    "combine_Data = pd.concat([data_2019_df,data_2020_df])\n",
    "print(combine_Data.shape)"
   ]
  },
  {
   "cell_type": "code",
   "execution_count": 16,
   "metadata": {},
   "outputs": [],
   "source": [
    "#Filtering and Cleaning\n",
    "\n",
    "combine_Data=combine_Data[(combine_Data[\"ORIGIN\"]==\"ATL\")&\n",
    "                          ((combine_Data[\"DEST\"]==\"IAH\")|(combine_Data[\"DEST\"]==\"LAX\")|\n",
    "                           (combine_Data[\"DEST\"]==\"LGA\")|(combine_Data[\"DEST\"]==\"HOU\"))]"
   ]
  },
  {
   "cell_type": "code",
   "execution_count": 17,
   "metadata": {},
   "outputs": [
    {
     "name": "stdout",
     "output_type": "stream",
     "text": [
      "(421, 13)\n"
     ]
    }
   ],
   "source": [
    "print(combine_Data.shape)"
   ]
  },
  {
   "cell_type": "code",
   "execution_count": 62,
   "metadata": {},
   "outputs": [],
   "source": [
    "combine_Data[\"YEAR_MONTH\"] =(combine_Data[\"YEAR\"].astype(str))+ \"-\" + (combine_Data[\"MONTH\"].astype(str))+ \"-01\""
   ]
  },
  {
   "cell_type": "code",
   "execution_count": 132,
   "metadata": {},
   "outputs": [],
   "source": [
    "combine_Data[\"YEAR_MONTH\"]= pd.to_datetime(combine_Data[\"YEAR_MONTH\"],infer_datetime_format=True)"
   ]
  },
  {
   "cell_type": "code",
   "execution_count": 88,
   "metadata": {},
   "outputs": [
    {
     "data": {
      "text/html": [
       "<div>\n",
       "<style scoped>\n",
       "    .dataframe tbody tr th:only-of-type {\n",
       "        vertical-align: middle;\n",
       "    }\n",
       "\n",
       "    .dataframe tbody tr th {\n",
       "        vertical-align: top;\n",
       "    }\n",
       "\n",
       "    .dataframe thead th {\n",
       "        text-align: right;\n",
       "    }\n",
       "</style>\n",
       "<table border=\"1\" class=\"dataframe\">\n",
       "  <thead>\n",
       "    <tr style=\"text-align: right;\">\n",
       "      <th></th>\n",
       "      <th>PASSENGERS</th>\n",
       "      <th>FREIGHT</th>\n",
       "      <th>DISTANCE</th>\n",
       "      <th>UNIQUE_CARRIER_NAME</th>\n",
       "      <th>CARRIER_NAME</th>\n",
       "      <th>ORIGIN</th>\n",
       "      <th>ORIGIN_CITY_NAME</th>\n",
       "      <th>DEST</th>\n",
       "      <th>DEST_CITY_NAME</th>\n",
       "      <th>YEAR</th>\n",
       "      <th>QUARTER</th>\n",
       "      <th>MONTH</th>\n",
       "      <th>DISTANCE_GROUP</th>\n",
       "      <th>YEAR_MONTH</th>\n",
       "    </tr>\n",
       "  </thead>\n",
       "  <tbody>\n",
       "    <tr>\n",
       "      <th>4173</th>\n",
       "      <td>0</td>\n",
       "      <td>0</td>\n",
       "      <td>1947</td>\n",
       "      <td>Atlas Air Inc.</td>\n",
       "      <td>Atlas Air Inc.</td>\n",
       "      <td>ATL</td>\n",
       "      <td>Atlanta, GA</td>\n",
       "      <td>LAX</td>\n",
       "      <td>Los Angeles, CA</td>\n",
       "      <td>2019</td>\n",
       "      <td>4</td>\n",
       "      <td>11</td>\n",
       "      <td>4</td>\n",
       "      <td>2019-11-01</td>\n",
       "    </tr>\n",
       "    <tr>\n",
       "      <th>10965</th>\n",
       "      <td>0</td>\n",
       "      <td>0</td>\n",
       "      <td>762</td>\n",
       "      <td>Miami Air International</td>\n",
       "      <td>Miami Air International</td>\n",
       "      <td>ATL</td>\n",
       "      <td>Atlanta, GA</td>\n",
       "      <td>LGA</td>\n",
       "      <td>New York, NY</td>\n",
       "      <td>2019</td>\n",
       "      <td>4</td>\n",
       "      <td>12</td>\n",
       "      <td>2</td>\n",
       "      <td>2019-12-01</td>\n",
       "    </tr>\n",
       "    <tr>\n",
       "      <th>13433</th>\n",
       "      <td>0</td>\n",
       "      <td>49782</td>\n",
       "      <td>689</td>\n",
       "      <td>Federal Express Corporation</td>\n",
       "      <td>Federal Express Corporation</td>\n",
       "      <td>ATL</td>\n",
       "      <td>Atlanta, GA</td>\n",
       "      <td>IAH</td>\n",
       "      <td>Houston, TX</td>\n",
       "      <td>2019</td>\n",
       "      <td>2</td>\n",
       "      <td>4</td>\n",
       "      <td>2</td>\n",
       "      <td>2019-04-01</td>\n",
       "    </tr>\n",
       "    <tr>\n",
       "      <th>21338</th>\n",
       "      <td>0</td>\n",
       "      <td>1287407</td>\n",
       "      <td>1947</td>\n",
       "      <td>Federal Express Corporation</td>\n",
       "      <td>Federal Express Corporation</td>\n",
       "      <td>ATL</td>\n",
       "      <td>Atlanta, GA</td>\n",
       "      <td>LAX</td>\n",
       "      <td>Los Angeles, CA</td>\n",
       "      <td>2019</td>\n",
       "      <td>4</td>\n",
       "      <td>11</td>\n",
       "      <td>4</td>\n",
       "      <td>2019-11-01</td>\n",
       "    </tr>\n",
       "    <tr>\n",
       "      <th>22145</th>\n",
       "      <td>0</td>\n",
       "      <td>463720</td>\n",
       "      <td>1947</td>\n",
       "      <td>Federal Express Corporation</td>\n",
       "      <td>Federal Express Corporation</td>\n",
       "      <td>ATL</td>\n",
       "      <td>Atlanta, GA</td>\n",
       "      <td>LAX</td>\n",
       "      <td>Los Angeles, CA</td>\n",
       "      <td>2019</td>\n",
       "      <td>4</td>\n",
       "      <td>12</td>\n",
       "      <td>4</td>\n",
       "      <td>2019-12-01</td>\n",
       "    </tr>\n",
       "    <tr>\n",
       "      <th>...</th>\n",
       "      <td>...</td>\n",
       "      <td>...</td>\n",
       "      <td>...</td>\n",
       "      <td>...</td>\n",
       "      <td>...</td>\n",
       "      <td>...</td>\n",
       "      <td>...</td>\n",
       "      <td>...</td>\n",
       "      <td>...</td>\n",
       "      <td>...</td>\n",
       "      <td>...</td>\n",
       "      <td>...</td>\n",
       "      <td>...</td>\n",
       "      <td>...</td>\n",
       "    </tr>\n",
       "    <tr>\n",
       "      <th>191718</th>\n",
       "      <td>29927</td>\n",
       "      <td>274986</td>\n",
       "      <td>1947</td>\n",
       "      <td>Delta Air Lines Inc.</td>\n",
       "      <td>Delta Air Lines Inc.</td>\n",
       "      <td>ATL</td>\n",
       "      <td>Atlanta, GA</td>\n",
       "      <td>LAX</td>\n",
       "      <td>Los Angeles, CA</td>\n",
       "      <td>2020</td>\n",
       "      <td>4</td>\n",
       "      <td>10</td>\n",
       "      <td>4</td>\n",
       "      <td>2020-10-01</td>\n",
       "    </tr>\n",
       "    <tr>\n",
       "      <th>192320</th>\n",
       "      <td>54819</td>\n",
       "      <td>882911</td>\n",
       "      <td>1947</td>\n",
       "      <td>Delta Air Lines Inc.</td>\n",
       "      <td>Delta Air Lines Inc.</td>\n",
       "      <td>ATL</td>\n",
       "      <td>Atlanta, GA</td>\n",
       "      <td>LAX</td>\n",
       "      <td>Los Angeles, CA</td>\n",
       "      <td>2020</td>\n",
       "      <td>1</td>\n",
       "      <td>2</td>\n",
       "      <td>4</td>\n",
       "      <td>2020-02-01</td>\n",
       "    </tr>\n",
       "    <tr>\n",
       "      <th>192325</th>\n",
       "      <td>56010</td>\n",
       "      <td>38826</td>\n",
       "      <td>762</td>\n",
       "      <td>Delta Air Lines Inc.</td>\n",
       "      <td>Delta Air Lines Inc.</td>\n",
       "      <td>ATL</td>\n",
       "      <td>Atlanta, GA</td>\n",
       "      <td>LGA</td>\n",
       "      <td>New York, NY</td>\n",
       "      <td>2020</td>\n",
       "      <td>1</td>\n",
       "      <td>2</td>\n",
       "      <td>2</td>\n",
       "      <td>2020-02-01</td>\n",
       "    </tr>\n",
       "    <tr>\n",
       "      <th>192337</th>\n",
       "      <td>59187</td>\n",
       "      <td>43598</td>\n",
       "      <td>762</td>\n",
       "      <td>Delta Air Lines Inc.</td>\n",
       "      <td>Delta Air Lines Inc.</td>\n",
       "      <td>ATL</td>\n",
       "      <td>Atlanta, GA</td>\n",
       "      <td>LGA</td>\n",
       "      <td>New York, NY</td>\n",
       "      <td>2020</td>\n",
       "      <td>1</td>\n",
       "      <td>1</td>\n",
       "      <td>2</td>\n",
       "      <td>2020-01-01</td>\n",
       "    </tr>\n",
       "    <tr>\n",
       "      <th>192339</th>\n",
       "      <td>60731</td>\n",
       "      <td>749453</td>\n",
       "      <td>1947</td>\n",
       "      <td>Delta Air Lines Inc.</td>\n",
       "      <td>Delta Air Lines Inc.</td>\n",
       "      <td>ATL</td>\n",
       "      <td>Atlanta, GA</td>\n",
       "      <td>LAX</td>\n",
       "      <td>Los Angeles, CA</td>\n",
       "      <td>2020</td>\n",
       "      <td>1</td>\n",
       "      <td>1</td>\n",
       "      <td>4</td>\n",
       "      <td>2020-01-01</td>\n",
       "    </tr>\n",
       "  </tbody>\n",
       "</table>\n",
       "<p>421 rows × 14 columns</p>\n",
       "</div>"
      ],
      "text/plain": [
       "        PASSENGERS  FREIGHT  DISTANCE          UNIQUE_CARRIER_NAME  \\\n",
       "4173             0        0      1947               Atlas Air Inc.   \n",
       "10965            0        0       762      Miami Air International   \n",
       "13433            0    49782       689  Federal Express Corporation   \n",
       "21338            0  1287407      1947  Federal Express Corporation   \n",
       "22145            0   463720      1947  Federal Express Corporation   \n",
       "...            ...      ...       ...                          ...   \n",
       "191718       29927   274986      1947         Delta Air Lines Inc.   \n",
       "192320       54819   882911      1947         Delta Air Lines Inc.   \n",
       "192325       56010    38826       762         Delta Air Lines Inc.   \n",
       "192337       59187    43598       762         Delta Air Lines Inc.   \n",
       "192339       60731   749453      1947         Delta Air Lines Inc.   \n",
       "\n",
       "                       CARRIER_NAME ORIGIN ORIGIN_CITY_NAME DEST  \\\n",
       "4173                 Atlas Air Inc.    ATL      Atlanta, GA  LAX   \n",
       "10965       Miami Air International    ATL      Atlanta, GA  LGA   \n",
       "13433   Federal Express Corporation    ATL      Atlanta, GA  IAH   \n",
       "21338   Federal Express Corporation    ATL      Atlanta, GA  LAX   \n",
       "22145   Federal Express Corporation    ATL      Atlanta, GA  LAX   \n",
       "...                             ...    ...              ...  ...   \n",
       "191718         Delta Air Lines Inc.    ATL      Atlanta, GA  LAX   \n",
       "192320         Delta Air Lines Inc.    ATL      Atlanta, GA  LAX   \n",
       "192325         Delta Air Lines Inc.    ATL      Atlanta, GA  LGA   \n",
       "192337         Delta Air Lines Inc.    ATL      Atlanta, GA  LGA   \n",
       "192339         Delta Air Lines Inc.    ATL      Atlanta, GA  LAX   \n",
       "\n",
       "         DEST_CITY_NAME  YEAR  QUARTER  MONTH  DISTANCE_GROUP YEAR_MONTH  \n",
       "4173    Los Angeles, CA  2019        4     11               4 2019-11-01  \n",
       "10965      New York, NY  2019        4     12               2 2019-12-01  \n",
       "13433       Houston, TX  2019        2      4               2 2019-04-01  \n",
       "21338   Los Angeles, CA  2019        4     11               4 2019-11-01  \n",
       "22145   Los Angeles, CA  2019        4     12               4 2019-12-01  \n",
       "...                 ...   ...      ...    ...             ...        ...  \n",
       "191718  Los Angeles, CA  2020        4     10               4 2020-10-01  \n",
       "192320  Los Angeles, CA  2020        1      2               4 2020-02-01  \n",
       "192325     New York, NY  2020        1      2               2 2020-02-01  \n",
       "192337     New York, NY  2020        1      1               2 2020-01-01  \n",
       "192339  Los Angeles, CA  2020        1      1               4 2020-01-01  \n",
       "\n",
       "[421 rows x 14 columns]"
      ]
     },
     "execution_count": 88,
     "metadata": {},
     "output_type": "execute_result"
    }
   ],
   "source": [
    "combine_Data"
   ]
  },
  {
   "cell_type": "code",
   "execution_count": 89,
   "metadata": {},
   "outputs": [
    {
     "data": {
      "text/html": [
       "<div>\n",
       "<style scoped>\n",
       "    .dataframe tbody tr th:only-of-type {\n",
       "        vertical-align: middle;\n",
       "    }\n",
       "\n",
       "    .dataframe tbody tr th {\n",
       "        vertical-align: top;\n",
       "    }\n",
       "\n",
       "    .dataframe thead th {\n",
       "        text-align: right;\n",
       "    }\n",
       "</style>\n",
       "<table border=\"1\" class=\"dataframe\">\n",
       "  <thead>\n",
       "    <tr style=\"text-align: right;\">\n",
       "      <th></th>\n",
       "      <th>PASSENGERS</th>\n",
       "      <th>FREIGHT</th>\n",
       "      <th>DISTANCE</th>\n",
       "      <th>UNIQUE_CARRIER_NAME</th>\n",
       "      <th>CARRIER_NAME</th>\n",
       "      <th>ORIGIN</th>\n",
       "      <th>ORIGIN_CITY_NAME</th>\n",
       "      <th>DEST</th>\n",
       "      <th>DEST_CITY_NAME</th>\n",
       "      <th>YEAR</th>\n",
       "      <th>QUARTER</th>\n",
       "      <th>MONTH</th>\n",
       "      <th>DISTANCE_GROUP</th>\n",
       "      <th>YEAR_MONTH</th>\n",
       "    </tr>\n",
       "  </thead>\n",
       "  <tbody>\n",
       "    <tr>\n",
       "      <th>4173</th>\n",
       "      <td>0</td>\n",
       "      <td>0</td>\n",
       "      <td>1947</td>\n",
       "      <td>Atlas Air Inc.</td>\n",
       "      <td>Atlas Air Inc.</td>\n",
       "      <td>ATL</td>\n",
       "      <td>Atlanta, GA</td>\n",
       "      <td>LAX</td>\n",
       "      <td>Los Angeles, CA</td>\n",
       "      <td>2019</td>\n",
       "      <td>4</td>\n",
       "      <td>11</td>\n",
       "      <td>4</td>\n",
       "      <td>2019-11-01</td>\n",
       "    </tr>\n",
       "    <tr>\n",
       "      <th>10965</th>\n",
       "      <td>0</td>\n",
       "      <td>0</td>\n",
       "      <td>762</td>\n",
       "      <td>Miami Air International</td>\n",
       "      <td>Miami Air International</td>\n",
       "      <td>ATL</td>\n",
       "      <td>Atlanta, GA</td>\n",
       "      <td>LGA</td>\n",
       "      <td>New York, NY</td>\n",
       "      <td>2019</td>\n",
       "      <td>4</td>\n",
       "      <td>12</td>\n",
       "      <td>2</td>\n",
       "      <td>2019-12-01</td>\n",
       "    </tr>\n",
       "    <tr>\n",
       "      <th>13433</th>\n",
       "      <td>0</td>\n",
       "      <td>49782</td>\n",
       "      <td>689</td>\n",
       "      <td>Federal Express Corporation</td>\n",
       "      <td>Federal Express Corporation</td>\n",
       "      <td>ATL</td>\n",
       "      <td>Atlanta, GA</td>\n",
       "      <td>IAH</td>\n",
       "      <td>Houston, TX</td>\n",
       "      <td>2019</td>\n",
       "      <td>2</td>\n",
       "      <td>4</td>\n",
       "      <td>2</td>\n",
       "      <td>2019-04-01</td>\n",
       "    </tr>\n",
       "    <tr>\n",
       "      <th>21338</th>\n",
       "      <td>0</td>\n",
       "      <td>1287407</td>\n",
       "      <td>1947</td>\n",
       "      <td>Federal Express Corporation</td>\n",
       "      <td>Federal Express Corporation</td>\n",
       "      <td>ATL</td>\n",
       "      <td>Atlanta, GA</td>\n",
       "      <td>LAX</td>\n",
       "      <td>Los Angeles, CA</td>\n",
       "      <td>2019</td>\n",
       "      <td>4</td>\n",
       "      <td>11</td>\n",
       "      <td>4</td>\n",
       "      <td>2019-11-01</td>\n",
       "    </tr>\n",
       "    <tr>\n",
       "      <th>22145</th>\n",
       "      <td>0</td>\n",
       "      <td>463720</td>\n",
       "      <td>1947</td>\n",
       "      <td>Federal Express Corporation</td>\n",
       "      <td>Federal Express Corporation</td>\n",
       "      <td>ATL</td>\n",
       "      <td>Atlanta, GA</td>\n",
       "      <td>LAX</td>\n",
       "      <td>Los Angeles, CA</td>\n",
       "      <td>2019</td>\n",
       "      <td>4</td>\n",
       "      <td>12</td>\n",
       "      <td>4</td>\n",
       "      <td>2019-12-01</td>\n",
       "    </tr>\n",
       "    <tr>\n",
       "      <th>...</th>\n",
       "      <td>...</td>\n",
       "      <td>...</td>\n",
       "      <td>...</td>\n",
       "      <td>...</td>\n",
       "      <td>...</td>\n",
       "      <td>...</td>\n",
       "      <td>...</td>\n",
       "      <td>...</td>\n",
       "      <td>...</td>\n",
       "      <td>...</td>\n",
       "      <td>...</td>\n",
       "      <td>...</td>\n",
       "      <td>...</td>\n",
       "      <td>...</td>\n",
       "    </tr>\n",
       "    <tr>\n",
       "      <th>191718</th>\n",
       "      <td>29927</td>\n",
       "      <td>274986</td>\n",
       "      <td>1947</td>\n",
       "      <td>Delta Air Lines Inc.</td>\n",
       "      <td>Delta Air Lines Inc.</td>\n",
       "      <td>ATL</td>\n",
       "      <td>Atlanta, GA</td>\n",
       "      <td>LAX</td>\n",
       "      <td>Los Angeles, CA</td>\n",
       "      <td>2020</td>\n",
       "      <td>4</td>\n",
       "      <td>10</td>\n",
       "      <td>4</td>\n",
       "      <td>2020-10-01</td>\n",
       "    </tr>\n",
       "    <tr>\n",
       "      <th>192320</th>\n",
       "      <td>54819</td>\n",
       "      <td>882911</td>\n",
       "      <td>1947</td>\n",
       "      <td>Delta Air Lines Inc.</td>\n",
       "      <td>Delta Air Lines Inc.</td>\n",
       "      <td>ATL</td>\n",
       "      <td>Atlanta, GA</td>\n",
       "      <td>LAX</td>\n",
       "      <td>Los Angeles, CA</td>\n",
       "      <td>2020</td>\n",
       "      <td>1</td>\n",
       "      <td>2</td>\n",
       "      <td>4</td>\n",
       "      <td>2020-02-01</td>\n",
       "    </tr>\n",
       "    <tr>\n",
       "      <th>192325</th>\n",
       "      <td>56010</td>\n",
       "      <td>38826</td>\n",
       "      <td>762</td>\n",
       "      <td>Delta Air Lines Inc.</td>\n",
       "      <td>Delta Air Lines Inc.</td>\n",
       "      <td>ATL</td>\n",
       "      <td>Atlanta, GA</td>\n",
       "      <td>LGA</td>\n",
       "      <td>New York, NY</td>\n",
       "      <td>2020</td>\n",
       "      <td>1</td>\n",
       "      <td>2</td>\n",
       "      <td>2</td>\n",
       "      <td>2020-02-01</td>\n",
       "    </tr>\n",
       "    <tr>\n",
       "      <th>192337</th>\n",
       "      <td>59187</td>\n",
       "      <td>43598</td>\n",
       "      <td>762</td>\n",
       "      <td>Delta Air Lines Inc.</td>\n",
       "      <td>Delta Air Lines Inc.</td>\n",
       "      <td>ATL</td>\n",
       "      <td>Atlanta, GA</td>\n",
       "      <td>LGA</td>\n",
       "      <td>New York, NY</td>\n",
       "      <td>2020</td>\n",
       "      <td>1</td>\n",
       "      <td>1</td>\n",
       "      <td>2</td>\n",
       "      <td>2020-01-01</td>\n",
       "    </tr>\n",
       "    <tr>\n",
       "      <th>192339</th>\n",
       "      <td>60731</td>\n",
       "      <td>749453</td>\n",
       "      <td>1947</td>\n",
       "      <td>Delta Air Lines Inc.</td>\n",
       "      <td>Delta Air Lines Inc.</td>\n",
       "      <td>ATL</td>\n",
       "      <td>Atlanta, GA</td>\n",
       "      <td>LAX</td>\n",
       "      <td>Los Angeles, CA</td>\n",
       "      <td>2020</td>\n",
       "      <td>1</td>\n",
       "      <td>1</td>\n",
       "      <td>4</td>\n",
       "      <td>2020-01-01</td>\n",
       "    </tr>\n",
       "  </tbody>\n",
       "</table>\n",
       "<p>421 rows × 14 columns</p>\n",
       "</div>"
      ],
      "text/plain": [
       "        PASSENGERS  FREIGHT  DISTANCE          UNIQUE_CARRIER_NAME  \\\n",
       "4173             0        0      1947               Atlas Air Inc.   \n",
       "10965            0        0       762      Miami Air International   \n",
       "13433            0    49782       689  Federal Express Corporation   \n",
       "21338            0  1287407      1947  Federal Express Corporation   \n",
       "22145            0   463720      1947  Federal Express Corporation   \n",
       "...            ...      ...       ...                          ...   \n",
       "191718       29927   274986      1947         Delta Air Lines Inc.   \n",
       "192320       54819   882911      1947         Delta Air Lines Inc.   \n",
       "192325       56010    38826       762         Delta Air Lines Inc.   \n",
       "192337       59187    43598       762         Delta Air Lines Inc.   \n",
       "192339       60731   749453      1947         Delta Air Lines Inc.   \n",
       "\n",
       "                       CARRIER_NAME ORIGIN ORIGIN_CITY_NAME DEST  \\\n",
       "4173                 Atlas Air Inc.    ATL      Atlanta, GA  LAX   \n",
       "10965       Miami Air International    ATL      Atlanta, GA  LGA   \n",
       "13433   Federal Express Corporation    ATL      Atlanta, GA  IAH   \n",
       "21338   Federal Express Corporation    ATL      Atlanta, GA  LAX   \n",
       "22145   Federal Express Corporation    ATL      Atlanta, GA  LAX   \n",
       "...                             ...    ...              ...  ...   \n",
       "191718         Delta Air Lines Inc.    ATL      Atlanta, GA  LAX   \n",
       "192320         Delta Air Lines Inc.    ATL      Atlanta, GA  LAX   \n",
       "192325         Delta Air Lines Inc.    ATL      Atlanta, GA  LGA   \n",
       "192337         Delta Air Lines Inc.    ATL      Atlanta, GA  LGA   \n",
       "192339         Delta Air Lines Inc.    ATL      Atlanta, GA  LAX   \n",
       "\n",
       "         DEST_CITY_NAME  YEAR  QUARTER  MONTH  DISTANCE_GROUP YEAR_MONTH  \n",
       "4173    Los Angeles, CA  2019        4     11               4 2019-11-01  \n",
       "10965      New York, NY  2019        4     12               2 2019-12-01  \n",
       "13433       Houston, TX  2019        2      4               2 2019-04-01  \n",
       "21338   Los Angeles, CA  2019        4     11               4 2019-11-01  \n",
       "22145   Los Angeles, CA  2019        4     12               4 2019-12-01  \n",
       "...                 ...   ...      ...    ...             ...        ...  \n",
       "191718  Los Angeles, CA  2020        4     10               4 2020-10-01  \n",
       "192320  Los Angeles, CA  2020        1      2               4 2020-02-01  \n",
       "192325     New York, NY  2020        1      2               2 2020-02-01  \n",
       "192337     New York, NY  2020        1      1               2 2020-01-01  \n",
       "192339  Los Angeles, CA  2020        1      1               4 2020-01-01  \n",
       "\n",
       "[421 rows x 14 columns]"
      ]
     },
     "execution_count": 89,
     "metadata": {},
     "output_type": "execute_result"
    }
   ],
   "source": [
    "combine_Data"
   ]
  },
  {
   "cell_type": "markdown",
   "metadata": {},
   "source": []
  },
  {
   "cell_type": "code",
   "execution_count": 90,
   "metadata": {},
   "outputs": [
    {
     "name": "stdout",
     "output_type": "stream",
     "text": [
      "Requirement already satisfied: plotly in c:\\users\\husse\\.conda\\envs\\pythondata\\lib\\site-packages (4.14.3)\n",
      "Requirement already satisfied: retrying>=1.3.3 in c:\\users\\husse\\.conda\\envs\\pythondata\\lib\\site-packages (from plotly) (1.3.3)\n",
      "Requirement already satisfied: six in c:\\users\\husse\\.conda\\envs\\pythondata\\lib\\site-packages (from plotly) (1.15.0)\n"
     ]
    }
   ],
   "source": [
    "!pip install plotly"
   ]
  },
  {
   "cell_type": "code",
   "execution_count": 133,
   "metadata": {},
   "outputs": [
    {
     "data": {
      "application/vnd.plotly.v1+json": {
       "config": {
        "plotlyServerURL": "https://plot.ly"
       },
       "data": [
        {
         "alignmentgroup": "True",
         "hovertemplate": "CARRIER_NAME=Atlas Air Inc.<br>YEAR_MONTH=%{x}<br>PASSENGERS=%{y}<extra></extra>",
         "legendgroup": "Atlas Air Inc.",
         "marker": {
          "color": "#636efa"
         },
         "name": "Atlas Air Inc.",
         "offsetgroup": "Atlas Air Inc.",
         "orientation": "v",
         "showlegend": true,
         "textposition": "auto",
         "type": "bar",
         "x": [
          "2019-11-01T00:00:00"
         ],
         "xaxis": "x",
         "y": [
          0
         ],
         "yaxis": "y"
        },
        {
         "alignmentgroup": "True",
         "hovertemplate": "CARRIER_NAME=Miami Air International<br>YEAR_MONTH=%{x}<br>PASSENGERS=%{y}<extra></extra>",
         "legendgroup": "Miami Air International",
         "marker": {
          "color": "#EF553B"
         },
         "name": "Miami Air International",
         "offsetgroup": "Miami Air International",
         "orientation": "v",
         "showlegend": true,
         "textposition": "auto",
         "type": "bar",
         "x": [
          "2019-12-01T00:00:00",
          "2019-11-01T00:00:00"
         ],
         "xaxis": "x",
         "y": [
          0,
          0
         ],
         "yaxis": "y"
        },
        {
         "alignmentgroup": "True",
         "hovertemplate": "CARRIER_NAME=Federal Express Corporation<br>YEAR_MONTH=%{x}<br>PASSENGERS=%{y}<extra></extra>",
         "legendgroup": "Federal Express Corporation",
         "marker": {
          "color": "#00cc96"
         },
         "name": "Federal Express Corporation",
         "offsetgroup": "Federal Express Corporation",
         "orientation": "v",
         "showlegend": true,
         "textposition": "auto",
         "type": "bar",
         "x": [
          "2019-04-01T00:00:00",
          "2019-11-01T00:00:00",
          "2019-12-01T00:00:00",
          "2019-09-01T00:00:00",
          "2019-05-01T00:00:00"
         ],
         "xaxis": "x",
         "y": [
          0,
          0,
          0,
          0,
          0
         ],
         "yaxis": "y"
        },
        {
         "alignmentgroup": "True",
         "hovertemplate": "CARRIER_NAME=United Air Lines Inc.<br>YEAR_MONTH=%{x}<br>PASSENGERS=%{y}<extra></extra>",
         "legendgroup": "United Air Lines Inc.",
         "marker": {
          "color": "#ab63fa"
         },
         "name": "United Air Lines Inc.",
         "offsetgroup": "United Air Lines Inc.",
         "orientation": "v",
         "showlegend": true,
         "textposition": "auto",
         "type": "bar",
         "x": [
          "2019-07-01T00:00:00",
          "2019-01-01T00:00:00",
          "2019-09-01T00:00:00",
          "2019-03-01T00:00:00",
          "2019-10-01T00:00:00",
          "2019-11-01T00:00:00",
          "2019-08-01T00:00:00",
          "2019-06-01T00:00:00",
          "2019-01-01T00:00:00",
          "2019-10-01T00:00:00",
          "2019-02-01T00:00:00",
          "2019-02-01T00:00:00",
          "2019-02-01T00:00:00",
          "2019-11-01T00:00:00",
          "2019-12-01T00:00:00",
          "2020-01-01T00:00:00",
          "2020-06-01T00:00:00",
          "2020-03-01T00:00:00",
          "2020-07-01T00:00:00",
          "2020-08-01T00:00:00",
          "2020-01-01T00:00:00",
          "2020-02-01T00:00:00",
          "2020-09-01T00:00:00",
          "2020-11-01T00:00:00",
          "2020-12-01T00:00:00",
          "2020-10-01T00:00:00"
         ],
         "xaxis": "x",
         "y": [
          0,
          0,
          0,
          4,
          10,
          47,
          115,
          121,
          142,
          493,
          817,
          1108,
          1592,
          2600,
          2719,
          3,
          92,
          1441,
          1551,
          2076,
          2499,
          2591,
          2982,
          3244,
          3467,
          5328
         ],
         "yaxis": "y"
        },
        {
         "alignmentgroup": "True",
         "hovertemplate": "CARRIER_NAME=Endeavor Air Inc.<br>YEAR_MONTH=%{x}<br>PASSENGERS=%{y}<extra></extra>",
         "legendgroup": "Endeavor Air Inc.",
         "marker": {
          "color": "#FFA15A"
         },
         "name": "Endeavor Air Inc.",
         "offsetgroup": "Endeavor Air Inc.",
         "orientation": "v",
         "showlegend": true,
         "textposition": "auto",
         "type": "bar",
         "x": [
          "2019-06-01T00:00:00",
          "2020-11-01T00:00:00",
          "2020-12-01T00:00:00"
         ],
         "xaxis": "x",
         "y": [
          10,
          933,
          7074
         ],
         "yaxis": "y"
        },
        {
         "alignmentgroup": "True",
         "hovertemplate": "CARRIER_NAME=ExpressJet Airlines Inc.<br>YEAR_MONTH=%{x}<br>PASSENGERS=%{y}<extra></extra>",
         "legendgroup": "ExpressJet Airlines Inc.",
         "marker": {
          "color": "#19d3f3"
         },
         "name": "ExpressJet Airlines Inc.",
         "offsetgroup": "ExpressJet Airlines Inc.",
         "orientation": "v",
         "showlegend": true,
         "textposition": "auto",
         "type": "bar",
         "x": [
          "2019-02-01T00:00:00",
          "2019-01-01T00:00:00"
         ],
         "xaxis": "x",
         "y": [
          45,
          113
         ],
         "yaxis": "y"
        },
        {
         "alignmentgroup": "True",
         "hovertemplate": "CARRIER_NAME=Delta Air Lines Inc.<br>YEAR_MONTH=%{x}<br>PASSENGERS=%{y}<extra></extra>",
         "legendgroup": "Delta Air Lines Inc.",
         "marker": {
          "color": "#FF6692"
         },
         "name": "Delta Air Lines Inc.",
         "offsetgroup": "Delta Air Lines Inc.",
         "orientation": "v",
         "showlegend": true,
         "textposition": "auto",
         "type": "bar",
         "x": [
          "2019-02-01T00:00:00",
          "2019-02-01T00:00:00",
          "2019-02-01T00:00:00",
          "2019-10-01T00:00:00",
          "2019-02-01T00:00:00",
          "2019-01-01T00:00:00",
          "2019-09-01T00:00:00",
          "2019-03-01T00:00:00",
          "2019-11-01T00:00:00",
          "2019-04-01T00:00:00",
          "2019-10-01T00:00:00",
          "2019-12-01T00:00:00",
          "2019-08-01T00:00:00",
          "2019-07-01T00:00:00",
          "2019-05-01T00:00:00",
          "2019-06-01T00:00:00",
          "2019-02-01T00:00:00",
          "2019-01-01T00:00:00",
          "2019-09-01T00:00:00",
          "2019-11-01T00:00:00",
          "2019-12-01T00:00:00",
          "2019-10-01T00:00:00",
          "2019-03-01T00:00:00",
          "2019-04-01T00:00:00",
          "2019-05-01T00:00:00",
          "2019-06-01T00:00:00",
          "2019-08-01T00:00:00",
          "2019-07-01T00:00:00",
          "2019-02-01T00:00:00",
          "2019-11-01T00:00:00",
          "2019-01-01T00:00:00",
          "2019-02-01T00:00:00",
          "2019-09-01T00:00:00",
          "2019-10-01T00:00:00",
          "2019-01-01T00:00:00",
          "2019-12-01T00:00:00",
          "2019-04-01T00:00:00",
          "2019-03-01T00:00:00",
          "2019-11-01T00:00:00",
          "2019-09-01T00:00:00",
          "2019-03-01T00:00:00",
          "2019-04-01T00:00:00",
          "2019-06-01T00:00:00",
          "2019-05-01T00:00:00",
          "2019-10-01T00:00:00",
          "2019-08-01T00:00:00",
          "2019-07-01T00:00:00",
          "2019-06-01T00:00:00",
          "2019-05-01T00:00:00",
          "2019-08-01T00:00:00",
          "2019-07-01T00:00:00",
          "2019-12-01T00:00:00",
          "2020-04-01T00:00:00",
          "2020-10-01T00:00:00",
          "2020-12-01T00:00:00",
          "2020-04-01T00:00:00",
          "2020-12-01T00:00:00",
          "2020-04-01T00:00:00",
          "2020-05-01T00:00:00",
          "2020-06-01T00:00:00",
          "2020-05-01T00:00:00",
          "2020-07-01T00:00:00",
          "2020-04-01T00:00:00",
          "2020-06-01T00:00:00",
          "2020-07-01T00:00:00",
          "2020-08-01T00:00:00",
          "2020-05-01T00:00:00",
          "2020-04-01T00:00:00",
          "2020-09-01T00:00:00",
          "2020-11-01T00:00:00",
          "2020-08-01T00:00:00",
          "2020-03-01T00:00:00",
          "2020-10-01T00:00:00",
          "2020-09-01T00:00:00",
          "2020-10-01T00:00:00",
          "2020-11-01T00:00:00",
          "2020-05-01T00:00:00",
          "2020-06-01T00:00:00",
          "2020-12-01T00:00:00",
          "2020-03-01T00:00:00",
          "2020-02-01T00:00:00",
          "2020-07-01T00:00:00",
          "2020-11-01T00:00:00",
          "2020-01-01T00:00:00",
          "2020-06-01T00:00:00",
          "2020-12-01T00:00:00",
          "2020-08-01T00:00:00",
          "2020-10-01T00:00:00",
          "2020-09-01T00:00:00",
          "2020-07-01T00:00:00",
          "2020-03-01T00:00:00",
          "2020-02-01T00:00:00",
          "2020-01-01T00:00:00",
          "2020-08-01T00:00:00",
          "2020-09-01T00:00:00",
          "2020-12-01T00:00:00",
          "2020-03-01T00:00:00",
          "2020-11-01T00:00:00",
          "2020-10-01T00:00:00",
          "2020-02-01T00:00:00",
          "2020-02-01T00:00:00",
          "2020-01-01T00:00:00",
          "2020-01-01T00:00:00"
         ],
         "xaxis": "x",
         "y": [
          46,
          51,
          119,
          151,
          15290,
          15695,
          16777,
          17410,
          17449,
          17597,
          18135,
          18323,
          19158,
          19560,
          19959,
          20865,
          24193,
          25073,
          25623,
          29337,
          29656,
          29805,
          29959,
          30490,
          31271,
          31551,
          32889,
          33109,
          53509,
          54199,
          54809,
          56923,
          57201,
          58748,
          60466,
          64793,
          65328,
          66148,
          67439,
          67738,
          68153,
          68939,
          70760,
          70879,
          71033,
          71557,
          71932,
          72275,
          74346,
          75159,
          75863,
          77735,
          0,
          110,
          128,
          859,
          859,
          1671,
          2497,
          3342,
          3693,
          3741,
          4319,
          4878,
          5037,
          5716,
          6462,
          6598,
          6817,
          7134,
          7692,
          7793,
          8059,
          8357,
          9355,
          10167,
          11187,
          12047,
          12640,
          14859,
          14885,
          15390,
          16038,
          16088,
          16658,
          16703,
          17478,
          18373,
          19362,
          21958,
          25544,
          26846,
          27590,
          28869,
          29029,
          29356,
          29447,
          29452,
          29927,
          54819,
          56010,
          59187,
          60731
         ],
         "yaxis": "y"
        },
        {
         "alignmentgroup": "True",
         "hovertemplate": "CARRIER_NAME=SkyWest Airlines Inc.<br>YEAR_MONTH=%{x}<br>PASSENGERS=%{y}<extra></extra>",
         "legendgroup": "SkyWest Airlines Inc.",
         "marker": {
          "color": "#B6E880"
         },
         "name": "SkyWest Airlines Inc.",
         "offsetgroup": "SkyWest Airlines Inc.",
         "orientation": "v",
         "showlegend": true,
         "textposition": "auto",
         "type": "bar",
         "x": [
          "2019-01-01T00:00:00",
          "2019-04-01T00:00:00",
          "2019-08-01T00:00:00",
          "2019-10-01T00:00:00",
          "2019-12-01T00:00:00",
          "2019-06-01T00:00:00",
          "2019-05-01T00:00:00",
          "2019-09-01T00:00:00",
          "2019-11-01T00:00:00",
          "2020-04-01T00:00:00",
          "2020-01-01T00:00:00",
          "2020-03-01T00:00:00",
          "2020-02-01T00:00:00",
          "2020-07-01T00:00:00",
          "2020-08-01T00:00:00",
          "2020-06-01T00:00:00",
          "2020-09-01T00:00:00",
          "2020-11-01T00:00:00",
          "2020-10-01T00:00:00",
          "2020-12-01T00:00:00"
         ],
         "xaxis": "x",
         "y": [
          55,
          140,
          663,
          927,
          940,
          1147,
          1310,
          1543,
          3055,
          6,
          632,
          1131,
          1210,
          1316,
          1390,
          1504,
          1700,
          1734,
          2132,
          2609
         ],
         "yaxis": "y"
        },
        {
         "alignmentgroup": "True",
         "hovertemplate": "CARRIER_NAME=Republic Airline<br>YEAR_MONTH=%{x}<br>PASSENGERS=%{y}<extra></extra>",
         "legendgroup": "Republic Airline",
         "marker": {
          "color": "#FF97FF"
         },
         "name": "Republic Airline",
         "offsetgroup": "Republic Airline",
         "orientation": "v",
         "showlegend": true,
         "textposition": "auto",
         "type": "bar",
         "x": [
          "2019-11-01T00:00:00",
          "2019-09-01T00:00:00",
          "2019-10-01T00:00:00",
          "2019-12-01T00:00:00",
          "2019-05-01T00:00:00",
          "2019-08-01T00:00:00",
          "2019-02-01T00:00:00",
          "2019-07-01T00:00:00",
          "2019-01-01T00:00:00",
          "2019-11-01T00:00:00",
          "2019-09-01T00:00:00",
          "2019-06-01T00:00:00",
          "2019-10-01T00:00:00",
          "2019-07-01T00:00:00",
          "2019-12-01T00:00:00",
          "2019-04-01T00:00:00",
          "2019-03-01T00:00:00",
          "2019-08-01T00:00:00",
          "2019-06-01T00:00:00",
          "2019-05-01T00:00:00",
          "2019-02-01T00:00:00",
          "2019-01-01T00:00:00",
          "2019-03-01T00:00:00",
          "2019-04-01T00:00:00",
          "2020-04-01T00:00:00",
          "2020-03-01T00:00:00",
          "2020-01-01T00:00:00",
          "2020-03-01T00:00:00",
          "2020-01-01T00:00:00",
          "2020-02-01T00:00:00"
         ],
         "xaxis": "x",
         "y": [
          132,
          350,
          1058,
          1674,
          1815,
          3155,
          3163,
          3426,
          3436,
          3612,
          3662,
          3711,
          3738,
          3753,
          3839,
          3868,
          3947,
          4099,
          4306,
          4700,
          5668,
          5885,
          6080,
          6420,
          44,
          97,
          405,
          1630,
          3091,
          3251
         ],
         "yaxis": "y"
        },
        {
         "alignmentgroup": "True",
         "hovertemplate": "CARRIER_NAME=American Airlines Inc.<br>YEAR_MONTH=%{x}<br>PASSENGERS=%{y}<extra></extra>",
         "legendgroup": "American Airlines Inc.",
         "marker": {
          "color": "#FECB52"
         },
         "name": "American Airlines Inc.",
         "offsetgroup": "American Airlines Inc.",
         "orientation": "v",
         "showlegend": true,
         "textposition": "auto",
         "type": "bar",
         "x": [
          "2019-04-01T00:00:00",
          "2019-02-01T00:00:00",
          "2019-02-01T00:00:00",
          "2019-01-01T00:00:00",
          "2019-11-01T00:00:00",
          "2019-03-01T00:00:00",
          "2019-04-01T00:00:00",
          "2019-07-01T00:00:00",
          "2019-12-01T00:00:00",
          "2019-10-01T00:00:00",
          "2019-09-01T00:00:00",
          "2019-06-01T00:00:00",
          "2019-08-01T00:00:00",
          "2019-05-01T00:00:00",
          "2019-04-01T00:00:00",
          "2019-08-01T00:00:00",
          "2019-09-01T00:00:00",
          "2019-02-01T00:00:00",
          "2019-01-01T00:00:00",
          "2019-03-01T00:00:00",
          "2019-11-01T00:00:00",
          "2019-07-01T00:00:00",
          "2019-05-01T00:00:00",
          "2019-06-01T00:00:00",
          "2019-10-01T00:00:00",
          "2019-12-01T00:00:00",
          "2020-04-01T00:00:00",
          "2020-12-01T00:00:00",
          "2020-04-01T00:00:00",
          "2020-03-01T00:00:00",
          "2020-01-01T00:00:00",
          "2020-02-01T00:00:00",
          "2020-03-01T00:00:00",
          "2020-02-01T00:00:00",
          "2020-01-01T00:00:00"
         ],
         "xaxis": "x",
         "y": [
          141,
          184,
          4391,
          4776,
          4994,
          5013,
          5083,
          5696,
          5754,
          6138,
          6196,
          6552,
          6777,
          6884,
          9038,
          10775,
          11405,
          11666,
          11898,
          11902,
          12324,
          12611,
          13159,
          13159,
          13378,
          16698,
          41,
          66,
          317,
          2244,
          4283,
          4602,
          6815,
          12140,
          12602
         ],
         "yaxis": "y"
        },
        {
         "alignmentgroup": "True",
         "hovertemplate": "CARRIER_NAME=ExpressJet Airlines LLC<br>YEAR_MONTH=%{x}<br>PASSENGERS=%{y}<extra></extra>",
         "legendgroup": "ExpressJet Airlines LLC",
         "marker": {
          "color": "#636efa"
         },
         "name": "ExpressJet Airlines LLC",
         "offsetgroup": "ExpressJet Airlines LLC",
         "orientation": "v",
         "showlegend": true,
         "textposition": "auto",
         "type": "bar",
         "x": [
          "2019-11-01T00:00:00",
          "2019-12-01T00:00:00",
          "2019-09-01T00:00:00",
          "2019-10-01T00:00:00",
          "2019-06-01T00:00:00",
          "2019-08-01T00:00:00",
          "2019-07-01T00:00:00",
          "2020-05-01T00:00:00",
          "2020-04-01T00:00:00",
          "2020-03-01T00:00:00",
          "2020-02-01T00:00:00",
          "2020-01-01T00:00:00"
         ],
         "xaxis": "x",
         "y": [
          1761,
          1883,
          1957,
          2025,
          2480,
          4182,
          5691,
          121,
          443,
          1195,
          2843,
          5210
         ],
         "yaxis": "y"
        },
        {
         "alignmentgroup": "True",
         "hovertemplate": "CARRIER_NAME=Frontier Airlines Inc.<br>YEAR_MONTH=%{x}<br>PASSENGERS=%{y}<extra></extra>",
         "legendgroup": "Frontier Airlines Inc.",
         "marker": {
          "color": "#EF553B"
         },
         "name": "Frontier Airlines Inc.",
         "offsetgroup": "Frontier Airlines Inc.",
         "orientation": "v",
         "showlegend": true,
         "textposition": "auto",
         "type": "bar",
         "x": [
          "2019-02-01T00:00:00",
          "2019-11-01T00:00:00",
          "2019-04-01T00:00:00",
          "2019-09-01T00:00:00",
          "2019-10-01T00:00:00",
          "2019-01-01T00:00:00",
          "2019-07-01T00:00:00",
          "2019-03-01T00:00:00",
          "2019-08-01T00:00:00",
          "2019-05-01T00:00:00",
          "2019-06-01T00:00:00",
          "2019-12-01T00:00:00",
          "2019-01-01T00:00:00",
          "2019-10-01T00:00:00",
          "2019-03-01T00:00:00",
          "2019-02-01T00:00:00",
          "2019-09-01T00:00:00",
          "2019-04-01T00:00:00",
          "2019-11-01T00:00:00",
          "2019-08-01T00:00:00",
          "2019-05-01T00:00:00",
          "2019-06-01T00:00:00",
          "2019-07-01T00:00:00",
          "2019-12-01T00:00:00",
          "2020-06-01T00:00:00",
          "2020-03-01T00:00:00",
          "2020-08-01T00:00:00",
          "2020-02-01T00:00:00",
          "2020-01-01T00:00:00",
          "2020-09-01T00:00:00",
          "2020-03-01T00:00:00",
          "2020-10-01T00:00:00",
          "2020-07-01T00:00:00",
          "2020-11-01T00:00:00",
          "2020-12-01T00:00:00",
          "2020-02-01T00:00:00",
          "2020-01-01T00:00:00"
         ],
         "xaxis": "x",
         "y": [
          1856,
          1938,
          1946,
          1959,
          2039,
          2068,
          2096,
          2158,
          2171,
          2177,
          2187,
          2396,
          4134,
          4369,
          4379,
          4416,
          4426,
          4546,
          4744,
          4784,
          4842,
          4939,
          4947,
          5160,
          273,
          1171,
          1494,
          1570,
          1759,
          2131,
          2360,
          2522,
          2611,
          2789,
          3107,
          3724,
          3834
         ],
         "yaxis": "y"
        },
        {
         "alignmentgroup": "True",
         "hovertemplate": "CARRIER_NAME=Spirit Air Lines<br>YEAR_MONTH=%{x}<br>PASSENGERS=%{y}<extra></extra>",
         "legendgroup": "Spirit Air Lines",
         "marker": {
          "color": "#00cc96"
         },
         "name": "Spirit Air Lines",
         "offsetgroup": "Spirit Air Lines",
         "orientation": "v",
         "showlegend": true,
         "textposition": "auto",
         "type": "bar",
         "x": [
          "2019-01-01T00:00:00",
          "2019-02-01T00:00:00",
          "2019-04-01T00:00:00",
          "2019-03-01T00:00:00",
          "2019-12-01T00:00:00",
          "2019-07-01T00:00:00",
          "2019-08-01T00:00:00",
          "2019-06-01T00:00:00",
          "2019-09-01T00:00:00",
          "2019-11-01T00:00:00",
          "2019-05-01T00:00:00",
          "2019-02-01T00:00:00",
          "2019-10-01T00:00:00",
          "2019-01-01T00:00:00",
          "2019-12-01T00:00:00",
          "2019-09-01T00:00:00",
          "2019-11-01T00:00:00",
          "2019-10-01T00:00:00",
          "2019-07-01T00:00:00",
          "2019-06-01T00:00:00",
          "2019-08-01T00:00:00",
          "2019-04-01T00:00:00",
          "2019-05-01T00:00:00",
          "2019-03-01T00:00:00",
          "2020-04-01T00:00:00",
          "2020-04-01T00:00:00",
          "2020-06-01T00:00:00",
          "2020-03-01T00:00:00",
          "2020-02-01T00:00:00",
          "2020-01-01T00:00:00",
          "2020-03-01T00:00:00",
          "2020-09-01T00:00:00",
          "2020-06-01T00:00:00",
          "2020-10-01T00:00:00",
          "2020-12-01T00:00:00",
          "2020-07-01T00:00:00",
          "2020-02-01T00:00:00",
          "2020-08-01T00:00:00",
          "2020-01-01T00:00:00",
          "2020-11-01T00:00:00",
          "2020-09-01T00:00:00",
          "2020-08-01T00:00:00",
          "2020-12-01T00:00:00",
          "2020-07-01T00:00:00",
          "2020-10-01T00:00:00",
          "2020-11-01T00:00:00"
         ],
         "xaxis": "x",
         "y": [
          2774,
          3237,
          3470,
          3552,
          3690,
          4037,
          4135,
          4313,
          4332,
          4439,
          4689,
          4744,
          4859,
          4870,
          4984,
          5058,
          5165,
          5343,
          5482,
          5691,
          5699,
          5819,
          5948,
          6150,
          82,
          421,
          1319,
          2490,
          3096,
          3141,
          3228,
          3555,
          4002,
          4129,
          4208,
          4528,
          4760,
          4827,
          5235,
          5299,
          8849,
          9105,
          9245,
          9257,
          9883,
          11092
         ],
         "yaxis": "y"
        },
        {
         "alignmentgroup": "True",
         "hovertemplate": "CARRIER_NAME=Mesa Airlines Inc.<br>YEAR_MONTH=%{x}<br>PASSENGERS=%{y}<extra></extra>",
         "legendgroup": "Mesa Airlines Inc.",
         "marker": {
          "color": "#ab63fa"
         },
         "name": "Mesa Airlines Inc.",
         "offsetgroup": "Mesa Airlines Inc.",
         "orientation": "v",
         "showlegend": true,
         "textposition": "auto",
         "type": "bar",
         "x": [
          "2019-07-01T00:00:00",
          "2019-06-01T00:00:00",
          "2019-08-01T00:00:00",
          "2019-02-01T00:00:00",
          "2019-11-01T00:00:00",
          "2019-12-01T00:00:00",
          "2019-04-01T00:00:00",
          "2019-05-01T00:00:00",
          "2019-01-01T00:00:00",
          "2019-03-01T00:00:00",
          "2019-09-01T00:00:00",
          "2019-10-01T00:00:00",
          "2020-04-01T00:00:00",
          "2020-12-01T00:00:00",
          "2020-10-01T00:00:00",
          "2020-08-01T00:00:00",
          "2020-06-01T00:00:00",
          "2020-07-01T00:00:00",
          "2020-11-01T00:00:00",
          "2020-09-01T00:00:00",
          "2020-05-01T00:00:00",
          "2020-03-01T00:00:00",
          "2020-01-01T00:00:00",
          "2020-02-01T00:00:00"
         ],
         "xaxis": "x",
         "y": [
          4439,
          5007,
          5857,
          6471,
          6562,
          7654,
          7762,
          8150,
          8198,
          8602,
          9225,
          10180,
          673,
          1001,
          1267,
          1773,
          1794,
          1874,
          1941,
          2017,
          2657,
          4634,
          5453,
          6034
         ],
         "yaxis": "y"
        },
        {
         "alignmentgroup": "True",
         "hovertemplate": "CARRIER_NAME=Southwest Airlines Co.<br>YEAR_MONTH=%{x}<br>PASSENGERS=%{y}<extra></extra>",
         "legendgroup": "Southwest Airlines Co.",
         "marker": {
          "color": "#FFA15A"
         },
         "name": "Southwest Airlines Co.",
         "offsetgroup": "Southwest Airlines Co.",
         "orientation": "v",
         "showlegend": true,
         "textposition": "auto",
         "type": "bar",
         "x": [
          "2019-09-01T00:00:00",
          "2019-11-01T00:00:00",
          "2019-08-01T00:00:00",
          "2019-10-01T00:00:00",
          "2019-12-01T00:00:00",
          "2019-02-01T00:00:00",
          "2019-01-01T00:00:00",
          "2019-05-01T00:00:00",
          "2019-06-01T00:00:00",
          "2019-04-01T00:00:00",
          "2019-07-01T00:00:00",
          "2019-03-01T00:00:00",
          "2019-02-01T00:00:00",
          "2019-01-01T00:00:00",
          "2019-11-01T00:00:00",
          "2019-10-01T00:00:00",
          "2019-02-01T00:00:00",
          "2019-09-01T00:00:00",
          "2019-04-01T00:00:00",
          "2019-09-01T00:00:00",
          "2019-01-01T00:00:00",
          "2019-03-01T00:00:00",
          "2019-06-01T00:00:00",
          "2019-08-01T00:00:00",
          "2019-04-01T00:00:00",
          "2019-07-01T00:00:00",
          "2019-05-01T00:00:00",
          "2019-12-01T00:00:00",
          "2019-06-01T00:00:00",
          "2019-11-01T00:00:00",
          "2019-05-01T00:00:00",
          "2019-03-01T00:00:00",
          "2019-08-01T00:00:00",
          "2019-07-01T00:00:00",
          "2019-12-01T00:00:00",
          "2019-10-01T00:00:00",
          "2020-12-01T00:00:00",
          "2020-11-01T00:00:00",
          "2020-05-01T00:00:00",
          "2020-10-01T00:00:00",
          "2020-04-01T00:00:00",
          "2020-04-01T00:00:00",
          "2020-09-01T00:00:00",
          "2020-04-01T00:00:00",
          "2020-05-01T00:00:00",
          "2020-08-01T00:00:00",
          "2020-05-01T00:00:00",
          "2020-08-01T00:00:00",
          "2020-11-01T00:00:00",
          "2020-03-01T00:00:00",
          "2020-07-01T00:00:00",
          "2020-06-01T00:00:00",
          "2020-09-01T00:00:00",
          "2020-06-01T00:00:00",
          "2020-10-01T00:00:00",
          "2020-12-01T00:00:00",
          "2020-07-01T00:00:00",
          "2020-08-01T00:00:00",
          "2020-03-01T00:00:00",
          "2020-02-01T00:00:00",
          "2020-01-01T00:00:00",
          "2020-06-01T00:00:00",
          "2020-07-01T00:00:00",
          "2020-03-01T00:00:00",
          "2020-09-01T00:00:00",
          "2020-10-01T00:00:00",
          "2020-11-01T00:00:00",
          "2020-02-01T00:00:00",
          "2020-01-01T00:00:00",
          "2020-12-01T00:00:00",
          "2020-02-01T00:00:00",
          "2020-01-01T00:00:00"
         ],
         "xaxis": "x",
         "y": [
          8161,
          8201,
          8390,
          8404,
          10175,
          11212,
          11259,
          11619,
          11757,
          12032,
          12143,
          12250,
          13808,
          13949,
          16374,
          16558,
          16605,
          16677,
          16814,
          17095,
          17512,
          17702,
          17734,
          18261,
          18287,
          18337,
          19091,
          19275,
          19310,
          19407,
          19459,
          20132,
          21047,
          21372,
          21874,
          22101,
          42,
          121,
          147,
          371,
          694,
          701,
          750,
          1087,
          2290,
          3726,
          3970,
          4436,
          4571,
          4749,
          4872,
          4925,
          5022,
          5544,
          5609,
          5822,
          6742,
          6998,
          7080,
          7433,
          7974,
          8844,
          8944,
          9956,
          11141,
          12385,
          12525,
          13173,
          13990,
          16826,
          17636,
          17877
         ],
         "yaxis": "y"
        },
        {
         "alignmentgroup": "True",
         "hovertemplate": "CARRIER_NAME=National Air Cargo Group Inc d/ba National Airlines<br>YEAR_MONTH=%{x}<br>PASSENGERS=%{y}<extra></extra>",
         "legendgroup": "National Air Cargo Group Inc d/ba National Airlines",
         "marker": {
          "color": "#19d3f3"
         },
         "name": "National Air Cargo Group Inc d/ba National Airlines",
         "offsetgroup": "National Air Cargo Group Inc d/ba National Airlines",
         "orientation": "v",
         "showlegend": true,
         "textposition": "auto",
         "type": "bar",
         "x": [
          "2020-03-01T00:00:00"
         ],
         "xaxis": "x",
         "y": [
          0
         ],
         "yaxis": "y"
        },
        {
         "alignmentgroup": "True",
         "hovertemplate": "CARRIER_NAME=Air Transport International<br>YEAR_MONTH=%{x}<br>PASSENGERS=%{y}<extra></extra>",
         "legendgroup": "Air Transport International",
         "marker": {
          "color": "#FF6692"
         },
         "name": "Air Transport International",
         "offsetgroup": "Air Transport International",
         "orientation": "v",
         "showlegend": true,
         "textposition": "auto",
         "type": "bar",
         "x": [
          "2020-09-01T00:00:00"
         ],
         "xaxis": "x",
         "y": [
          0
         ],
         "yaxis": "y"
        },
        {
         "alignmentgroup": "True",
         "hovertemplate": "CARRIER_NAME=Swift Air, LLC d/b/a Eastern Air Lines d/b/a Eastern<br>YEAR_MONTH=%{x}<br>PASSENGERS=%{y}<extra></extra>",
         "legendgroup": "Swift Air, LLC d/b/a Eastern Air Lines d/b/a Eastern",
         "marker": {
          "color": "#B6E880"
         },
         "name": "Swift Air, LLC d/b/a Eastern Air Lines d/b/a Eastern",
         "offsetgroup": "Swift Air, LLC d/b/a Eastern Air Lines d/b/a Eastern",
         "orientation": "v",
         "showlegend": true,
         "textposition": "auto",
         "type": "bar",
         "x": [
          "2020-09-01T00:00:00"
         ],
         "xaxis": "x",
         "y": [
          57
         ],
         "yaxis": "y"
        }
       ],
       "layout": {
        "barmode": "group",
        "legend": {
         "title": {
          "text": "CARRIER_NAME"
         },
         "tracegroupgap": 0
        },
        "margin": {
         "t": 60
        },
        "template": {
         "data": {
          "bar": [
           {
            "error_x": {
             "color": "#2a3f5f"
            },
            "error_y": {
             "color": "#2a3f5f"
            },
            "marker": {
             "line": {
              "color": "#E5ECF6",
              "width": 0.5
             }
            },
            "type": "bar"
           }
          ],
          "barpolar": [
           {
            "marker": {
             "line": {
              "color": "#E5ECF6",
              "width": 0.5
             }
            },
            "type": "barpolar"
           }
          ],
          "carpet": [
           {
            "aaxis": {
             "endlinecolor": "#2a3f5f",
             "gridcolor": "white",
             "linecolor": "white",
             "minorgridcolor": "white",
             "startlinecolor": "#2a3f5f"
            },
            "baxis": {
             "endlinecolor": "#2a3f5f",
             "gridcolor": "white",
             "linecolor": "white",
             "minorgridcolor": "white",
             "startlinecolor": "#2a3f5f"
            },
            "type": "carpet"
           }
          ],
          "choropleth": [
           {
            "colorbar": {
             "outlinewidth": 0,
             "ticks": ""
            },
            "type": "choropleth"
           }
          ],
          "contour": [
           {
            "colorbar": {
             "outlinewidth": 0,
             "ticks": ""
            },
            "colorscale": [
             [
              0,
              "#0d0887"
             ],
             [
              0.1111111111111111,
              "#46039f"
             ],
             [
              0.2222222222222222,
              "#7201a8"
             ],
             [
              0.3333333333333333,
              "#9c179e"
             ],
             [
              0.4444444444444444,
              "#bd3786"
             ],
             [
              0.5555555555555556,
              "#d8576b"
             ],
             [
              0.6666666666666666,
              "#ed7953"
             ],
             [
              0.7777777777777778,
              "#fb9f3a"
             ],
             [
              0.8888888888888888,
              "#fdca26"
             ],
             [
              1,
              "#f0f921"
             ]
            ],
            "type": "contour"
           }
          ],
          "contourcarpet": [
           {
            "colorbar": {
             "outlinewidth": 0,
             "ticks": ""
            },
            "type": "contourcarpet"
           }
          ],
          "heatmap": [
           {
            "colorbar": {
             "outlinewidth": 0,
             "ticks": ""
            },
            "colorscale": [
             [
              0,
              "#0d0887"
             ],
             [
              0.1111111111111111,
              "#46039f"
             ],
             [
              0.2222222222222222,
              "#7201a8"
             ],
             [
              0.3333333333333333,
              "#9c179e"
             ],
             [
              0.4444444444444444,
              "#bd3786"
             ],
             [
              0.5555555555555556,
              "#d8576b"
             ],
             [
              0.6666666666666666,
              "#ed7953"
             ],
             [
              0.7777777777777778,
              "#fb9f3a"
             ],
             [
              0.8888888888888888,
              "#fdca26"
             ],
             [
              1,
              "#f0f921"
             ]
            ],
            "type": "heatmap"
           }
          ],
          "heatmapgl": [
           {
            "colorbar": {
             "outlinewidth": 0,
             "ticks": ""
            },
            "colorscale": [
             [
              0,
              "#0d0887"
             ],
             [
              0.1111111111111111,
              "#46039f"
             ],
             [
              0.2222222222222222,
              "#7201a8"
             ],
             [
              0.3333333333333333,
              "#9c179e"
             ],
             [
              0.4444444444444444,
              "#bd3786"
             ],
             [
              0.5555555555555556,
              "#d8576b"
             ],
             [
              0.6666666666666666,
              "#ed7953"
             ],
             [
              0.7777777777777778,
              "#fb9f3a"
             ],
             [
              0.8888888888888888,
              "#fdca26"
             ],
             [
              1,
              "#f0f921"
             ]
            ],
            "type": "heatmapgl"
           }
          ],
          "histogram": [
           {
            "marker": {
             "colorbar": {
              "outlinewidth": 0,
              "ticks": ""
             }
            },
            "type": "histogram"
           }
          ],
          "histogram2d": [
           {
            "colorbar": {
             "outlinewidth": 0,
             "ticks": ""
            },
            "colorscale": [
             [
              0,
              "#0d0887"
             ],
             [
              0.1111111111111111,
              "#46039f"
             ],
             [
              0.2222222222222222,
              "#7201a8"
             ],
             [
              0.3333333333333333,
              "#9c179e"
             ],
             [
              0.4444444444444444,
              "#bd3786"
             ],
             [
              0.5555555555555556,
              "#d8576b"
             ],
             [
              0.6666666666666666,
              "#ed7953"
             ],
             [
              0.7777777777777778,
              "#fb9f3a"
             ],
             [
              0.8888888888888888,
              "#fdca26"
             ],
             [
              1,
              "#f0f921"
             ]
            ],
            "type": "histogram2d"
           }
          ],
          "histogram2dcontour": [
           {
            "colorbar": {
             "outlinewidth": 0,
             "ticks": ""
            },
            "colorscale": [
             [
              0,
              "#0d0887"
             ],
             [
              0.1111111111111111,
              "#46039f"
             ],
             [
              0.2222222222222222,
              "#7201a8"
             ],
             [
              0.3333333333333333,
              "#9c179e"
             ],
             [
              0.4444444444444444,
              "#bd3786"
             ],
             [
              0.5555555555555556,
              "#d8576b"
             ],
             [
              0.6666666666666666,
              "#ed7953"
             ],
             [
              0.7777777777777778,
              "#fb9f3a"
             ],
             [
              0.8888888888888888,
              "#fdca26"
             ],
             [
              1,
              "#f0f921"
             ]
            ],
            "type": "histogram2dcontour"
           }
          ],
          "mesh3d": [
           {
            "colorbar": {
             "outlinewidth": 0,
             "ticks": ""
            },
            "type": "mesh3d"
           }
          ],
          "parcoords": [
           {
            "line": {
             "colorbar": {
              "outlinewidth": 0,
              "ticks": ""
             }
            },
            "type": "parcoords"
           }
          ],
          "pie": [
           {
            "automargin": true,
            "type": "pie"
           }
          ],
          "scatter": [
           {
            "marker": {
             "colorbar": {
              "outlinewidth": 0,
              "ticks": ""
             }
            },
            "type": "scatter"
           }
          ],
          "scatter3d": [
           {
            "line": {
             "colorbar": {
              "outlinewidth": 0,
              "ticks": ""
             }
            },
            "marker": {
             "colorbar": {
              "outlinewidth": 0,
              "ticks": ""
             }
            },
            "type": "scatter3d"
           }
          ],
          "scattercarpet": [
           {
            "marker": {
             "colorbar": {
              "outlinewidth": 0,
              "ticks": ""
             }
            },
            "type": "scattercarpet"
           }
          ],
          "scattergeo": [
           {
            "marker": {
             "colorbar": {
              "outlinewidth": 0,
              "ticks": ""
             }
            },
            "type": "scattergeo"
           }
          ],
          "scattergl": [
           {
            "marker": {
             "colorbar": {
              "outlinewidth": 0,
              "ticks": ""
             }
            },
            "type": "scattergl"
           }
          ],
          "scattermapbox": [
           {
            "marker": {
             "colorbar": {
              "outlinewidth": 0,
              "ticks": ""
             }
            },
            "type": "scattermapbox"
           }
          ],
          "scatterpolar": [
           {
            "marker": {
             "colorbar": {
              "outlinewidth": 0,
              "ticks": ""
             }
            },
            "type": "scatterpolar"
           }
          ],
          "scatterpolargl": [
           {
            "marker": {
             "colorbar": {
              "outlinewidth": 0,
              "ticks": ""
             }
            },
            "type": "scatterpolargl"
           }
          ],
          "scatterternary": [
           {
            "marker": {
             "colorbar": {
              "outlinewidth": 0,
              "ticks": ""
             }
            },
            "type": "scatterternary"
           }
          ],
          "surface": [
           {
            "colorbar": {
             "outlinewidth": 0,
             "ticks": ""
            },
            "colorscale": [
             [
              0,
              "#0d0887"
             ],
             [
              0.1111111111111111,
              "#46039f"
             ],
             [
              0.2222222222222222,
              "#7201a8"
             ],
             [
              0.3333333333333333,
              "#9c179e"
             ],
             [
              0.4444444444444444,
              "#bd3786"
             ],
             [
              0.5555555555555556,
              "#d8576b"
             ],
             [
              0.6666666666666666,
              "#ed7953"
             ],
             [
              0.7777777777777778,
              "#fb9f3a"
             ],
             [
              0.8888888888888888,
              "#fdca26"
             ],
             [
              1,
              "#f0f921"
             ]
            ],
            "type": "surface"
           }
          ],
          "table": [
           {
            "cells": {
             "fill": {
              "color": "#EBF0F8"
             },
             "line": {
              "color": "white"
             }
            },
            "header": {
             "fill": {
              "color": "#C8D4E3"
             },
             "line": {
              "color": "white"
             }
            },
            "type": "table"
           }
          ]
         },
         "layout": {
          "annotationdefaults": {
           "arrowcolor": "#2a3f5f",
           "arrowhead": 0,
           "arrowwidth": 1
          },
          "autotypenumbers": "strict",
          "coloraxis": {
           "colorbar": {
            "outlinewidth": 0,
            "ticks": ""
           }
          },
          "colorscale": {
           "diverging": [
            [
             0,
             "#8e0152"
            ],
            [
             0.1,
             "#c51b7d"
            ],
            [
             0.2,
             "#de77ae"
            ],
            [
             0.3,
             "#f1b6da"
            ],
            [
             0.4,
             "#fde0ef"
            ],
            [
             0.5,
             "#f7f7f7"
            ],
            [
             0.6,
             "#e6f5d0"
            ],
            [
             0.7,
             "#b8e186"
            ],
            [
             0.8,
             "#7fbc41"
            ],
            [
             0.9,
             "#4d9221"
            ],
            [
             1,
             "#276419"
            ]
           ],
           "sequential": [
            [
             0,
             "#0d0887"
            ],
            [
             0.1111111111111111,
             "#46039f"
            ],
            [
             0.2222222222222222,
             "#7201a8"
            ],
            [
             0.3333333333333333,
             "#9c179e"
            ],
            [
             0.4444444444444444,
             "#bd3786"
            ],
            [
             0.5555555555555556,
             "#d8576b"
            ],
            [
             0.6666666666666666,
             "#ed7953"
            ],
            [
             0.7777777777777778,
             "#fb9f3a"
            ],
            [
             0.8888888888888888,
             "#fdca26"
            ],
            [
             1,
             "#f0f921"
            ]
           ],
           "sequentialminus": [
            [
             0,
             "#0d0887"
            ],
            [
             0.1111111111111111,
             "#46039f"
            ],
            [
             0.2222222222222222,
             "#7201a8"
            ],
            [
             0.3333333333333333,
             "#9c179e"
            ],
            [
             0.4444444444444444,
             "#bd3786"
            ],
            [
             0.5555555555555556,
             "#d8576b"
            ],
            [
             0.6666666666666666,
             "#ed7953"
            ],
            [
             0.7777777777777778,
             "#fb9f3a"
            ],
            [
             0.8888888888888888,
             "#fdca26"
            ],
            [
             1,
             "#f0f921"
            ]
           ]
          },
          "colorway": [
           "#636efa",
           "#EF553B",
           "#00cc96",
           "#ab63fa",
           "#FFA15A",
           "#19d3f3",
           "#FF6692",
           "#B6E880",
           "#FF97FF",
           "#FECB52"
          ],
          "font": {
           "color": "#2a3f5f"
          },
          "geo": {
           "bgcolor": "white",
           "lakecolor": "white",
           "landcolor": "#E5ECF6",
           "showlakes": true,
           "showland": true,
           "subunitcolor": "white"
          },
          "hoverlabel": {
           "align": "left"
          },
          "hovermode": "closest",
          "mapbox": {
           "style": "light"
          },
          "paper_bgcolor": "white",
          "plot_bgcolor": "#E5ECF6",
          "polar": {
           "angularaxis": {
            "gridcolor": "white",
            "linecolor": "white",
            "ticks": ""
           },
           "bgcolor": "#E5ECF6",
           "radialaxis": {
            "gridcolor": "white",
            "linecolor": "white",
            "ticks": ""
           }
          },
          "scene": {
           "xaxis": {
            "backgroundcolor": "#E5ECF6",
            "gridcolor": "white",
            "gridwidth": 2,
            "linecolor": "white",
            "showbackground": true,
            "ticks": "",
            "zerolinecolor": "white"
           },
           "yaxis": {
            "backgroundcolor": "#E5ECF6",
            "gridcolor": "white",
            "gridwidth": 2,
            "linecolor": "white",
            "showbackground": true,
            "ticks": "",
            "zerolinecolor": "white"
           },
           "zaxis": {
            "backgroundcolor": "#E5ECF6",
            "gridcolor": "white",
            "gridwidth": 2,
            "linecolor": "white",
            "showbackground": true,
            "ticks": "",
            "zerolinecolor": "white"
           }
          },
          "shapedefaults": {
           "line": {
            "color": "#2a3f5f"
           }
          },
          "ternary": {
           "aaxis": {
            "gridcolor": "white",
            "linecolor": "white",
            "ticks": ""
           },
           "baxis": {
            "gridcolor": "white",
            "linecolor": "white",
            "ticks": ""
           },
           "bgcolor": "#E5ECF6",
           "caxis": {
            "gridcolor": "white",
            "linecolor": "white",
            "ticks": ""
           }
          },
          "title": {
           "x": 0.05
          },
          "xaxis": {
           "automargin": true,
           "gridcolor": "white",
           "linecolor": "white",
           "ticks": "",
           "title": {
            "standoff": 15
           },
           "zerolinecolor": "white",
           "zerolinewidth": 2
          },
          "yaxis": {
           "automargin": true,
           "gridcolor": "white",
           "linecolor": "white",
           "ticks": "",
           "title": {
            "standoff": 15
           },
           "zerolinecolor": "white",
           "zerolinewidth": 2
          }
         }
        },
        "xaxis": {
         "anchor": "y",
         "domain": [
          0,
          1
         ],
         "title": {
          "text": "YEAR_MONTH"
         }
        },
        "yaxis": {
         "anchor": "x",
         "domain": [
          0,
          1
         ],
         "title": {
          "text": "PASSENGERS"
         }
        }
       }
      },
      "text/html": [
       "<div>                            <div id=\"6ea19adc-d806-467c-a529-52c63b907abc\" class=\"plotly-graph-div\" style=\"height:525px; width:100%;\"></div>            <script type=\"text/javascript\">                require([\"plotly\"], function(Plotly) {                    window.PLOTLYENV=window.PLOTLYENV || {};                                    if (document.getElementById(\"6ea19adc-d806-467c-a529-52c63b907abc\")) {                    Plotly.newPlot(                        \"6ea19adc-d806-467c-a529-52c63b907abc\",                        [{\"alignmentgroup\": \"True\", \"hovertemplate\": \"CARRIER_NAME=Atlas Air Inc.<br>YEAR_MONTH=%{x}<br>PASSENGERS=%{y}<extra></extra>\", \"legendgroup\": \"Atlas Air Inc.\", \"marker\": {\"color\": \"#636efa\"}, \"name\": \"Atlas Air Inc.\", \"offsetgroup\": \"Atlas Air Inc.\", \"orientation\": \"v\", \"showlegend\": true, \"textposition\": \"auto\", \"type\": \"bar\", \"x\": [\"2019-11-01T00:00:00\"], \"xaxis\": \"x\", \"y\": [0], \"yaxis\": \"y\"}, {\"alignmentgroup\": \"True\", \"hovertemplate\": \"CARRIER_NAME=Miami Air International<br>YEAR_MONTH=%{x}<br>PASSENGERS=%{y}<extra></extra>\", \"legendgroup\": \"Miami Air International\", \"marker\": {\"color\": \"#EF553B\"}, \"name\": \"Miami Air International\", \"offsetgroup\": \"Miami Air International\", \"orientation\": \"v\", \"showlegend\": true, \"textposition\": \"auto\", \"type\": \"bar\", \"x\": [\"2019-12-01T00:00:00\", \"2019-11-01T00:00:00\"], \"xaxis\": \"x\", \"y\": [0, 0], \"yaxis\": \"y\"}, {\"alignmentgroup\": \"True\", \"hovertemplate\": \"CARRIER_NAME=Federal Express Corporation<br>YEAR_MONTH=%{x}<br>PASSENGERS=%{y}<extra></extra>\", \"legendgroup\": \"Federal Express Corporation\", \"marker\": {\"color\": \"#00cc96\"}, \"name\": \"Federal Express Corporation\", \"offsetgroup\": \"Federal Express Corporation\", \"orientation\": \"v\", \"showlegend\": true, \"textposition\": \"auto\", \"type\": \"bar\", \"x\": [\"2019-04-01T00:00:00\", \"2019-11-01T00:00:00\", \"2019-12-01T00:00:00\", \"2019-09-01T00:00:00\", \"2019-05-01T00:00:00\"], \"xaxis\": \"x\", \"y\": [0, 0, 0, 0, 0], \"yaxis\": \"y\"}, {\"alignmentgroup\": \"True\", \"hovertemplate\": \"CARRIER_NAME=United Air Lines Inc.<br>YEAR_MONTH=%{x}<br>PASSENGERS=%{y}<extra></extra>\", \"legendgroup\": \"United Air Lines Inc.\", \"marker\": {\"color\": \"#ab63fa\"}, \"name\": \"United Air Lines Inc.\", \"offsetgroup\": \"United Air Lines Inc.\", \"orientation\": \"v\", \"showlegend\": true, \"textposition\": \"auto\", \"type\": \"bar\", \"x\": [\"2019-07-01T00:00:00\", \"2019-01-01T00:00:00\", \"2019-09-01T00:00:00\", \"2019-03-01T00:00:00\", \"2019-10-01T00:00:00\", \"2019-11-01T00:00:00\", \"2019-08-01T00:00:00\", \"2019-06-01T00:00:00\", \"2019-01-01T00:00:00\", \"2019-10-01T00:00:00\", \"2019-02-01T00:00:00\", \"2019-02-01T00:00:00\", \"2019-02-01T00:00:00\", \"2019-11-01T00:00:00\", \"2019-12-01T00:00:00\", \"2020-01-01T00:00:00\", \"2020-06-01T00:00:00\", \"2020-03-01T00:00:00\", \"2020-07-01T00:00:00\", \"2020-08-01T00:00:00\", \"2020-01-01T00:00:00\", \"2020-02-01T00:00:00\", \"2020-09-01T00:00:00\", \"2020-11-01T00:00:00\", \"2020-12-01T00:00:00\", \"2020-10-01T00:00:00\"], \"xaxis\": \"x\", \"y\": [0, 0, 0, 4, 10, 47, 115, 121, 142, 493, 817, 1108, 1592, 2600, 2719, 3, 92, 1441, 1551, 2076, 2499, 2591, 2982, 3244, 3467, 5328], \"yaxis\": \"y\"}, {\"alignmentgroup\": \"True\", \"hovertemplate\": \"CARRIER_NAME=Endeavor Air Inc.<br>YEAR_MONTH=%{x}<br>PASSENGERS=%{y}<extra></extra>\", \"legendgroup\": \"Endeavor Air Inc.\", \"marker\": {\"color\": \"#FFA15A\"}, \"name\": \"Endeavor Air Inc.\", \"offsetgroup\": \"Endeavor Air Inc.\", \"orientation\": \"v\", \"showlegend\": true, \"textposition\": \"auto\", \"type\": \"bar\", \"x\": [\"2019-06-01T00:00:00\", \"2020-11-01T00:00:00\", \"2020-12-01T00:00:00\"], \"xaxis\": \"x\", \"y\": [10, 933, 7074], \"yaxis\": \"y\"}, {\"alignmentgroup\": \"True\", \"hovertemplate\": \"CARRIER_NAME=ExpressJet Airlines Inc.<br>YEAR_MONTH=%{x}<br>PASSENGERS=%{y}<extra></extra>\", \"legendgroup\": \"ExpressJet Airlines Inc.\", \"marker\": {\"color\": \"#19d3f3\"}, \"name\": \"ExpressJet Airlines Inc.\", \"offsetgroup\": \"ExpressJet Airlines Inc.\", \"orientation\": \"v\", \"showlegend\": true, \"textposition\": \"auto\", \"type\": \"bar\", \"x\": [\"2019-02-01T00:00:00\", \"2019-01-01T00:00:00\"], \"xaxis\": \"x\", \"y\": [45, 113], \"yaxis\": \"y\"}, {\"alignmentgroup\": \"True\", \"hovertemplate\": \"CARRIER_NAME=Delta Air Lines Inc.<br>YEAR_MONTH=%{x}<br>PASSENGERS=%{y}<extra></extra>\", \"legendgroup\": \"Delta Air Lines Inc.\", \"marker\": {\"color\": \"#FF6692\"}, \"name\": \"Delta Air Lines Inc.\", \"offsetgroup\": \"Delta Air Lines Inc.\", \"orientation\": \"v\", \"showlegend\": true, \"textposition\": \"auto\", \"type\": \"bar\", \"x\": [\"2019-02-01T00:00:00\", \"2019-02-01T00:00:00\", \"2019-02-01T00:00:00\", \"2019-10-01T00:00:00\", \"2019-02-01T00:00:00\", \"2019-01-01T00:00:00\", \"2019-09-01T00:00:00\", \"2019-03-01T00:00:00\", \"2019-11-01T00:00:00\", \"2019-04-01T00:00:00\", \"2019-10-01T00:00:00\", \"2019-12-01T00:00:00\", \"2019-08-01T00:00:00\", \"2019-07-01T00:00:00\", \"2019-05-01T00:00:00\", \"2019-06-01T00:00:00\", \"2019-02-01T00:00:00\", \"2019-01-01T00:00:00\", \"2019-09-01T00:00:00\", \"2019-11-01T00:00:00\", \"2019-12-01T00:00:00\", \"2019-10-01T00:00:00\", \"2019-03-01T00:00:00\", \"2019-04-01T00:00:00\", \"2019-05-01T00:00:00\", \"2019-06-01T00:00:00\", \"2019-08-01T00:00:00\", \"2019-07-01T00:00:00\", \"2019-02-01T00:00:00\", \"2019-11-01T00:00:00\", \"2019-01-01T00:00:00\", \"2019-02-01T00:00:00\", \"2019-09-01T00:00:00\", \"2019-10-01T00:00:00\", \"2019-01-01T00:00:00\", \"2019-12-01T00:00:00\", \"2019-04-01T00:00:00\", \"2019-03-01T00:00:00\", \"2019-11-01T00:00:00\", \"2019-09-01T00:00:00\", \"2019-03-01T00:00:00\", \"2019-04-01T00:00:00\", \"2019-06-01T00:00:00\", \"2019-05-01T00:00:00\", \"2019-10-01T00:00:00\", \"2019-08-01T00:00:00\", \"2019-07-01T00:00:00\", \"2019-06-01T00:00:00\", \"2019-05-01T00:00:00\", \"2019-08-01T00:00:00\", \"2019-07-01T00:00:00\", \"2019-12-01T00:00:00\", \"2020-04-01T00:00:00\", \"2020-10-01T00:00:00\", \"2020-12-01T00:00:00\", \"2020-04-01T00:00:00\", \"2020-12-01T00:00:00\", \"2020-04-01T00:00:00\", \"2020-05-01T00:00:00\", \"2020-06-01T00:00:00\", \"2020-05-01T00:00:00\", \"2020-07-01T00:00:00\", \"2020-04-01T00:00:00\", \"2020-06-01T00:00:00\", \"2020-07-01T00:00:00\", \"2020-08-01T00:00:00\", \"2020-05-01T00:00:00\", \"2020-04-01T00:00:00\", \"2020-09-01T00:00:00\", \"2020-11-01T00:00:00\", \"2020-08-01T00:00:00\", \"2020-03-01T00:00:00\", \"2020-10-01T00:00:00\", \"2020-09-01T00:00:00\", \"2020-10-01T00:00:00\", \"2020-11-01T00:00:00\", \"2020-05-01T00:00:00\", \"2020-06-01T00:00:00\", \"2020-12-01T00:00:00\", \"2020-03-01T00:00:00\", \"2020-02-01T00:00:00\", \"2020-07-01T00:00:00\", \"2020-11-01T00:00:00\", \"2020-01-01T00:00:00\", \"2020-06-01T00:00:00\", \"2020-12-01T00:00:00\", \"2020-08-01T00:00:00\", \"2020-10-01T00:00:00\", \"2020-09-01T00:00:00\", \"2020-07-01T00:00:00\", \"2020-03-01T00:00:00\", \"2020-02-01T00:00:00\", \"2020-01-01T00:00:00\", \"2020-08-01T00:00:00\", \"2020-09-01T00:00:00\", \"2020-12-01T00:00:00\", \"2020-03-01T00:00:00\", \"2020-11-01T00:00:00\", \"2020-10-01T00:00:00\", \"2020-02-01T00:00:00\", \"2020-02-01T00:00:00\", \"2020-01-01T00:00:00\", \"2020-01-01T00:00:00\"], \"xaxis\": \"x\", \"y\": [46, 51, 119, 151, 15290, 15695, 16777, 17410, 17449, 17597, 18135, 18323, 19158, 19560, 19959, 20865, 24193, 25073, 25623, 29337, 29656, 29805, 29959, 30490, 31271, 31551, 32889, 33109, 53509, 54199, 54809, 56923, 57201, 58748, 60466, 64793, 65328, 66148, 67439, 67738, 68153, 68939, 70760, 70879, 71033, 71557, 71932, 72275, 74346, 75159, 75863, 77735, 0, 110, 128, 859, 859, 1671, 2497, 3342, 3693, 3741, 4319, 4878, 5037, 5716, 6462, 6598, 6817, 7134, 7692, 7793, 8059, 8357, 9355, 10167, 11187, 12047, 12640, 14859, 14885, 15390, 16038, 16088, 16658, 16703, 17478, 18373, 19362, 21958, 25544, 26846, 27590, 28869, 29029, 29356, 29447, 29452, 29927, 54819, 56010, 59187, 60731], \"yaxis\": \"y\"}, {\"alignmentgroup\": \"True\", \"hovertemplate\": \"CARRIER_NAME=SkyWest Airlines Inc.<br>YEAR_MONTH=%{x}<br>PASSENGERS=%{y}<extra></extra>\", \"legendgroup\": \"SkyWest Airlines Inc.\", \"marker\": {\"color\": \"#B6E880\"}, \"name\": \"SkyWest Airlines Inc.\", \"offsetgroup\": \"SkyWest Airlines Inc.\", \"orientation\": \"v\", \"showlegend\": true, \"textposition\": \"auto\", \"type\": \"bar\", \"x\": [\"2019-01-01T00:00:00\", \"2019-04-01T00:00:00\", \"2019-08-01T00:00:00\", \"2019-10-01T00:00:00\", \"2019-12-01T00:00:00\", \"2019-06-01T00:00:00\", \"2019-05-01T00:00:00\", \"2019-09-01T00:00:00\", \"2019-11-01T00:00:00\", \"2020-04-01T00:00:00\", \"2020-01-01T00:00:00\", \"2020-03-01T00:00:00\", \"2020-02-01T00:00:00\", \"2020-07-01T00:00:00\", \"2020-08-01T00:00:00\", \"2020-06-01T00:00:00\", \"2020-09-01T00:00:00\", \"2020-11-01T00:00:00\", \"2020-10-01T00:00:00\", \"2020-12-01T00:00:00\"], \"xaxis\": \"x\", \"y\": [55, 140, 663, 927, 940, 1147, 1310, 1543, 3055, 6, 632, 1131, 1210, 1316, 1390, 1504, 1700, 1734, 2132, 2609], \"yaxis\": \"y\"}, {\"alignmentgroup\": \"True\", \"hovertemplate\": \"CARRIER_NAME=Republic Airline<br>YEAR_MONTH=%{x}<br>PASSENGERS=%{y}<extra></extra>\", \"legendgroup\": \"Republic Airline\", \"marker\": {\"color\": \"#FF97FF\"}, \"name\": \"Republic Airline\", \"offsetgroup\": \"Republic Airline\", \"orientation\": \"v\", \"showlegend\": true, \"textposition\": \"auto\", \"type\": \"bar\", \"x\": [\"2019-11-01T00:00:00\", \"2019-09-01T00:00:00\", \"2019-10-01T00:00:00\", \"2019-12-01T00:00:00\", \"2019-05-01T00:00:00\", \"2019-08-01T00:00:00\", \"2019-02-01T00:00:00\", \"2019-07-01T00:00:00\", \"2019-01-01T00:00:00\", \"2019-11-01T00:00:00\", \"2019-09-01T00:00:00\", \"2019-06-01T00:00:00\", \"2019-10-01T00:00:00\", \"2019-07-01T00:00:00\", \"2019-12-01T00:00:00\", \"2019-04-01T00:00:00\", \"2019-03-01T00:00:00\", \"2019-08-01T00:00:00\", \"2019-06-01T00:00:00\", \"2019-05-01T00:00:00\", \"2019-02-01T00:00:00\", \"2019-01-01T00:00:00\", \"2019-03-01T00:00:00\", \"2019-04-01T00:00:00\", \"2020-04-01T00:00:00\", \"2020-03-01T00:00:00\", \"2020-01-01T00:00:00\", \"2020-03-01T00:00:00\", \"2020-01-01T00:00:00\", \"2020-02-01T00:00:00\"], \"xaxis\": \"x\", \"y\": [132, 350, 1058, 1674, 1815, 3155, 3163, 3426, 3436, 3612, 3662, 3711, 3738, 3753, 3839, 3868, 3947, 4099, 4306, 4700, 5668, 5885, 6080, 6420, 44, 97, 405, 1630, 3091, 3251], \"yaxis\": \"y\"}, {\"alignmentgroup\": \"True\", \"hovertemplate\": \"CARRIER_NAME=American Airlines Inc.<br>YEAR_MONTH=%{x}<br>PASSENGERS=%{y}<extra></extra>\", \"legendgroup\": \"American Airlines Inc.\", \"marker\": {\"color\": \"#FECB52\"}, \"name\": \"American Airlines Inc.\", \"offsetgroup\": \"American Airlines Inc.\", \"orientation\": \"v\", \"showlegend\": true, \"textposition\": \"auto\", \"type\": \"bar\", \"x\": [\"2019-04-01T00:00:00\", \"2019-02-01T00:00:00\", \"2019-02-01T00:00:00\", \"2019-01-01T00:00:00\", \"2019-11-01T00:00:00\", \"2019-03-01T00:00:00\", \"2019-04-01T00:00:00\", \"2019-07-01T00:00:00\", \"2019-12-01T00:00:00\", \"2019-10-01T00:00:00\", \"2019-09-01T00:00:00\", \"2019-06-01T00:00:00\", \"2019-08-01T00:00:00\", \"2019-05-01T00:00:00\", \"2019-04-01T00:00:00\", \"2019-08-01T00:00:00\", \"2019-09-01T00:00:00\", \"2019-02-01T00:00:00\", \"2019-01-01T00:00:00\", \"2019-03-01T00:00:00\", \"2019-11-01T00:00:00\", \"2019-07-01T00:00:00\", \"2019-05-01T00:00:00\", \"2019-06-01T00:00:00\", \"2019-10-01T00:00:00\", \"2019-12-01T00:00:00\", \"2020-04-01T00:00:00\", \"2020-12-01T00:00:00\", \"2020-04-01T00:00:00\", \"2020-03-01T00:00:00\", \"2020-01-01T00:00:00\", \"2020-02-01T00:00:00\", \"2020-03-01T00:00:00\", \"2020-02-01T00:00:00\", \"2020-01-01T00:00:00\"], \"xaxis\": \"x\", \"y\": [141, 184, 4391, 4776, 4994, 5013, 5083, 5696, 5754, 6138, 6196, 6552, 6777, 6884, 9038, 10775, 11405, 11666, 11898, 11902, 12324, 12611, 13159, 13159, 13378, 16698, 41, 66, 317, 2244, 4283, 4602, 6815, 12140, 12602], \"yaxis\": \"y\"}, {\"alignmentgroup\": \"True\", \"hovertemplate\": \"CARRIER_NAME=ExpressJet Airlines LLC<br>YEAR_MONTH=%{x}<br>PASSENGERS=%{y}<extra></extra>\", \"legendgroup\": \"ExpressJet Airlines LLC\", \"marker\": {\"color\": \"#636efa\"}, \"name\": \"ExpressJet Airlines LLC\", \"offsetgroup\": \"ExpressJet Airlines LLC\", \"orientation\": \"v\", \"showlegend\": true, \"textposition\": \"auto\", \"type\": \"bar\", \"x\": [\"2019-11-01T00:00:00\", \"2019-12-01T00:00:00\", \"2019-09-01T00:00:00\", \"2019-10-01T00:00:00\", \"2019-06-01T00:00:00\", \"2019-08-01T00:00:00\", \"2019-07-01T00:00:00\", \"2020-05-01T00:00:00\", \"2020-04-01T00:00:00\", \"2020-03-01T00:00:00\", \"2020-02-01T00:00:00\", \"2020-01-01T00:00:00\"], \"xaxis\": \"x\", \"y\": [1761, 1883, 1957, 2025, 2480, 4182, 5691, 121, 443, 1195, 2843, 5210], \"yaxis\": \"y\"}, {\"alignmentgroup\": \"True\", \"hovertemplate\": \"CARRIER_NAME=Frontier Airlines Inc.<br>YEAR_MONTH=%{x}<br>PASSENGERS=%{y}<extra></extra>\", \"legendgroup\": \"Frontier Airlines Inc.\", \"marker\": {\"color\": \"#EF553B\"}, \"name\": \"Frontier Airlines Inc.\", \"offsetgroup\": \"Frontier Airlines Inc.\", \"orientation\": \"v\", \"showlegend\": true, \"textposition\": \"auto\", \"type\": \"bar\", \"x\": [\"2019-02-01T00:00:00\", \"2019-11-01T00:00:00\", \"2019-04-01T00:00:00\", \"2019-09-01T00:00:00\", \"2019-10-01T00:00:00\", \"2019-01-01T00:00:00\", \"2019-07-01T00:00:00\", \"2019-03-01T00:00:00\", \"2019-08-01T00:00:00\", \"2019-05-01T00:00:00\", \"2019-06-01T00:00:00\", \"2019-12-01T00:00:00\", \"2019-01-01T00:00:00\", \"2019-10-01T00:00:00\", \"2019-03-01T00:00:00\", \"2019-02-01T00:00:00\", \"2019-09-01T00:00:00\", \"2019-04-01T00:00:00\", \"2019-11-01T00:00:00\", \"2019-08-01T00:00:00\", \"2019-05-01T00:00:00\", \"2019-06-01T00:00:00\", \"2019-07-01T00:00:00\", \"2019-12-01T00:00:00\", \"2020-06-01T00:00:00\", \"2020-03-01T00:00:00\", \"2020-08-01T00:00:00\", \"2020-02-01T00:00:00\", \"2020-01-01T00:00:00\", \"2020-09-01T00:00:00\", \"2020-03-01T00:00:00\", \"2020-10-01T00:00:00\", \"2020-07-01T00:00:00\", \"2020-11-01T00:00:00\", \"2020-12-01T00:00:00\", \"2020-02-01T00:00:00\", \"2020-01-01T00:00:00\"], \"xaxis\": \"x\", \"y\": [1856, 1938, 1946, 1959, 2039, 2068, 2096, 2158, 2171, 2177, 2187, 2396, 4134, 4369, 4379, 4416, 4426, 4546, 4744, 4784, 4842, 4939, 4947, 5160, 273, 1171, 1494, 1570, 1759, 2131, 2360, 2522, 2611, 2789, 3107, 3724, 3834], \"yaxis\": \"y\"}, {\"alignmentgroup\": \"True\", \"hovertemplate\": \"CARRIER_NAME=Spirit Air Lines<br>YEAR_MONTH=%{x}<br>PASSENGERS=%{y}<extra></extra>\", \"legendgroup\": \"Spirit Air Lines\", \"marker\": {\"color\": \"#00cc96\"}, \"name\": \"Spirit Air Lines\", \"offsetgroup\": \"Spirit Air Lines\", \"orientation\": \"v\", \"showlegend\": true, \"textposition\": \"auto\", \"type\": \"bar\", \"x\": [\"2019-01-01T00:00:00\", \"2019-02-01T00:00:00\", \"2019-04-01T00:00:00\", \"2019-03-01T00:00:00\", \"2019-12-01T00:00:00\", \"2019-07-01T00:00:00\", \"2019-08-01T00:00:00\", \"2019-06-01T00:00:00\", \"2019-09-01T00:00:00\", \"2019-11-01T00:00:00\", \"2019-05-01T00:00:00\", \"2019-02-01T00:00:00\", \"2019-10-01T00:00:00\", \"2019-01-01T00:00:00\", \"2019-12-01T00:00:00\", \"2019-09-01T00:00:00\", \"2019-11-01T00:00:00\", \"2019-10-01T00:00:00\", \"2019-07-01T00:00:00\", \"2019-06-01T00:00:00\", \"2019-08-01T00:00:00\", \"2019-04-01T00:00:00\", \"2019-05-01T00:00:00\", \"2019-03-01T00:00:00\", \"2020-04-01T00:00:00\", \"2020-04-01T00:00:00\", \"2020-06-01T00:00:00\", \"2020-03-01T00:00:00\", \"2020-02-01T00:00:00\", \"2020-01-01T00:00:00\", \"2020-03-01T00:00:00\", \"2020-09-01T00:00:00\", \"2020-06-01T00:00:00\", \"2020-10-01T00:00:00\", \"2020-12-01T00:00:00\", \"2020-07-01T00:00:00\", \"2020-02-01T00:00:00\", \"2020-08-01T00:00:00\", \"2020-01-01T00:00:00\", \"2020-11-01T00:00:00\", \"2020-09-01T00:00:00\", \"2020-08-01T00:00:00\", \"2020-12-01T00:00:00\", \"2020-07-01T00:00:00\", \"2020-10-01T00:00:00\", \"2020-11-01T00:00:00\"], \"xaxis\": \"x\", \"y\": [2774, 3237, 3470, 3552, 3690, 4037, 4135, 4313, 4332, 4439, 4689, 4744, 4859, 4870, 4984, 5058, 5165, 5343, 5482, 5691, 5699, 5819, 5948, 6150, 82, 421, 1319, 2490, 3096, 3141, 3228, 3555, 4002, 4129, 4208, 4528, 4760, 4827, 5235, 5299, 8849, 9105, 9245, 9257, 9883, 11092], \"yaxis\": \"y\"}, {\"alignmentgroup\": \"True\", \"hovertemplate\": \"CARRIER_NAME=Mesa Airlines Inc.<br>YEAR_MONTH=%{x}<br>PASSENGERS=%{y}<extra></extra>\", \"legendgroup\": \"Mesa Airlines Inc.\", \"marker\": {\"color\": \"#ab63fa\"}, \"name\": \"Mesa Airlines Inc.\", \"offsetgroup\": \"Mesa Airlines Inc.\", \"orientation\": \"v\", \"showlegend\": true, \"textposition\": \"auto\", \"type\": \"bar\", \"x\": [\"2019-07-01T00:00:00\", \"2019-06-01T00:00:00\", \"2019-08-01T00:00:00\", \"2019-02-01T00:00:00\", \"2019-11-01T00:00:00\", \"2019-12-01T00:00:00\", \"2019-04-01T00:00:00\", \"2019-05-01T00:00:00\", \"2019-01-01T00:00:00\", \"2019-03-01T00:00:00\", \"2019-09-01T00:00:00\", \"2019-10-01T00:00:00\", \"2020-04-01T00:00:00\", \"2020-12-01T00:00:00\", \"2020-10-01T00:00:00\", \"2020-08-01T00:00:00\", \"2020-06-01T00:00:00\", \"2020-07-01T00:00:00\", \"2020-11-01T00:00:00\", \"2020-09-01T00:00:00\", \"2020-05-01T00:00:00\", \"2020-03-01T00:00:00\", \"2020-01-01T00:00:00\", \"2020-02-01T00:00:00\"], \"xaxis\": \"x\", \"y\": [4439, 5007, 5857, 6471, 6562, 7654, 7762, 8150, 8198, 8602, 9225, 10180, 673, 1001, 1267, 1773, 1794, 1874, 1941, 2017, 2657, 4634, 5453, 6034], \"yaxis\": \"y\"}, {\"alignmentgroup\": \"True\", \"hovertemplate\": \"CARRIER_NAME=Southwest Airlines Co.<br>YEAR_MONTH=%{x}<br>PASSENGERS=%{y}<extra></extra>\", \"legendgroup\": \"Southwest Airlines Co.\", \"marker\": {\"color\": \"#FFA15A\"}, \"name\": \"Southwest Airlines Co.\", \"offsetgroup\": \"Southwest Airlines Co.\", \"orientation\": \"v\", \"showlegend\": true, \"textposition\": \"auto\", \"type\": \"bar\", \"x\": [\"2019-09-01T00:00:00\", \"2019-11-01T00:00:00\", \"2019-08-01T00:00:00\", \"2019-10-01T00:00:00\", \"2019-12-01T00:00:00\", \"2019-02-01T00:00:00\", \"2019-01-01T00:00:00\", \"2019-05-01T00:00:00\", \"2019-06-01T00:00:00\", \"2019-04-01T00:00:00\", \"2019-07-01T00:00:00\", \"2019-03-01T00:00:00\", \"2019-02-01T00:00:00\", \"2019-01-01T00:00:00\", \"2019-11-01T00:00:00\", \"2019-10-01T00:00:00\", \"2019-02-01T00:00:00\", \"2019-09-01T00:00:00\", \"2019-04-01T00:00:00\", \"2019-09-01T00:00:00\", \"2019-01-01T00:00:00\", \"2019-03-01T00:00:00\", \"2019-06-01T00:00:00\", \"2019-08-01T00:00:00\", \"2019-04-01T00:00:00\", \"2019-07-01T00:00:00\", \"2019-05-01T00:00:00\", \"2019-12-01T00:00:00\", \"2019-06-01T00:00:00\", \"2019-11-01T00:00:00\", \"2019-05-01T00:00:00\", \"2019-03-01T00:00:00\", \"2019-08-01T00:00:00\", \"2019-07-01T00:00:00\", \"2019-12-01T00:00:00\", \"2019-10-01T00:00:00\", \"2020-12-01T00:00:00\", \"2020-11-01T00:00:00\", \"2020-05-01T00:00:00\", \"2020-10-01T00:00:00\", \"2020-04-01T00:00:00\", \"2020-04-01T00:00:00\", \"2020-09-01T00:00:00\", \"2020-04-01T00:00:00\", \"2020-05-01T00:00:00\", \"2020-08-01T00:00:00\", \"2020-05-01T00:00:00\", \"2020-08-01T00:00:00\", \"2020-11-01T00:00:00\", \"2020-03-01T00:00:00\", \"2020-07-01T00:00:00\", \"2020-06-01T00:00:00\", \"2020-09-01T00:00:00\", \"2020-06-01T00:00:00\", \"2020-10-01T00:00:00\", \"2020-12-01T00:00:00\", \"2020-07-01T00:00:00\", \"2020-08-01T00:00:00\", \"2020-03-01T00:00:00\", \"2020-02-01T00:00:00\", \"2020-01-01T00:00:00\", \"2020-06-01T00:00:00\", \"2020-07-01T00:00:00\", \"2020-03-01T00:00:00\", \"2020-09-01T00:00:00\", \"2020-10-01T00:00:00\", \"2020-11-01T00:00:00\", \"2020-02-01T00:00:00\", \"2020-01-01T00:00:00\", \"2020-12-01T00:00:00\", \"2020-02-01T00:00:00\", \"2020-01-01T00:00:00\"], \"xaxis\": \"x\", \"y\": [8161, 8201, 8390, 8404, 10175, 11212, 11259, 11619, 11757, 12032, 12143, 12250, 13808, 13949, 16374, 16558, 16605, 16677, 16814, 17095, 17512, 17702, 17734, 18261, 18287, 18337, 19091, 19275, 19310, 19407, 19459, 20132, 21047, 21372, 21874, 22101, 42, 121, 147, 371, 694, 701, 750, 1087, 2290, 3726, 3970, 4436, 4571, 4749, 4872, 4925, 5022, 5544, 5609, 5822, 6742, 6998, 7080, 7433, 7974, 8844, 8944, 9956, 11141, 12385, 12525, 13173, 13990, 16826, 17636, 17877], \"yaxis\": \"y\"}, {\"alignmentgroup\": \"True\", \"hovertemplate\": \"CARRIER_NAME=National Air Cargo Group Inc d/ba National Airlines<br>YEAR_MONTH=%{x}<br>PASSENGERS=%{y}<extra></extra>\", \"legendgroup\": \"National Air Cargo Group Inc d/ba National Airlines\", \"marker\": {\"color\": \"#19d3f3\"}, \"name\": \"National Air Cargo Group Inc d/ba National Airlines\", \"offsetgroup\": \"National Air Cargo Group Inc d/ba National Airlines\", \"orientation\": \"v\", \"showlegend\": true, \"textposition\": \"auto\", \"type\": \"bar\", \"x\": [\"2020-03-01T00:00:00\"], \"xaxis\": \"x\", \"y\": [0], \"yaxis\": \"y\"}, {\"alignmentgroup\": \"True\", \"hovertemplate\": \"CARRIER_NAME=Air Transport International<br>YEAR_MONTH=%{x}<br>PASSENGERS=%{y}<extra></extra>\", \"legendgroup\": \"Air Transport International\", \"marker\": {\"color\": \"#FF6692\"}, \"name\": \"Air Transport International\", \"offsetgroup\": \"Air Transport International\", \"orientation\": \"v\", \"showlegend\": true, \"textposition\": \"auto\", \"type\": \"bar\", \"x\": [\"2020-09-01T00:00:00\"], \"xaxis\": \"x\", \"y\": [0], \"yaxis\": \"y\"}, {\"alignmentgroup\": \"True\", \"hovertemplate\": \"CARRIER_NAME=Swift Air, LLC d/b/a Eastern Air Lines d/b/a Eastern<br>YEAR_MONTH=%{x}<br>PASSENGERS=%{y}<extra></extra>\", \"legendgroup\": \"Swift Air, LLC d/b/a Eastern Air Lines d/b/a Eastern\", \"marker\": {\"color\": \"#B6E880\"}, \"name\": \"Swift Air, LLC d/b/a Eastern Air Lines d/b/a Eastern\", \"offsetgroup\": \"Swift Air, LLC d/b/a Eastern Air Lines d/b/a Eastern\", \"orientation\": \"v\", \"showlegend\": true, \"textposition\": \"auto\", \"type\": \"bar\", \"x\": [\"2020-09-01T00:00:00\"], \"xaxis\": \"x\", \"y\": [57], \"yaxis\": \"y\"}],                        {\"barmode\": \"group\", \"legend\": {\"title\": {\"text\": \"CARRIER_NAME\"}, \"tracegroupgap\": 0}, \"margin\": {\"t\": 60}, \"template\": {\"data\": {\"bar\": [{\"error_x\": {\"color\": \"#2a3f5f\"}, \"error_y\": {\"color\": \"#2a3f5f\"}, \"marker\": {\"line\": {\"color\": \"#E5ECF6\", \"width\": 0.5}}, \"type\": \"bar\"}], \"barpolar\": [{\"marker\": {\"line\": {\"color\": \"#E5ECF6\", \"width\": 0.5}}, \"type\": \"barpolar\"}], \"carpet\": [{\"aaxis\": {\"endlinecolor\": \"#2a3f5f\", \"gridcolor\": \"white\", \"linecolor\": \"white\", \"minorgridcolor\": \"white\", \"startlinecolor\": \"#2a3f5f\"}, \"baxis\": {\"endlinecolor\": \"#2a3f5f\", \"gridcolor\": \"white\", \"linecolor\": \"white\", \"minorgridcolor\": \"white\", \"startlinecolor\": \"#2a3f5f\"}, \"type\": \"carpet\"}], \"choropleth\": [{\"colorbar\": {\"outlinewidth\": 0, \"ticks\": \"\"}, \"type\": \"choropleth\"}], \"contour\": [{\"colorbar\": {\"outlinewidth\": 0, \"ticks\": \"\"}, \"colorscale\": [[0.0, \"#0d0887\"], [0.1111111111111111, \"#46039f\"], [0.2222222222222222, \"#7201a8\"], [0.3333333333333333, \"#9c179e\"], [0.4444444444444444, \"#bd3786\"], [0.5555555555555556, \"#d8576b\"], [0.6666666666666666, \"#ed7953\"], [0.7777777777777778, \"#fb9f3a\"], [0.8888888888888888, \"#fdca26\"], [1.0, \"#f0f921\"]], \"type\": \"contour\"}], \"contourcarpet\": [{\"colorbar\": {\"outlinewidth\": 0, \"ticks\": \"\"}, \"type\": \"contourcarpet\"}], \"heatmap\": [{\"colorbar\": {\"outlinewidth\": 0, \"ticks\": \"\"}, \"colorscale\": [[0.0, \"#0d0887\"], [0.1111111111111111, \"#46039f\"], [0.2222222222222222, \"#7201a8\"], [0.3333333333333333, \"#9c179e\"], [0.4444444444444444, \"#bd3786\"], [0.5555555555555556, \"#d8576b\"], [0.6666666666666666, \"#ed7953\"], [0.7777777777777778, \"#fb9f3a\"], [0.8888888888888888, \"#fdca26\"], [1.0, \"#f0f921\"]], \"type\": \"heatmap\"}], \"heatmapgl\": [{\"colorbar\": {\"outlinewidth\": 0, \"ticks\": \"\"}, \"colorscale\": [[0.0, \"#0d0887\"], [0.1111111111111111, \"#46039f\"], [0.2222222222222222, \"#7201a8\"], [0.3333333333333333, \"#9c179e\"], [0.4444444444444444, \"#bd3786\"], [0.5555555555555556, \"#d8576b\"], [0.6666666666666666, \"#ed7953\"], [0.7777777777777778, \"#fb9f3a\"], [0.8888888888888888, \"#fdca26\"], [1.0, \"#f0f921\"]], \"type\": \"heatmapgl\"}], \"histogram\": [{\"marker\": {\"colorbar\": {\"outlinewidth\": 0, \"ticks\": \"\"}}, \"type\": \"histogram\"}], \"histogram2d\": [{\"colorbar\": {\"outlinewidth\": 0, \"ticks\": \"\"}, \"colorscale\": [[0.0, \"#0d0887\"], [0.1111111111111111, \"#46039f\"], [0.2222222222222222, \"#7201a8\"], [0.3333333333333333, \"#9c179e\"], [0.4444444444444444, \"#bd3786\"], [0.5555555555555556, \"#d8576b\"], [0.6666666666666666, \"#ed7953\"], [0.7777777777777778, \"#fb9f3a\"], [0.8888888888888888, \"#fdca26\"], [1.0, \"#f0f921\"]], \"type\": \"histogram2d\"}], \"histogram2dcontour\": [{\"colorbar\": {\"outlinewidth\": 0, \"ticks\": \"\"}, \"colorscale\": [[0.0, \"#0d0887\"], [0.1111111111111111, \"#46039f\"], [0.2222222222222222, \"#7201a8\"], [0.3333333333333333, \"#9c179e\"], [0.4444444444444444, \"#bd3786\"], [0.5555555555555556, \"#d8576b\"], [0.6666666666666666, \"#ed7953\"], [0.7777777777777778, \"#fb9f3a\"], [0.8888888888888888, \"#fdca26\"], [1.0, \"#f0f921\"]], \"type\": \"histogram2dcontour\"}], \"mesh3d\": [{\"colorbar\": {\"outlinewidth\": 0, \"ticks\": \"\"}, \"type\": \"mesh3d\"}], \"parcoords\": [{\"line\": {\"colorbar\": {\"outlinewidth\": 0, \"ticks\": \"\"}}, \"type\": \"parcoords\"}], \"pie\": [{\"automargin\": true, \"type\": \"pie\"}], \"scatter\": [{\"marker\": {\"colorbar\": {\"outlinewidth\": 0, \"ticks\": \"\"}}, \"type\": \"scatter\"}], \"scatter3d\": [{\"line\": {\"colorbar\": {\"outlinewidth\": 0, \"ticks\": \"\"}}, \"marker\": {\"colorbar\": {\"outlinewidth\": 0, \"ticks\": \"\"}}, \"type\": \"scatter3d\"}], \"scattercarpet\": [{\"marker\": {\"colorbar\": {\"outlinewidth\": 0, \"ticks\": \"\"}}, \"type\": \"scattercarpet\"}], \"scattergeo\": [{\"marker\": {\"colorbar\": {\"outlinewidth\": 0, \"ticks\": \"\"}}, \"type\": \"scattergeo\"}], \"scattergl\": [{\"marker\": {\"colorbar\": {\"outlinewidth\": 0, \"ticks\": \"\"}}, \"type\": \"scattergl\"}], \"scattermapbox\": [{\"marker\": {\"colorbar\": {\"outlinewidth\": 0, \"ticks\": \"\"}}, \"type\": \"scattermapbox\"}], \"scatterpolar\": [{\"marker\": {\"colorbar\": {\"outlinewidth\": 0, \"ticks\": \"\"}}, \"type\": \"scatterpolar\"}], \"scatterpolargl\": [{\"marker\": {\"colorbar\": {\"outlinewidth\": 0, \"ticks\": \"\"}}, \"type\": \"scatterpolargl\"}], \"scatterternary\": [{\"marker\": {\"colorbar\": {\"outlinewidth\": 0, \"ticks\": \"\"}}, \"type\": \"scatterternary\"}], \"surface\": [{\"colorbar\": {\"outlinewidth\": 0, \"ticks\": \"\"}, \"colorscale\": [[0.0, \"#0d0887\"], [0.1111111111111111, \"#46039f\"], [0.2222222222222222, \"#7201a8\"], [0.3333333333333333, \"#9c179e\"], [0.4444444444444444, \"#bd3786\"], [0.5555555555555556, \"#d8576b\"], [0.6666666666666666, \"#ed7953\"], [0.7777777777777778, \"#fb9f3a\"], [0.8888888888888888, \"#fdca26\"], [1.0, \"#f0f921\"]], \"type\": \"surface\"}], \"table\": [{\"cells\": {\"fill\": {\"color\": \"#EBF0F8\"}, \"line\": {\"color\": \"white\"}}, \"header\": {\"fill\": {\"color\": \"#C8D4E3\"}, \"line\": {\"color\": \"white\"}}, \"type\": \"table\"}]}, \"layout\": {\"annotationdefaults\": {\"arrowcolor\": \"#2a3f5f\", \"arrowhead\": 0, \"arrowwidth\": 1}, \"autotypenumbers\": \"strict\", \"coloraxis\": {\"colorbar\": {\"outlinewidth\": 0, \"ticks\": \"\"}}, \"colorscale\": {\"diverging\": [[0, \"#8e0152\"], [0.1, \"#c51b7d\"], [0.2, \"#de77ae\"], [0.3, \"#f1b6da\"], [0.4, \"#fde0ef\"], [0.5, \"#f7f7f7\"], [0.6, \"#e6f5d0\"], [0.7, \"#b8e186\"], [0.8, \"#7fbc41\"], [0.9, \"#4d9221\"], [1, \"#276419\"]], \"sequential\": [[0.0, \"#0d0887\"], [0.1111111111111111, \"#46039f\"], [0.2222222222222222, \"#7201a8\"], [0.3333333333333333, \"#9c179e\"], [0.4444444444444444, \"#bd3786\"], [0.5555555555555556, \"#d8576b\"], [0.6666666666666666, \"#ed7953\"], [0.7777777777777778, \"#fb9f3a\"], [0.8888888888888888, \"#fdca26\"], [1.0, \"#f0f921\"]], \"sequentialminus\": [[0.0, \"#0d0887\"], [0.1111111111111111, \"#46039f\"], [0.2222222222222222, \"#7201a8\"], [0.3333333333333333, \"#9c179e\"], [0.4444444444444444, \"#bd3786\"], [0.5555555555555556, \"#d8576b\"], [0.6666666666666666, \"#ed7953\"], [0.7777777777777778, \"#fb9f3a\"], [0.8888888888888888, \"#fdca26\"], [1.0, \"#f0f921\"]]}, \"colorway\": [\"#636efa\", \"#EF553B\", \"#00cc96\", \"#ab63fa\", \"#FFA15A\", \"#19d3f3\", \"#FF6692\", \"#B6E880\", \"#FF97FF\", \"#FECB52\"], \"font\": {\"color\": \"#2a3f5f\"}, \"geo\": {\"bgcolor\": \"white\", \"lakecolor\": \"white\", \"landcolor\": \"#E5ECF6\", \"showlakes\": true, \"showland\": true, \"subunitcolor\": \"white\"}, \"hoverlabel\": {\"align\": \"left\"}, \"hovermode\": \"closest\", \"mapbox\": {\"style\": \"light\"}, \"paper_bgcolor\": \"white\", \"plot_bgcolor\": \"#E5ECF6\", \"polar\": {\"angularaxis\": {\"gridcolor\": \"white\", \"linecolor\": \"white\", \"ticks\": \"\"}, \"bgcolor\": \"#E5ECF6\", \"radialaxis\": {\"gridcolor\": \"white\", \"linecolor\": \"white\", \"ticks\": \"\"}}, \"scene\": {\"xaxis\": {\"backgroundcolor\": \"#E5ECF6\", \"gridcolor\": \"white\", \"gridwidth\": 2, \"linecolor\": \"white\", \"showbackground\": true, \"ticks\": \"\", \"zerolinecolor\": \"white\"}, \"yaxis\": {\"backgroundcolor\": \"#E5ECF6\", \"gridcolor\": \"white\", \"gridwidth\": 2, \"linecolor\": \"white\", \"showbackground\": true, \"ticks\": \"\", \"zerolinecolor\": \"white\"}, \"zaxis\": {\"backgroundcolor\": \"#E5ECF6\", \"gridcolor\": \"white\", \"gridwidth\": 2, \"linecolor\": \"white\", \"showbackground\": true, \"ticks\": \"\", \"zerolinecolor\": \"white\"}}, \"shapedefaults\": {\"line\": {\"color\": \"#2a3f5f\"}}, \"ternary\": {\"aaxis\": {\"gridcolor\": \"white\", \"linecolor\": \"white\", \"ticks\": \"\"}, \"baxis\": {\"gridcolor\": \"white\", \"linecolor\": \"white\", \"ticks\": \"\"}, \"bgcolor\": \"#E5ECF6\", \"caxis\": {\"gridcolor\": \"white\", \"linecolor\": \"white\", \"ticks\": \"\"}}, \"title\": {\"x\": 0.05}, \"xaxis\": {\"automargin\": true, \"gridcolor\": \"white\", \"linecolor\": \"white\", \"ticks\": \"\", \"title\": {\"standoff\": 15}, \"zerolinecolor\": \"white\", \"zerolinewidth\": 2}, \"yaxis\": {\"automargin\": true, \"gridcolor\": \"white\", \"linecolor\": \"white\", \"ticks\": \"\", \"title\": {\"standoff\": 15}, \"zerolinecolor\": \"white\", \"zerolinewidth\": 2}}}, \"xaxis\": {\"anchor\": \"y\", \"domain\": [0.0, 1.0], \"title\": {\"text\": \"YEAR_MONTH\"}}, \"yaxis\": {\"anchor\": \"x\", \"domain\": [0.0, 1.0], \"title\": {\"text\": \"PASSENGERS\"}}},                        {\"responsive\": true}                    ).then(function(){\n",
       "                            \n",
       "var gd = document.getElementById('6ea19adc-d806-467c-a529-52c63b907abc');\n",
       "var x = new MutationObserver(function (mutations, observer) {{\n",
       "        var display = window.getComputedStyle(gd).display;\n",
       "        if (!display || display === 'none') {{\n",
       "            console.log([gd, 'removed!']);\n",
       "            Plotly.purge(gd);\n",
       "            observer.disconnect();\n",
       "        }}\n",
       "}});\n",
       "\n",
       "// Listen for the removal of the full notebook cells\n",
       "var notebookContainer = gd.closest('#notebook-container');\n",
       "if (notebookContainer) {{\n",
       "    x.observe(notebookContainer, {childList: true});\n",
       "}}\n",
       "\n",
       "// Listen for the clearing of the current output cell\n",
       "var outputEl = gd.closest('.output');\n",
       "if (outputEl) {{\n",
       "    x.observe(outputEl, {childList: true});\n",
       "}}\n",
       "\n",
       "                        })                };                });            </script>        </div>"
      ]
     },
     "metadata": {},
     "output_type": "display_data"
    }
   ],
   "source": [
    "# Change the default stacking\n",
    "import plotly.express as px\n",
    "fig = px.bar(combine_Data, x=\"YEAR_MONTH\", y=\"PASSENGERS\",\n",
    "             color='CARRIER_NAME', barmode='group')\n",
    "fig.show()"
   ]
  },
  {
   "cell_type": "code",
   "execution_count": 93,
   "metadata": {
    "scrolled": true
   },
   "outputs": [
    {
     "data": {
      "text/html": [
       "<div>\n",
       "<style scoped>\n",
       "    .dataframe tbody tr th:only-of-type {\n",
       "        vertical-align: middle;\n",
       "    }\n",
       "\n",
       "    .dataframe tbody tr th {\n",
       "        vertical-align: top;\n",
       "    }\n",
       "\n",
       "    .dataframe thead th {\n",
       "        text-align: right;\n",
       "    }\n",
       "</style>\n",
       "<table border=\"1\" class=\"dataframe\">\n",
       "  <thead>\n",
       "    <tr style=\"text-align: right;\">\n",
       "      <th></th>\n",
       "      <th>PASSENGERS</th>\n",
       "      <th>FREIGHT</th>\n",
       "      <th>CARRIER_NAME</th>\n",
       "      <th>ORIGIN</th>\n",
       "      <th>DEST</th>\n",
       "      <th>DEST_CITY_NAME</th>\n",
       "      <th>YEAR</th>\n",
       "      <th>QUARTER</th>\n",
       "      <th>MONTH</th>\n",
       "      <th>YEAR_MONTH</th>\n",
       "    </tr>\n",
       "  </thead>\n",
       "  <tbody>\n",
       "    <tr>\n",
       "      <th>4173</th>\n",
       "      <td>0</td>\n",
       "      <td>0</td>\n",
       "      <td>Atlas Air Inc.</td>\n",
       "      <td>ATL</td>\n",
       "      <td>LAX</td>\n",
       "      <td>Los Angeles, CA</td>\n",
       "      <td>2019</td>\n",
       "      <td>4</td>\n",
       "      <td>11</td>\n",
       "      <td>2019-11-01</td>\n",
       "    </tr>\n",
       "    <tr>\n",
       "      <th>10965</th>\n",
       "      <td>0</td>\n",
       "      <td>0</td>\n",
       "      <td>Miami Air International</td>\n",
       "      <td>ATL</td>\n",
       "      <td>LGA</td>\n",
       "      <td>New York, NY</td>\n",
       "      <td>2019</td>\n",
       "      <td>4</td>\n",
       "      <td>12</td>\n",
       "      <td>2019-12-01</td>\n",
       "    </tr>\n",
       "    <tr>\n",
       "      <th>13433</th>\n",
       "      <td>0</td>\n",
       "      <td>49782</td>\n",
       "      <td>Federal Express Corporation</td>\n",
       "      <td>ATL</td>\n",
       "      <td>IAH</td>\n",
       "      <td>Houston, TX</td>\n",
       "      <td>2019</td>\n",
       "      <td>2</td>\n",
       "      <td>4</td>\n",
       "      <td>2019-04-01</td>\n",
       "    </tr>\n",
       "    <tr>\n",
       "      <th>21338</th>\n",
       "      <td>0</td>\n",
       "      <td>1287407</td>\n",
       "      <td>Federal Express Corporation</td>\n",
       "      <td>ATL</td>\n",
       "      <td>LAX</td>\n",
       "      <td>Los Angeles, CA</td>\n",
       "      <td>2019</td>\n",
       "      <td>4</td>\n",
       "      <td>11</td>\n",
       "      <td>2019-11-01</td>\n",
       "    </tr>\n",
       "    <tr>\n",
       "      <th>22145</th>\n",
       "      <td>0</td>\n",
       "      <td>463720</td>\n",
       "      <td>Federal Express Corporation</td>\n",
       "      <td>ATL</td>\n",
       "      <td>LAX</td>\n",
       "      <td>Los Angeles, CA</td>\n",
       "      <td>2019</td>\n",
       "      <td>4</td>\n",
       "      <td>12</td>\n",
       "      <td>2019-12-01</td>\n",
       "    </tr>\n",
       "    <tr>\n",
       "      <th>...</th>\n",
       "      <td>...</td>\n",
       "      <td>...</td>\n",
       "      <td>...</td>\n",
       "      <td>...</td>\n",
       "      <td>...</td>\n",
       "      <td>...</td>\n",
       "      <td>...</td>\n",
       "      <td>...</td>\n",
       "      <td>...</td>\n",
       "      <td>...</td>\n",
       "    </tr>\n",
       "    <tr>\n",
       "      <th>191718</th>\n",
       "      <td>29927</td>\n",
       "      <td>274986</td>\n",
       "      <td>Delta Air Lines Inc.</td>\n",
       "      <td>ATL</td>\n",
       "      <td>LAX</td>\n",
       "      <td>Los Angeles, CA</td>\n",
       "      <td>2020</td>\n",
       "      <td>4</td>\n",
       "      <td>10</td>\n",
       "      <td>2020-10-01</td>\n",
       "    </tr>\n",
       "    <tr>\n",
       "      <th>192320</th>\n",
       "      <td>54819</td>\n",
       "      <td>882911</td>\n",
       "      <td>Delta Air Lines Inc.</td>\n",
       "      <td>ATL</td>\n",
       "      <td>LAX</td>\n",
       "      <td>Los Angeles, CA</td>\n",
       "      <td>2020</td>\n",
       "      <td>1</td>\n",
       "      <td>2</td>\n",
       "      <td>2020-02-01</td>\n",
       "    </tr>\n",
       "    <tr>\n",
       "      <th>192325</th>\n",
       "      <td>56010</td>\n",
       "      <td>38826</td>\n",
       "      <td>Delta Air Lines Inc.</td>\n",
       "      <td>ATL</td>\n",
       "      <td>LGA</td>\n",
       "      <td>New York, NY</td>\n",
       "      <td>2020</td>\n",
       "      <td>1</td>\n",
       "      <td>2</td>\n",
       "      <td>2020-02-01</td>\n",
       "    </tr>\n",
       "    <tr>\n",
       "      <th>192337</th>\n",
       "      <td>59187</td>\n",
       "      <td>43598</td>\n",
       "      <td>Delta Air Lines Inc.</td>\n",
       "      <td>ATL</td>\n",
       "      <td>LGA</td>\n",
       "      <td>New York, NY</td>\n",
       "      <td>2020</td>\n",
       "      <td>1</td>\n",
       "      <td>1</td>\n",
       "      <td>2020-01-01</td>\n",
       "    </tr>\n",
       "    <tr>\n",
       "      <th>192339</th>\n",
       "      <td>60731</td>\n",
       "      <td>749453</td>\n",
       "      <td>Delta Air Lines Inc.</td>\n",
       "      <td>ATL</td>\n",
       "      <td>LAX</td>\n",
       "      <td>Los Angeles, CA</td>\n",
       "      <td>2020</td>\n",
       "      <td>1</td>\n",
       "      <td>1</td>\n",
       "      <td>2020-01-01</td>\n",
       "    </tr>\n",
       "  </tbody>\n",
       "</table>\n",
       "<p>421 rows × 10 columns</p>\n",
       "</div>"
      ],
      "text/plain": [
       "        PASSENGERS  FREIGHT                 CARRIER_NAME ORIGIN DEST  \\\n",
       "4173             0        0               Atlas Air Inc.    ATL  LAX   \n",
       "10965            0        0      Miami Air International    ATL  LGA   \n",
       "13433            0    49782  Federal Express Corporation    ATL  IAH   \n",
       "21338            0  1287407  Federal Express Corporation    ATL  LAX   \n",
       "22145            0   463720  Federal Express Corporation    ATL  LAX   \n",
       "...            ...      ...                          ...    ...  ...   \n",
       "191718       29927   274986         Delta Air Lines Inc.    ATL  LAX   \n",
       "192320       54819   882911         Delta Air Lines Inc.    ATL  LAX   \n",
       "192325       56010    38826         Delta Air Lines Inc.    ATL  LGA   \n",
       "192337       59187    43598         Delta Air Lines Inc.    ATL  LGA   \n",
       "192339       60731   749453         Delta Air Lines Inc.    ATL  LAX   \n",
       "\n",
       "         DEST_CITY_NAME  YEAR  QUARTER  MONTH YEAR_MONTH  \n",
       "4173    Los Angeles, CA  2019        4     11 2019-11-01  \n",
       "10965      New York, NY  2019        4     12 2019-12-01  \n",
       "13433       Houston, TX  2019        2      4 2019-04-01  \n",
       "21338   Los Angeles, CA  2019        4     11 2019-11-01  \n",
       "22145   Los Angeles, CA  2019        4     12 2019-12-01  \n",
       "...                 ...   ...      ...    ...        ...  \n",
       "191718  Los Angeles, CA  2020        4     10 2020-10-01  \n",
       "192320  Los Angeles, CA  2020        1      2 2020-02-01  \n",
       "192325     New York, NY  2020        1      2 2020-02-01  \n",
       "192337     New York, NY  2020        1      1 2020-01-01  \n",
       "192339  Los Angeles, CA  2020        1      1 2020-01-01  \n",
       "\n",
       "[421 rows x 10 columns]"
      ]
     },
     "execution_count": 93,
     "metadata": {},
     "output_type": "execute_result"
    }
   ],
   "source": [
    "combine_Data.drop([\"DISTANCE\",\"UNIQUE_CARRIER_NAME\",\"ORIGIN_CITY_NAME\",\"DISTANCE_GROUP\"],axis=1)"
   ]
  },
  {
   "cell_type": "code",
   "execution_count": 134,
   "metadata": {},
   "outputs": [
    {
     "data": {
      "application/vnd.plotly.v1+json": {
       "config": {
        "plotlyServerURL": "https://plot.ly"
       },
       "data": [
        {
         "alignmentgroup": "True",
         "hovertemplate": "CARRIER_NAME=Atlas Air Inc.<br>YEAR_MONTH=%{x}<br>FREIGHT=%{y}<extra></extra>",
         "legendgroup": "Atlas Air Inc.",
         "marker": {
          "color": "#636efa"
         },
         "name": "Atlas Air Inc.",
         "offsetgroup": "Atlas Air Inc.",
         "orientation": "v",
         "showlegend": true,
         "textposition": "auto",
         "type": "bar",
         "x": [
          "2019-11-01T00:00:00"
         ],
         "xaxis": "x",
         "y": [
          0
         ],
         "yaxis": "y"
        },
        {
         "alignmentgroup": "True",
         "hovertemplate": "CARRIER_NAME=Miami Air International<br>YEAR_MONTH=%{x}<br>FREIGHT=%{y}<extra></extra>",
         "legendgroup": "Miami Air International",
         "marker": {
          "color": "#EF553B"
         },
         "name": "Miami Air International",
         "offsetgroup": "Miami Air International",
         "orientation": "v",
         "showlegend": true,
         "textposition": "auto",
         "type": "bar",
         "x": [
          "2019-12-01T00:00:00",
          "2019-11-01T00:00:00"
         ],
         "xaxis": "x",
         "y": [
          0,
          0
         ],
         "yaxis": "y"
        },
        {
         "alignmentgroup": "True",
         "hovertemplate": "CARRIER_NAME=Federal Express Corporation<br>YEAR_MONTH=%{x}<br>FREIGHT=%{y}<extra></extra>",
         "legendgroup": "Federal Express Corporation",
         "marker": {
          "color": "#00cc96"
         },
         "name": "Federal Express Corporation",
         "offsetgroup": "Federal Express Corporation",
         "orientation": "v",
         "showlegend": true,
         "textposition": "auto",
         "type": "bar",
         "x": [
          "2019-04-01T00:00:00",
          "2019-11-01T00:00:00",
          "2019-12-01T00:00:00",
          "2019-09-01T00:00:00",
          "2019-05-01T00:00:00"
         ],
         "xaxis": "x",
         "y": [
          49782,
          1287407,
          463720,
          1041367,
          48785
         ],
         "yaxis": "y"
        },
        {
         "alignmentgroup": "True",
         "hovertemplate": "CARRIER_NAME=United Air Lines Inc.<br>YEAR_MONTH=%{x}<br>FREIGHT=%{y}<extra></extra>",
         "legendgroup": "United Air Lines Inc.",
         "marker": {
          "color": "#ab63fa"
         },
         "name": "United Air Lines Inc.",
         "offsetgroup": "United Air Lines Inc.",
         "orientation": "v",
         "showlegend": true,
         "textposition": "auto",
         "type": "bar",
         "x": [
          "2019-07-01T00:00:00",
          "2019-01-01T00:00:00",
          "2019-09-01T00:00:00",
          "2019-03-01T00:00:00",
          "2019-10-01T00:00:00",
          "2019-11-01T00:00:00",
          "2019-08-01T00:00:00",
          "2019-06-01T00:00:00",
          "2019-01-01T00:00:00",
          "2019-10-01T00:00:00",
          "2019-02-01T00:00:00",
          "2019-02-01T00:00:00",
          "2019-02-01T00:00:00",
          "2019-11-01T00:00:00",
          "2019-12-01T00:00:00",
          "2020-01-01T00:00:00",
          "2020-06-01T00:00:00",
          "2020-03-01T00:00:00",
          "2020-07-01T00:00:00",
          "2020-08-01T00:00:00",
          "2020-01-01T00:00:00",
          "2020-02-01T00:00:00",
          "2020-09-01T00:00:00",
          "2020-11-01T00:00:00",
          "2020-12-01T00:00:00",
          "2020-10-01T00:00:00"
         ],
         "xaxis": "x",
         "y": [
          0,
          0,
          0,
          0,
          0,
          0,
          16823,
          0,
          0,
          2,
          34840,
          85,
          608,
          1980,
          1644,
          0,
          398,
          976,
          1215,
          1563,
          2095,
          2162,
          3593,
          3843,
          3834,
          5414
         ],
         "yaxis": "y"
        },
        {
         "alignmentgroup": "True",
         "hovertemplate": "CARRIER_NAME=Endeavor Air Inc.<br>YEAR_MONTH=%{x}<br>FREIGHT=%{y}<extra></extra>",
         "legendgroup": "Endeavor Air Inc.",
         "marker": {
          "color": "#FFA15A"
         },
         "name": "Endeavor Air Inc.",
         "offsetgroup": "Endeavor Air Inc.",
         "orientation": "v",
         "showlegend": true,
         "textposition": "auto",
         "type": "bar",
         "x": [
          "2019-06-01T00:00:00",
          "2020-11-01T00:00:00",
          "2020-12-01T00:00:00"
         ],
         "xaxis": "x",
         "y": [
          0,
          0,
          0
         ],
         "yaxis": "y"
        },
        {
         "alignmentgroup": "True",
         "hovertemplate": "CARRIER_NAME=ExpressJet Airlines Inc.<br>YEAR_MONTH=%{x}<br>FREIGHT=%{y}<extra></extra>",
         "legendgroup": "ExpressJet Airlines Inc.",
         "marker": {
          "color": "#19d3f3"
         },
         "name": "ExpressJet Airlines Inc.",
         "offsetgroup": "ExpressJet Airlines Inc.",
         "orientation": "v",
         "showlegend": true,
         "textposition": "auto",
         "type": "bar",
         "x": [
          "2019-02-01T00:00:00",
          "2019-01-01T00:00:00"
         ],
         "xaxis": "x",
         "y": [
          0,
          0
         ],
         "yaxis": "y"
        },
        {
         "alignmentgroup": "True",
         "hovertemplate": "CARRIER_NAME=Delta Air Lines Inc.<br>YEAR_MONTH=%{x}<br>FREIGHT=%{y}<extra></extra>",
         "legendgroup": "Delta Air Lines Inc.",
         "marker": {
          "color": "#FF6692"
         },
         "name": "Delta Air Lines Inc.",
         "offsetgroup": "Delta Air Lines Inc.",
         "orientation": "v",
         "showlegend": true,
         "textposition": "auto",
         "type": "bar",
         "x": [
          "2019-02-01T00:00:00",
          "2019-02-01T00:00:00",
          "2019-02-01T00:00:00",
          "2019-10-01T00:00:00",
          "2019-02-01T00:00:00",
          "2019-01-01T00:00:00",
          "2019-09-01T00:00:00",
          "2019-03-01T00:00:00",
          "2019-11-01T00:00:00",
          "2019-04-01T00:00:00",
          "2019-10-01T00:00:00",
          "2019-12-01T00:00:00",
          "2019-08-01T00:00:00",
          "2019-07-01T00:00:00",
          "2019-05-01T00:00:00",
          "2019-06-01T00:00:00",
          "2019-02-01T00:00:00",
          "2019-01-01T00:00:00",
          "2019-09-01T00:00:00",
          "2019-11-01T00:00:00",
          "2019-12-01T00:00:00",
          "2019-10-01T00:00:00",
          "2019-03-01T00:00:00",
          "2019-04-01T00:00:00",
          "2019-05-01T00:00:00",
          "2019-06-01T00:00:00",
          "2019-08-01T00:00:00",
          "2019-07-01T00:00:00",
          "2019-02-01T00:00:00",
          "2019-11-01T00:00:00",
          "2019-01-01T00:00:00",
          "2019-02-01T00:00:00",
          "2019-09-01T00:00:00",
          "2019-10-01T00:00:00",
          "2019-01-01T00:00:00",
          "2019-12-01T00:00:00",
          "2019-04-01T00:00:00",
          "2019-03-01T00:00:00",
          "2019-11-01T00:00:00",
          "2019-09-01T00:00:00",
          "2019-03-01T00:00:00",
          "2019-04-01T00:00:00",
          "2019-06-01T00:00:00",
          "2019-05-01T00:00:00",
          "2019-10-01T00:00:00",
          "2019-08-01T00:00:00",
          "2019-07-01T00:00:00",
          "2019-06-01T00:00:00",
          "2019-05-01T00:00:00",
          "2019-08-01T00:00:00",
          "2019-07-01T00:00:00",
          "2019-12-01T00:00:00",
          "2020-04-01T00:00:00",
          "2020-10-01T00:00:00",
          "2020-12-01T00:00:00",
          "2020-04-01T00:00:00",
          "2020-12-01T00:00:00",
          "2020-04-01T00:00:00",
          "2020-05-01T00:00:00",
          "2020-06-01T00:00:00",
          "2020-05-01T00:00:00",
          "2020-07-01T00:00:00",
          "2020-04-01T00:00:00",
          "2020-06-01T00:00:00",
          "2020-07-01T00:00:00",
          "2020-08-01T00:00:00",
          "2020-05-01T00:00:00",
          "2020-04-01T00:00:00",
          "2020-09-01T00:00:00",
          "2020-11-01T00:00:00",
          "2020-08-01T00:00:00",
          "2020-03-01T00:00:00",
          "2020-10-01T00:00:00",
          "2020-09-01T00:00:00",
          "2020-10-01T00:00:00",
          "2020-11-01T00:00:00",
          "2020-05-01T00:00:00",
          "2020-06-01T00:00:00",
          "2020-12-01T00:00:00",
          "2020-03-01T00:00:00",
          "2020-02-01T00:00:00",
          "2020-07-01T00:00:00",
          "2020-11-01T00:00:00",
          "2020-01-01T00:00:00",
          "2020-06-01T00:00:00",
          "2020-12-01T00:00:00",
          "2020-08-01T00:00:00",
          "2020-10-01T00:00:00",
          "2020-09-01T00:00:00",
          "2020-07-01T00:00:00",
          "2020-03-01T00:00:00",
          "2020-02-01T00:00:00",
          "2020-01-01T00:00:00",
          "2020-08-01T00:00:00",
          "2020-09-01T00:00:00",
          "2020-12-01T00:00:00",
          "2020-03-01T00:00:00",
          "2020-11-01T00:00:00",
          "2020-10-01T00:00:00",
          "2020-02-01T00:00:00",
          "2020-02-01T00:00:00",
          "2020-01-01T00:00:00",
          "2020-01-01T00:00:00"
         ],
         "xaxis": "x",
         "y": [
          0,
          0,
          0,
          0,
          8700,
          7367,
          15,
          8615,
          0,
          5444,
          0,
          0,
          0,
          0,
          4275,
          4204,
          43378,
          49260,
          67865,
          62893,
          55340,
          79214,
          65128,
          62778,
          65776,
          46980,
          60194,
          89160,
          40286,
          692838,
          43905,
          650155,
          717062,
          838368,
          678805,
          815399,
          551182,
          938014,
          41497,
          37752,
          42292,
          39069,
          611265,
          601162,
          46481,
          584309,
          33517,
          33371,
          42699,
          32638,
          622826,
          41135,
          8203,
          0,
          19000,
          0,
          0,
          24166,
          0,
          0,
          25675,
          0,
          55049,
          26100,
          28079,
          0,
          75366,
          167779,
          46,
          0,
          31284,
          0,
          0,
          38565,
          46934,
          62511,
          231676,
          43849,
          80361,
          47538,
          0,
          39525,
          32837,
          0,
          522987,
          38113,
          36521,
          44081,
          32531,
          554734,
          34947,
          54915,
          55240,
          374902,
          422375,
          472454,
          537254,
          458259,
          274986,
          882911,
          38826,
          43598,
          749453
         ],
         "yaxis": "y"
        },
        {
         "alignmentgroup": "True",
         "hovertemplate": "CARRIER_NAME=SkyWest Airlines Inc.<br>YEAR_MONTH=%{x}<br>FREIGHT=%{y}<extra></extra>",
         "legendgroup": "SkyWest Airlines Inc.",
         "marker": {
          "color": "#B6E880"
         },
         "name": "SkyWest Airlines Inc.",
         "offsetgroup": "SkyWest Airlines Inc.",
         "orientation": "v",
         "showlegend": true,
         "textposition": "auto",
         "type": "bar",
         "x": [
          "2019-01-01T00:00:00",
          "2019-04-01T00:00:00",
          "2019-08-01T00:00:00",
          "2019-10-01T00:00:00",
          "2019-12-01T00:00:00",
          "2019-06-01T00:00:00",
          "2019-05-01T00:00:00",
          "2019-09-01T00:00:00",
          "2019-11-01T00:00:00",
          "2020-04-01T00:00:00",
          "2020-01-01T00:00:00",
          "2020-03-01T00:00:00",
          "2020-02-01T00:00:00",
          "2020-07-01T00:00:00",
          "2020-08-01T00:00:00",
          "2020-06-01T00:00:00",
          "2020-09-01T00:00:00",
          "2020-11-01T00:00:00",
          "2020-10-01T00:00:00",
          "2020-12-01T00:00:00"
         ],
         "xaxis": "x",
         "y": [
          0,
          0,
          0,
          0,
          0,
          0,
          0,
          0,
          0,
          0,
          0,
          0,
          0,
          0,
          0,
          0,
          0,
          0,
          0,
          0
         ],
         "yaxis": "y"
        },
        {
         "alignmentgroup": "True",
         "hovertemplate": "CARRIER_NAME=Republic Airline<br>YEAR_MONTH=%{x}<br>FREIGHT=%{y}<extra></extra>",
         "legendgroup": "Republic Airline",
         "marker": {
          "color": "#FF97FF"
         },
         "name": "Republic Airline",
         "offsetgroup": "Republic Airline",
         "orientation": "v",
         "showlegend": true,
         "textposition": "auto",
         "type": "bar",
         "x": [
          "2019-11-01T00:00:00",
          "2019-09-01T00:00:00",
          "2019-10-01T00:00:00",
          "2019-12-01T00:00:00",
          "2019-05-01T00:00:00",
          "2019-08-01T00:00:00",
          "2019-02-01T00:00:00",
          "2019-07-01T00:00:00",
          "2019-01-01T00:00:00",
          "2019-11-01T00:00:00",
          "2019-09-01T00:00:00",
          "2019-06-01T00:00:00",
          "2019-10-01T00:00:00",
          "2019-07-01T00:00:00",
          "2019-12-01T00:00:00",
          "2019-04-01T00:00:00",
          "2019-03-01T00:00:00",
          "2019-08-01T00:00:00",
          "2019-06-01T00:00:00",
          "2019-05-01T00:00:00",
          "2019-02-01T00:00:00",
          "2019-01-01T00:00:00",
          "2019-03-01T00:00:00",
          "2019-04-01T00:00:00",
          "2020-04-01T00:00:00",
          "2020-03-01T00:00:00",
          "2020-01-01T00:00:00",
          "2020-03-01T00:00:00",
          "2020-01-01T00:00:00",
          "2020-02-01T00:00:00"
         ],
         "xaxis": "x",
         "y": [
          0,
          0,
          0,
          0,
          0,
          0,
          0,
          0,
          0,
          0,
          0,
          0,
          0,
          0,
          0,
          0,
          0,
          0,
          0,
          0,
          0,
          0,
          0,
          0,
          0,
          0,
          0,
          0,
          0,
          0
         ],
         "yaxis": "y"
        },
        {
         "alignmentgroup": "True",
         "hovertemplate": "CARRIER_NAME=American Airlines Inc.<br>YEAR_MONTH=%{x}<br>FREIGHT=%{y}<extra></extra>",
         "legendgroup": "American Airlines Inc.",
         "marker": {
          "color": "#FECB52"
         },
         "name": "American Airlines Inc.",
         "offsetgroup": "American Airlines Inc.",
         "orientation": "v",
         "showlegend": true,
         "textposition": "auto",
         "type": "bar",
         "x": [
          "2019-04-01T00:00:00",
          "2019-02-01T00:00:00",
          "2019-02-01T00:00:00",
          "2019-01-01T00:00:00",
          "2019-11-01T00:00:00",
          "2019-03-01T00:00:00",
          "2019-04-01T00:00:00",
          "2019-07-01T00:00:00",
          "2019-12-01T00:00:00",
          "2019-10-01T00:00:00",
          "2019-09-01T00:00:00",
          "2019-06-01T00:00:00",
          "2019-08-01T00:00:00",
          "2019-05-01T00:00:00",
          "2019-04-01T00:00:00",
          "2019-08-01T00:00:00",
          "2019-09-01T00:00:00",
          "2019-02-01T00:00:00",
          "2019-01-01T00:00:00",
          "2019-03-01T00:00:00",
          "2019-11-01T00:00:00",
          "2019-07-01T00:00:00",
          "2019-05-01T00:00:00",
          "2019-06-01T00:00:00",
          "2019-10-01T00:00:00",
          "2019-12-01T00:00:00",
          "2020-04-01T00:00:00",
          "2020-12-01T00:00:00",
          "2020-04-01T00:00:00",
          "2020-03-01T00:00:00",
          "2020-01-01T00:00:00",
          "2020-02-01T00:00:00",
          "2020-03-01T00:00:00",
          "2020-02-01T00:00:00",
          "2020-01-01T00:00:00"
         ],
         "xaxis": "x",
         "y": [
          133,
          0,
          5,
          2,
          0,
          22,
          1,
          15,
          251,
          32,
          22,
          31,
          6,
          25,
          956,
          952,
          1494,
          506,
          3574,
          1418,
          1069,
          4148,
          1485,
          946,
          4649,
          3145,
          0,
          0,
          309,
          434,
          620,
          3,
          434,
          1423,
          3208
         ],
         "yaxis": "y"
        },
        {
         "alignmentgroup": "True",
         "hovertemplate": "CARRIER_NAME=ExpressJet Airlines LLC<br>YEAR_MONTH=%{x}<br>FREIGHT=%{y}<extra></extra>",
         "legendgroup": "ExpressJet Airlines LLC",
         "marker": {
          "color": "#636efa"
         },
         "name": "ExpressJet Airlines LLC",
         "offsetgroup": "ExpressJet Airlines LLC",
         "orientation": "v",
         "showlegend": true,
         "textposition": "auto",
         "type": "bar",
         "x": [
          "2019-11-01T00:00:00",
          "2019-12-01T00:00:00",
          "2019-09-01T00:00:00",
          "2019-10-01T00:00:00",
          "2019-06-01T00:00:00",
          "2019-08-01T00:00:00",
          "2019-07-01T00:00:00",
          "2020-05-01T00:00:00",
          "2020-04-01T00:00:00",
          "2020-03-01T00:00:00",
          "2020-02-01T00:00:00",
          "2020-01-01T00:00:00"
         ],
         "xaxis": "x",
         "y": [
          0,
          0,
          0,
          0,
          0,
          0,
          0,
          0,
          0,
          0,
          0,
          0
         ],
         "yaxis": "y"
        },
        {
         "alignmentgroup": "True",
         "hovertemplate": "CARRIER_NAME=Frontier Airlines Inc.<br>YEAR_MONTH=%{x}<br>FREIGHT=%{y}<extra></extra>",
         "legendgroup": "Frontier Airlines Inc.",
         "marker": {
          "color": "#EF553B"
         },
         "name": "Frontier Airlines Inc.",
         "offsetgroup": "Frontier Airlines Inc.",
         "orientation": "v",
         "showlegend": true,
         "textposition": "auto",
         "type": "bar",
         "x": [
          "2019-02-01T00:00:00",
          "2019-11-01T00:00:00",
          "2019-04-01T00:00:00",
          "2019-09-01T00:00:00",
          "2019-10-01T00:00:00",
          "2019-01-01T00:00:00",
          "2019-07-01T00:00:00",
          "2019-03-01T00:00:00",
          "2019-08-01T00:00:00",
          "2019-05-01T00:00:00",
          "2019-06-01T00:00:00",
          "2019-12-01T00:00:00",
          "2019-01-01T00:00:00",
          "2019-10-01T00:00:00",
          "2019-03-01T00:00:00",
          "2019-02-01T00:00:00",
          "2019-09-01T00:00:00",
          "2019-04-01T00:00:00",
          "2019-11-01T00:00:00",
          "2019-08-01T00:00:00",
          "2019-05-01T00:00:00",
          "2019-06-01T00:00:00",
          "2019-07-01T00:00:00",
          "2019-12-01T00:00:00",
          "2020-06-01T00:00:00",
          "2020-03-01T00:00:00",
          "2020-08-01T00:00:00",
          "2020-02-01T00:00:00",
          "2020-01-01T00:00:00",
          "2020-09-01T00:00:00",
          "2020-03-01T00:00:00",
          "2020-10-01T00:00:00",
          "2020-07-01T00:00:00",
          "2020-11-01T00:00:00",
          "2020-12-01T00:00:00",
          "2020-02-01T00:00:00",
          "2020-01-01T00:00:00"
         ],
         "xaxis": "x",
         "y": [
          0,
          0,
          0,
          0,
          0,
          0,
          0,
          0,
          0,
          0,
          0,
          0,
          0,
          0,
          0,
          0,
          0,
          0,
          0,
          0,
          0,
          0,
          0,
          0,
          0,
          0,
          0,
          0,
          0,
          0,
          0,
          0,
          0,
          0,
          0,
          0,
          0
         ],
         "yaxis": "y"
        },
        {
         "alignmentgroup": "True",
         "hovertemplate": "CARRIER_NAME=Spirit Air Lines<br>YEAR_MONTH=%{x}<br>FREIGHT=%{y}<extra></extra>",
         "legendgroup": "Spirit Air Lines",
         "marker": {
          "color": "#00cc96"
         },
         "name": "Spirit Air Lines",
         "offsetgroup": "Spirit Air Lines",
         "orientation": "v",
         "showlegend": true,
         "textposition": "auto",
         "type": "bar",
         "x": [
          "2019-01-01T00:00:00",
          "2019-02-01T00:00:00",
          "2019-04-01T00:00:00",
          "2019-03-01T00:00:00",
          "2019-12-01T00:00:00",
          "2019-07-01T00:00:00",
          "2019-08-01T00:00:00",
          "2019-06-01T00:00:00",
          "2019-09-01T00:00:00",
          "2019-11-01T00:00:00",
          "2019-05-01T00:00:00",
          "2019-02-01T00:00:00",
          "2019-10-01T00:00:00",
          "2019-01-01T00:00:00",
          "2019-12-01T00:00:00",
          "2019-09-01T00:00:00",
          "2019-11-01T00:00:00",
          "2019-10-01T00:00:00",
          "2019-07-01T00:00:00",
          "2019-06-01T00:00:00",
          "2019-08-01T00:00:00",
          "2019-04-01T00:00:00",
          "2019-05-01T00:00:00",
          "2019-03-01T00:00:00",
          "2020-04-01T00:00:00",
          "2020-04-01T00:00:00",
          "2020-06-01T00:00:00",
          "2020-03-01T00:00:00",
          "2020-02-01T00:00:00",
          "2020-01-01T00:00:00",
          "2020-03-01T00:00:00",
          "2020-09-01T00:00:00",
          "2020-06-01T00:00:00",
          "2020-10-01T00:00:00",
          "2020-12-01T00:00:00",
          "2020-07-01T00:00:00",
          "2020-02-01T00:00:00",
          "2020-08-01T00:00:00",
          "2020-01-01T00:00:00",
          "2020-11-01T00:00:00",
          "2020-09-01T00:00:00",
          "2020-08-01T00:00:00",
          "2020-12-01T00:00:00",
          "2020-07-01T00:00:00",
          "2020-10-01T00:00:00",
          "2020-11-01T00:00:00"
         ],
         "xaxis": "x",
         "y": [
          0,
          0,
          0,
          0,
          0,
          0,
          0,
          0,
          0,
          0,
          0,
          0,
          0,
          0,
          0,
          0,
          0,
          0,
          0,
          0,
          0,
          0,
          0,
          0,
          0,
          0,
          0,
          0,
          0,
          0,
          0,
          0,
          0,
          0,
          0,
          0,
          0,
          0,
          0,
          0,
          0,
          0,
          0,
          0,
          0,
          0
         ],
         "yaxis": "y"
        },
        {
         "alignmentgroup": "True",
         "hovertemplate": "CARRIER_NAME=Mesa Airlines Inc.<br>YEAR_MONTH=%{x}<br>FREIGHT=%{y}<extra></extra>",
         "legendgroup": "Mesa Airlines Inc.",
         "marker": {
          "color": "#ab63fa"
         },
         "name": "Mesa Airlines Inc.",
         "offsetgroup": "Mesa Airlines Inc.",
         "orientation": "v",
         "showlegend": true,
         "textposition": "auto",
         "type": "bar",
         "x": [
          "2019-07-01T00:00:00",
          "2019-06-01T00:00:00",
          "2019-08-01T00:00:00",
          "2019-02-01T00:00:00",
          "2019-11-01T00:00:00",
          "2019-12-01T00:00:00",
          "2019-04-01T00:00:00",
          "2019-05-01T00:00:00",
          "2019-01-01T00:00:00",
          "2019-03-01T00:00:00",
          "2019-09-01T00:00:00",
          "2019-10-01T00:00:00",
          "2020-04-01T00:00:00",
          "2020-12-01T00:00:00",
          "2020-10-01T00:00:00",
          "2020-08-01T00:00:00",
          "2020-06-01T00:00:00",
          "2020-07-01T00:00:00",
          "2020-11-01T00:00:00",
          "2020-09-01T00:00:00",
          "2020-05-01T00:00:00",
          "2020-03-01T00:00:00",
          "2020-01-01T00:00:00",
          "2020-02-01T00:00:00"
         ],
         "xaxis": "x",
         "y": [
          0,
          0,
          0,
          0,
          0,
          0,
          0,
          0,
          0,
          0,
          0,
          0,
          0,
          0,
          0,
          0,
          0,
          0,
          0,
          0,
          0,
          0,
          0,
          0
         ],
         "yaxis": "y"
        },
        {
         "alignmentgroup": "True",
         "hovertemplate": "CARRIER_NAME=Southwest Airlines Co.<br>YEAR_MONTH=%{x}<br>FREIGHT=%{y}<extra></extra>",
         "legendgroup": "Southwest Airlines Co.",
         "marker": {
          "color": "#FFA15A"
         },
         "name": "Southwest Airlines Co.",
         "offsetgroup": "Southwest Airlines Co.",
         "orientation": "v",
         "showlegend": true,
         "textposition": "auto",
         "type": "bar",
         "x": [
          "2019-09-01T00:00:00",
          "2019-11-01T00:00:00",
          "2019-08-01T00:00:00",
          "2019-10-01T00:00:00",
          "2019-12-01T00:00:00",
          "2019-02-01T00:00:00",
          "2019-01-01T00:00:00",
          "2019-05-01T00:00:00",
          "2019-06-01T00:00:00",
          "2019-04-01T00:00:00",
          "2019-07-01T00:00:00",
          "2019-03-01T00:00:00",
          "2019-02-01T00:00:00",
          "2019-01-01T00:00:00",
          "2019-11-01T00:00:00",
          "2019-10-01T00:00:00",
          "2019-02-01T00:00:00",
          "2019-09-01T00:00:00",
          "2019-04-01T00:00:00",
          "2019-09-01T00:00:00",
          "2019-01-01T00:00:00",
          "2019-03-01T00:00:00",
          "2019-06-01T00:00:00",
          "2019-08-01T00:00:00",
          "2019-04-01T00:00:00",
          "2019-07-01T00:00:00",
          "2019-05-01T00:00:00",
          "2019-12-01T00:00:00",
          "2019-06-01T00:00:00",
          "2019-11-01T00:00:00",
          "2019-05-01T00:00:00",
          "2019-03-01T00:00:00",
          "2019-08-01T00:00:00",
          "2019-07-01T00:00:00",
          "2019-12-01T00:00:00",
          "2019-10-01T00:00:00",
          "2020-12-01T00:00:00",
          "2020-11-01T00:00:00",
          "2020-05-01T00:00:00",
          "2020-10-01T00:00:00",
          "2020-04-01T00:00:00",
          "2020-04-01T00:00:00",
          "2020-09-01T00:00:00",
          "2020-04-01T00:00:00",
          "2020-05-01T00:00:00",
          "2020-08-01T00:00:00",
          "2020-05-01T00:00:00",
          "2020-08-01T00:00:00",
          "2020-11-01T00:00:00",
          "2020-03-01T00:00:00",
          "2020-07-01T00:00:00",
          "2020-06-01T00:00:00",
          "2020-09-01T00:00:00",
          "2020-06-01T00:00:00",
          "2020-10-01T00:00:00",
          "2020-12-01T00:00:00",
          "2020-07-01T00:00:00",
          "2020-08-01T00:00:00",
          "2020-03-01T00:00:00",
          "2020-02-01T00:00:00",
          "2020-01-01T00:00:00",
          "2020-06-01T00:00:00",
          "2020-07-01T00:00:00",
          "2020-03-01T00:00:00",
          "2020-09-01T00:00:00",
          "2020-10-01T00:00:00",
          "2020-11-01T00:00:00",
          "2020-02-01T00:00:00",
          "2020-01-01T00:00:00",
          "2020-12-01T00:00:00",
          "2020-02-01T00:00:00",
          "2020-01-01T00:00:00"
         ],
         "xaxis": "x",
         "y": [
          27025,
          24864,
          25839,
          34378,
          25393,
          37546,
          39846,
          38864,
          37331,
          29025,
          31114,
          30088,
          24614,
          23374,
          24523,
          18585,
          42275,
          23704,
          23501,
          14805,
          34992,
          23717,
          21979,
          24851,
          31661,
          18599,
          29288,
          26765,
          18006,
          18331,
          24994,
          32501,
          23703,
          22625,
          22449,
          30227,
          0,
          2569,
          5587,
          3793,
          16364,
          36257,
          4668,
          20674,
          28834,
          24489,
          23439,
          31772,
          61936,
          28492,
          30253,
          32893,
          44056,
          25023,
          69216,
          61791,
          51542,
          16573,
          30909,
          40291,
          30636,
          21854,
          17882,
          18360,
          22194,
          22372,
          34765,
          28422,
          31586,
          46017,
          27054,
          15865
         ],
         "yaxis": "y"
        },
        {
         "alignmentgroup": "True",
         "hovertemplate": "CARRIER_NAME=National Air Cargo Group Inc d/ba National Airlines<br>YEAR_MONTH=%{x}<br>FREIGHT=%{y}<extra></extra>",
         "legendgroup": "National Air Cargo Group Inc d/ba National Airlines",
         "marker": {
          "color": "#19d3f3"
         },
         "name": "National Air Cargo Group Inc d/ba National Airlines",
         "offsetgroup": "National Air Cargo Group Inc d/ba National Airlines",
         "orientation": "v",
         "showlegend": true,
         "textposition": "auto",
         "type": "bar",
         "x": [
          "2020-03-01T00:00:00"
         ],
         "xaxis": "x",
         "y": [
          0
         ],
         "yaxis": "y"
        },
        {
         "alignmentgroup": "True",
         "hovertemplate": "CARRIER_NAME=Air Transport International<br>YEAR_MONTH=%{x}<br>FREIGHT=%{y}<extra></extra>",
         "legendgroup": "Air Transport International",
         "marker": {
          "color": "#FF6692"
         },
         "name": "Air Transport International",
         "offsetgroup": "Air Transport International",
         "orientation": "v",
         "showlegend": true,
         "textposition": "auto",
         "type": "bar",
         "x": [
          "2020-09-01T00:00:00"
         ],
         "xaxis": "x",
         "y": [
          47891
         ],
         "yaxis": "y"
        },
        {
         "alignmentgroup": "True",
         "hovertemplate": "CARRIER_NAME=Swift Air, LLC d/b/a Eastern Air Lines d/b/a Eastern<br>YEAR_MONTH=%{x}<br>FREIGHT=%{y}<extra></extra>",
         "legendgroup": "Swift Air, LLC d/b/a Eastern Air Lines d/b/a Eastern",
         "marker": {
          "color": "#B6E880"
         },
         "name": "Swift Air, LLC d/b/a Eastern Air Lines d/b/a Eastern",
         "offsetgroup": "Swift Air, LLC d/b/a Eastern Air Lines d/b/a Eastern",
         "orientation": "v",
         "showlegend": true,
         "textposition": "auto",
         "type": "bar",
         "x": [
          "2020-09-01T00:00:00"
         ],
         "xaxis": "x",
         "y": [
          0
         ],
         "yaxis": "y"
        }
       ],
       "layout": {
        "barmode": "group",
        "legend": {
         "title": {
          "text": "CARRIER_NAME"
         },
         "tracegroupgap": 0
        },
        "margin": {
         "t": 60
        },
        "template": {
         "data": {
          "bar": [
           {
            "error_x": {
             "color": "#2a3f5f"
            },
            "error_y": {
             "color": "#2a3f5f"
            },
            "marker": {
             "line": {
              "color": "#E5ECF6",
              "width": 0.5
             }
            },
            "type": "bar"
           }
          ],
          "barpolar": [
           {
            "marker": {
             "line": {
              "color": "#E5ECF6",
              "width": 0.5
             }
            },
            "type": "barpolar"
           }
          ],
          "carpet": [
           {
            "aaxis": {
             "endlinecolor": "#2a3f5f",
             "gridcolor": "white",
             "linecolor": "white",
             "minorgridcolor": "white",
             "startlinecolor": "#2a3f5f"
            },
            "baxis": {
             "endlinecolor": "#2a3f5f",
             "gridcolor": "white",
             "linecolor": "white",
             "minorgridcolor": "white",
             "startlinecolor": "#2a3f5f"
            },
            "type": "carpet"
           }
          ],
          "choropleth": [
           {
            "colorbar": {
             "outlinewidth": 0,
             "ticks": ""
            },
            "type": "choropleth"
           }
          ],
          "contour": [
           {
            "colorbar": {
             "outlinewidth": 0,
             "ticks": ""
            },
            "colorscale": [
             [
              0,
              "#0d0887"
             ],
             [
              0.1111111111111111,
              "#46039f"
             ],
             [
              0.2222222222222222,
              "#7201a8"
             ],
             [
              0.3333333333333333,
              "#9c179e"
             ],
             [
              0.4444444444444444,
              "#bd3786"
             ],
             [
              0.5555555555555556,
              "#d8576b"
             ],
             [
              0.6666666666666666,
              "#ed7953"
             ],
             [
              0.7777777777777778,
              "#fb9f3a"
             ],
             [
              0.8888888888888888,
              "#fdca26"
             ],
             [
              1,
              "#f0f921"
             ]
            ],
            "type": "contour"
           }
          ],
          "contourcarpet": [
           {
            "colorbar": {
             "outlinewidth": 0,
             "ticks": ""
            },
            "type": "contourcarpet"
           }
          ],
          "heatmap": [
           {
            "colorbar": {
             "outlinewidth": 0,
             "ticks": ""
            },
            "colorscale": [
             [
              0,
              "#0d0887"
             ],
             [
              0.1111111111111111,
              "#46039f"
             ],
             [
              0.2222222222222222,
              "#7201a8"
             ],
             [
              0.3333333333333333,
              "#9c179e"
             ],
             [
              0.4444444444444444,
              "#bd3786"
             ],
             [
              0.5555555555555556,
              "#d8576b"
             ],
             [
              0.6666666666666666,
              "#ed7953"
             ],
             [
              0.7777777777777778,
              "#fb9f3a"
             ],
             [
              0.8888888888888888,
              "#fdca26"
             ],
             [
              1,
              "#f0f921"
             ]
            ],
            "type": "heatmap"
           }
          ],
          "heatmapgl": [
           {
            "colorbar": {
             "outlinewidth": 0,
             "ticks": ""
            },
            "colorscale": [
             [
              0,
              "#0d0887"
             ],
             [
              0.1111111111111111,
              "#46039f"
             ],
             [
              0.2222222222222222,
              "#7201a8"
             ],
             [
              0.3333333333333333,
              "#9c179e"
             ],
             [
              0.4444444444444444,
              "#bd3786"
             ],
             [
              0.5555555555555556,
              "#d8576b"
             ],
             [
              0.6666666666666666,
              "#ed7953"
             ],
             [
              0.7777777777777778,
              "#fb9f3a"
             ],
             [
              0.8888888888888888,
              "#fdca26"
             ],
             [
              1,
              "#f0f921"
             ]
            ],
            "type": "heatmapgl"
           }
          ],
          "histogram": [
           {
            "marker": {
             "colorbar": {
              "outlinewidth": 0,
              "ticks": ""
             }
            },
            "type": "histogram"
           }
          ],
          "histogram2d": [
           {
            "colorbar": {
             "outlinewidth": 0,
             "ticks": ""
            },
            "colorscale": [
             [
              0,
              "#0d0887"
             ],
             [
              0.1111111111111111,
              "#46039f"
             ],
             [
              0.2222222222222222,
              "#7201a8"
             ],
             [
              0.3333333333333333,
              "#9c179e"
             ],
             [
              0.4444444444444444,
              "#bd3786"
             ],
             [
              0.5555555555555556,
              "#d8576b"
             ],
             [
              0.6666666666666666,
              "#ed7953"
             ],
             [
              0.7777777777777778,
              "#fb9f3a"
             ],
             [
              0.8888888888888888,
              "#fdca26"
             ],
             [
              1,
              "#f0f921"
             ]
            ],
            "type": "histogram2d"
           }
          ],
          "histogram2dcontour": [
           {
            "colorbar": {
             "outlinewidth": 0,
             "ticks": ""
            },
            "colorscale": [
             [
              0,
              "#0d0887"
             ],
             [
              0.1111111111111111,
              "#46039f"
             ],
             [
              0.2222222222222222,
              "#7201a8"
             ],
             [
              0.3333333333333333,
              "#9c179e"
             ],
             [
              0.4444444444444444,
              "#bd3786"
             ],
             [
              0.5555555555555556,
              "#d8576b"
             ],
             [
              0.6666666666666666,
              "#ed7953"
             ],
             [
              0.7777777777777778,
              "#fb9f3a"
             ],
             [
              0.8888888888888888,
              "#fdca26"
             ],
             [
              1,
              "#f0f921"
             ]
            ],
            "type": "histogram2dcontour"
           }
          ],
          "mesh3d": [
           {
            "colorbar": {
             "outlinewidth": 0,
             "ticks": ""
            },
            "type": "mesh3d"
           }
          ],
          "parcoords": [
           {
            "line": {
             "colorbar": {
              "outlinewidth": 0,
              "ticks": ""
             }
            },
            "type": "parcoords"
           }
          ],
          "pie": [
           {
            "automargin": true,
            "type": "pie"
           }
          ],
          "scatter": [
           {
            "marker": {
             "colorbar": {
              "outlinewidth": 0,
              "ticks": ""
             }
            },
            "type": "scatter"
           }
          ],
          "scatter3d": [
           {
            "line": {
             "colorbar": {
              "outlinewidth": 0,
              "ticks": ""
             }
            },
            "marker": {
             "colorbar": {
              "outlinewidth": 0,
              "ticks": ""
             }
            },
            "type": "scatter3d"
           }
          ],
          "scattercarpet": [
           {
            "marker": {
             "colorbar": {
              "outlinewidth": 0,
              "ticks": ""
             }
            },
            "type": "scattercarpet"
           }
          ],
          "scattergeo": [
           {
            "marker": {
             "colorbar": {
              "outlinewidth": 0,
              "ticks": ""
             }
            },
            "type": "scattergeo"
           }
          ],
          "scattergl": [
           {
            "marker": {
             "colorbar": {
              "outlinewidth": 0,
              "ticks": ""
             }
            },
            "type": "scattergl"
           }
          ],
          "scattermapbox": [
           {
            "marker": {
             "colorbar": {
              "outlinewidth": 0,
              "ticks": ""
             }
            },
            "type": "scattermapbox"
           }
          ],
          "scatterpolar": [
           {
            "marker": {
             "colorbar": {
              "outlinewidth": 0,
              "ticks": ""
             }
            },
            "type": "scatterpolar"
           }
          ],
          "scatterpolargl": [
           {
            "marker": {
             "colorbar": {
              "outlinewidth": 0,
              "ticks": ""
             }
            },
            "type": "scatterpolargl"
           }
          ],
          "scatterternary": [
           {
            "marker": {
             "colorbar": {
              "outlinewidth": 0,
              "ticks": ""
             }
            },
            "type": "scatterternary"
           }
          ],
          "surface": [
           {
            "colorbar": {
             "outlinewidth": 0,
             "ticks": ""
            },
            "colorscale": [
             [
              0,
              "#0d0887"
             ],
             [
              0.1111111111111111,
              "#46039f"
             ],
             [
              0.2222222222222222,
              "#7201a8"
             ],
             [
              0.3333333333333333,
              "#9c179e"
             ],
             [
              0.4444444444444444,
              "#bd3786"
             ],
             [
              0.5555555555555556,
              "#d8576b"
             ],
             [
              0.6666666666666666,
              "#ed7953"
             ],
             [
              0.7777777777777778,
              "#fb9f3a"
             ],
             [
              0.8888888888888888,
              "#fdca26"
             ],
             [
              1,
              "#f0f921"
             ]
            ],
            "type": "surface"
           }
          ],
          "table": [
           {
            "cells": {
             "fill": {
              "color": "#EBF0F8"
             },
             "line": {
              "color": "white"
             }
            },
            "header": {
             "fill": {
              "color": "#C8D4E3"
             },
             "line": {
              "color": "white"
             }
            },
            "type": "table"
           }
          ]
         },
         "layout": {
          "annotationdefaults": {
           "arrowcolor": "#2a3f5f",
           "arrowhead": 0,
           "arrowwidth": 1
          },
          "autotypenumbers": "strict",
          "coloraxis": {
           "colorbar": {
            "outlinewidth": 0,
            "ticks": ""
           }
          },
          "colorscale": {
           "diverging": [
            [
             0,
             "#8e0152"
            ],
            [
             0.1,
             "#c51b7d"
            ],
            [
             0.2,
             "#de77ae"
            ],
            [
             0.3,
             "#f1b6da"
            ],
            [
             0.4,
             "#fde0ef"
            ],
            [
             0.5,
             "#f7f7f7"
            ],
            [
             0.6,
             "#e6f5d0"
            ],
            [
             0.7,
             "#b8e186"
            ],
            [
             0.8,
             "#7fbc41"
            ],
            [
             0.9,
             "#4d9221"
            ],
            [
             1,
             "#276419"
            ]
           ],
           "sequential": [
            [
             0,
             "#0d0887"
            ],
            [
             0.1111111111111111,
             "#46039f"
            ],
            [
             0.2222222222222222,
             "#7201a8"
            ],
            [
             0.3333333333333333,
             "#9c179e"
            ],
            [
             0.4444444444444444,
             "#bd3786"
            ],
            [
             0.5555555555555556,
             "#d8576b"
            ],
            [
             0.6666666666666666,
             "#ed7953"
            ],
            [
             0.7777777777777778,
             "#fb9f3a"
            ],
            [
             0.8888888888888888,
             "#fdca26"
            ],
            [
             1,
             "#f0f921"
            ]
           ],
           "sequentialminus": [
            [
             0,
             "#0d0887"
            ],
            [
             0.1111111111111111,
             "#46039f"
            ],
            [
             0.2222222222222222,
             "#7201a8"
            ],
            [
             0.3333333333333333,
             "#9c179e"
            ],
            [
             0.4444444444444444,
             "#bd3786"
            ],
            [
             0.5555555555555556,
             "#d8576b"
            ],
            [
             0.6666666666666666,
             "#ed7953"
            ],
            [
             0.7777777777777778,
             "#fb9f3a"
            ],
            [
             0.8888888888888888,
             "#fdca26"
            ],
            [
             1,
             "#f0f921"
            ]
           ]
          },
          "colorway": [
           "#636efa",
           "#EF553B",
           "#00cc96",
           "#ab63fa",
           "#FFA15A",
           "#19d3f3",
           "#FF6692",
           "#B6E880",
           "#FF97FF",
           "#FECB52"
          ],
          "font": {
           "color": "#2a3f5f"
          },
          "geo": {
           "bgcolor": "white",
           "lakecolor": "white",
           "landcolor": "#E5ECF6",
           "showlakes": true,
           "showland": true,
           "subunitcolor": "white"
          },
          "hoverlabel": {
           "align": "left"
          },
          "hovermode": "closest",
          "mapbox": {
           "style": "light"
          },
          "paper_bgcolor": "white",
          "plot_bgcolor": "#E5ECF6",
          "polar": {
           "angularaxis": {
            "gridcolor": "white",
            "linecolor": "white",
            "ticks": ""
           },
           "bgcolor": "#E5ECF6",
           "radialaxis": {
            "gridcolor": "white",
            "linecolor": "white",
            "ticks": ""
           }
          },
          "scene": {
           "xaxis": {
            "backgroundcolor": "#E5ECF6",
            "gridcolor": "white",
            "gridwidth": 2,
            "linecolor": "white",
            "showbackground": true,
            "ticks": "",
            "zerolinecolor": "white"
           },
           "yaxis": {
            "backgroundcolor": "#E5ECF6",
            "gridcolor": "white",
            "gridwidth": 2,
            "linecolor": "white",
            "showbackground": true,
            "ticks": "",
            "zerolinecolor": "white"
           },
           "zaxis": {
            "backgroundcolor": "#E5ECF6",
            "gridcolor": "white",
            "gridwidth": 2,
            "linecolor": "white",
            "showbackground": true,
            "ticks": "",
            "zerolinecolor": "white"
           }
          },
          "shapedefaults": {
           "line": {
            "color": "#2a3f5f"
           }
          },
          "ternary": {
           "aaxis": {
            "gridcolor": "white",
            "linecolor": "white",
            "ticks": ""
           },
           "baxis": {
            "gridcolor": "white",
            "linecolor": "white",
            "ticks": ""
           },
           "bgcolor": "#E5ECF6",
           "caxis": {
            "gridcolor": "white",
            "linecolor": "white",
            "ticks": ""
           }
          },
          "title": {
           "x": 0.05
          },
          "xaxis": {
           "automargin": true,
           "gridcolor": "white",
           "linecolor": "white",
           "ticks": "",
           "title": {
            "standoff": 15
           },
           "zerolinecolor": "white",
           "zerolinewidth": 2
          },
          "yaxis": {
           "automargin": true,
           "gridcolor": "white",
           "linecolor": "white",
           "ticks": "",
           "title": {
            "standoff": 15
           },
           "zerolinecolor": "white",
           "zerolinewidth": 2
          }
         }
        },
        "xaxis": {
         "anchor": "y",
         "domain": [
          0,
          1
         ],
         "title": {
          "text": "YEAR_MONTH"
         }
        },
        "yaxis": {
         "anchor": "x",
         "domain": [
          0,
          1
         ],
         "title": {
          "text": "FREIGHT"
         }
        }
       }
      },
      "text/html": [
       "<div>                            <div id=\"7ab73462-dfcb-4c37-ad3a-1c5712271913\" class=\"plotly-graph-div\" style=\"height:525px; width:100%;\"></div>            <script type=\"text/javascript\">                require([\"plotly\"], function(Plotly) {                    window.PLOTLYENV=window.PLOTLYENV || {};                                    if (document.getElementById(\"7ab73462-dfcb-4c37-ad3a-1c5712271913\")) {                    Plotly.newPlot(                        \"7ab73462-dfcb-4c37-ad3a-1c5712271913\",                        [{\"alignmentgroup\": \"True\", \"hovertemplate\": \"CARRIER_NAME=Atlas Air Inc.<br>YEAR_MONTH=%{x}<br>FREIGHT=%{y}<extra></extra>\", \"legendgroup\": \"Atlas Air Inc.\", \"marker\": {\"color\": \"#636efa\"}, \"name\": \"Atlas Air Inc.\", \"offsetgroup\": \"Atlas Air Inc.\", \"orientation\": \"v\", \"showlegend\": true, \"textposition\": \"auto\", \"type\": \"bar\", \"x\": [\"2019-11-01T00:00:00\"], \"xaxis\": \"x\", \"y\": [0], \"yaxis\": \"y\"}, {\"alignmentgroup\": \"True\", \"hovertemplate\": \"CARRIER_NAME=Miami Air International<br>YEAR_MONTH=%{x}<br>FREIGHT=%{y}<extra></extra>\", \"legendgroup\": \"Miami Air International\", \"marker\": {\"color\": \"#EF553B\"}, \"name\": \"Miami Air International\", \"offsetgroup\": \"Miami Air International\", \"orientation\": \"v\", \"showlegend\": true, \"textposition\": \"auto\", \"type\": \"bar\", \"x\": [\"2019-12-01T00:00:00\", \"2019-11-01T00:00:00\"], \"xaxis\": \"x\", \"y\": [0, 0], \"yaxis\": \"y\"}, {\"alignmentgroup\": \"True\", \"hovertemplate\": \"CARRIER_NAME=Federal Express Corporation<br>YEAR_MONTH=%{x}<br>FREIGHT=%{y}<extra></extra>\", \"legendgroup\": \"Federal Express Corporation\", \"marker\": {\"color\": \"#00cc96\"}, \"name\": \"Federal Express Corporation\", \"offsetgroup\": \"Federal Express Corporation\", \"orientation\": \"v\", \"showlegend\": true, \"textposition\": \"auto\", \"type\": \"bar\", \"x\": [\"2019-04-01T00:00:00\", \"2019-11-01T00:00:00\", \"2019-12-01T00:00:00\", \"2019-09-01T00:00:00\", \"2019-05-01T00:00:00\"], \"xaxis\": \"x\", \"y\": [49782, 1287407, 463720, 1041367, 48785], \"yaxis\": \"y\"}, {\"alignmentgroup\": \"True\", \"hovertemplate\": \"CARRIER_NAME=United Air Lines Inc.<br>YEAR_MONTH=%{x}<br>FREIGHT=%{y}<extra></extra>\", \"legendgroup\": \"United Air Lines Inc.\", \"marker\": {\"color\": \"#ab63fa\"}, \"name\": \"United Air Lines Inc.\", \"offsetgroup\": \"United Air Lines Inc.\", \"orientation\": \"v\", \"showlegend\": true, \"textposition\": \"auto\", \"type\": \"bar\", \"x\": [\"2019-07-01T00:00:00\", \"2019-01-01T00:00:00\", \"2019-09-01T00:00:00\", \"2019-03-01T00:00:00\", \"2019-10-01T00:00:00\", \"2019-11-01T00:00:00\", \"2019-08-01T00:00:00\", \"2019-06-01T00:00:00\", \"2019-01-01T00:00:00\", \"2019-10-01T00:00:00\", \"2019-02-01T00:00:00\", \"2019-02-01T00:00:00\", \"2019-02-01T00:00:00\", \"2019-11-01T00:00:00\", \"2019-12-01T00:00:00\", \"2020-01-01T00:00:00\", \"2020-06-01T00:00:00\", \"2020-03-01T00:00:00\", \"2020-07-01T00:00:00\", \"2020-08-01T00:00:00\", \"2020-01-01T00:00:00\", \"2020-02-01T00:00:00\", \"2020-09-01T00:00:00\", \"2020-11-01T00:00:00\", \"2020-12-01T00:00:00\", \"2020-10-01T00:00:00\"], \"xaxis\": \"x\", \"y\": [0, 0, 0, 0, 0, 0, 16823, 0, 0, 2, 34840, 85, 608, 1980, 1644, 0, 398, 976, 1215, 1563, 2095, 2162, 3593, 3843, 3834, 5414], \"yaxis\": \"y\"}, {\"alignmentgroup\": \"True\", \"hovertemplate\": \"CARRIER_NAME=Endeavor Air Inc.<br>YEAR_MONTH=%{x}<br>FREIGHT=%{y}<extra></extra>\", \"legendgroup\": \"Endeavor Air Inc.\", \"marker\": {\"color\": \"#FFA15A\"}, \"name\": \"Endeavor Air Inc.\", \"offsetgroup\": \"Endeavor Air Inc.\", \"orientation\": \"v\", \"showlegend\": true, \"textposition\": \"auto\", \"type\": \"bar\", \"x\": [\"2019-06-01T00:00:00\", \"2020-11-01T00:00:00\", \"2020-12-01T00:00:00\"], \"xaxis\": \"x\", \"y\": [0, 0, 0], \"yaxis\": \"y\"}, {\"alignmentgroup\": \"True\", \"hovertemplate\": \"CARRIER_NAME=ExpressJet Airlines Inc.<br>YEAR_MONTH=%{x}<br>FREIGHT=%{y}<extra></extra>\", \"legendgroup\": \"ExpressJet Airlines Inc.\", \"marker\": {\"color\": \"#19d3f3\"}, \"name\": \"ExpressJet Airlines Inc.\", \"offsetgroup\": \"ExpressJet Airlines Inc.\", \"orientation\": \"v\", \"showlegend\": true, \"textposition\": \"auto\", \"type\": \"bar\", \"x\": [\"2019-02-01T00:00:00\", \"2019-01-01T00:00:00\"], \"xaxis\": \"x\", \"y\": [0, 0], \"yaxis\": \"y\"}, {\"alignmentgroup\": \"True\", \"hovertemplate\": \"CARRIER_NAME=Delta Air Lines Inc.<br>YEAR_MONTH=%{x}<br>FREIGHT=%{y}<extra></extra>\", \"legendgroup\": \"Delta Air Lines Inc.\", \"marker\": {\"color\": \"#FF6692\"}, \"name\": \"Delta Air Lines Inc.\", \"offsetgroup\": \"Delta Air Lines Inc.\", \"orientation\": \"v\", \"showlegend\": true, \"textposition\": \"auto\", \"type\": \"bar\", \"x\": [\"2019-02-01T00:00:00\", \"2019-02-01T00:00:00\", \"2019-02-01T00:00:00\", \"2019-10-01T00:00:00\", \"2019-02-01T00:00:00\", \"2019-01-01T00:00:00\", \"2019-09-01T00:00:00\", \"2019-03-01T00:00:00\", \"2019-11-01T00:00:00\", \"2019-04-01T00:00:00\", \"2019-10-01T00:00:00\", \"2019-12-01T00:00:00\", \"2019-08-01T00:00:00\", \"2019-07-01T00:00:00\", \"2019-05-01T00:00:00\", \"2019-06-01T00:00:00\", \"2019-02-01T00:00:00\", \"2019-01-01T00:00:00\", \"2019-09-01T00:00:00\", \"2019-11-01T00:00:00\", \"2019-12-01T00:00:00\", \"2019-10-01T00:00:00\", \"2019-03-01T00:00:00\", \"2019-04-01T00:00:00\", \"2019-05-01T00:00:00\", \"2019-06-01T00:00:00\", \"2019-08-01T00:00:00\", \"2019-07-01T00:00:00\", \"2019-02-01T00:00:00\", \"2019-11-01T00:00:00\", \"2019-01-01T00:00:00\", \"2019-02-01T00:00:00\", \"2019-09-01T00:00:00\", \"2019-10-01T00:00:00\", \"2019-01-01T00:00:00\", \"2019-12-01T00:00:00\", \"2019-04-01T00:00:00\", \"2019-03-01T00:00:00\", \"2019-11-01T00:00:00\", \"2019-09-01T00:00:00\", \"2019-03-01T00:00:00\", \"2019-04-01T00:00:00\", \"2019-06-01T00:00:00\", \"2019-05-01T00:00:00\", \"2019-10-01T00:00:00\", \"2019-08-01T00:00:00\", \"2019-07-01T00:00:00\", \"2019-06-01T00:00:00\", \"2019-05-01T00:00:00\", \"2019-08-01T00:00:00\", \"2019-07-01T00:00:00\", \"2019-12-01T00:00:00\", \"2020-04-01T00:00:00\", \"2020-10-01T00:00:00\", \"2020-12-01T00:00:00\", \"2020-04-01T00:00:00\", \"2020-12-01T00:00:00\", \"2020-04-01T00:00:00\", \"2020-05-01T00:00:00\", \"2020-06-01T00:00:00\", \"2020-05-01T00:00:00\", \"2020-07-01T00:00:00\", \"2020-04-01T00:00:00\", \"2020-06-01T00:00:00\", \"2020-07-01T00:00:00\", \"2020-08-01T00:00:00\", \"2020-05-01T00:00:00\", \"2020-04-01T00:00:00\", \"2020-09-01T00:00:00\", \"2020-11-01T00:00:00\", \"2020-08-01T00:00:00\", \"2020-03-01T00:00:00\", \"2020-10-01T00:00:00\", \"2020-09-01T00:00:00\", \"2020-10-01T00:00:00\", \"2020-11-01T00:00:00\", \"2020-05-01T00:00:00\", \"2020-06-01T00:00:00\", \"2020-12-01T00:00:00\", \"2020-03-01T00:00:00\", \"2020-02-01T00:00:00\", \"2020-07-01T00:00:00\", \"2020-11-01T00:00:00\", \"2020-01-01T00:00:00\", \"2020-06-01T00:00:00\", \"2020-12-01T00:00:00\", \"2020-08-01T00:00:00\", \"2020-10-01T00:00:00\", \"2020-09-01T00:00:00\", \"2020-07-01T00:00:00\", \"2020-03-01T00:00:00\", \"2020-02-01T00:00:00\", \"2020-01-01T00:00:00\", \"2020-08-01T00:00:00\", \"2020-09-01T00:00:00\", \"2020-12-01T00:00:00\", \"2020-03-01T00:00:00\", \"2020-11-01T00:00:00\", \"2020-10-01T00:00:00\", \"2020-02-01T00:00:00\", \"2020-02-01T00:00:00\", \"2020-01-01T00:00:00\", \"2020-01-01T00:00:00\"], \"xaxis\": \"x\", \"y\": [0, 0, 0, 0, 8700, 7367, 15, 8615, 0, 5444, 0, 0, 0, 0, 4275, 4204, 43378, 49260, 67865, 62893, 55340, 79214, 65128, 62778, 65776, 46980, 60194, 89160, 40286, 692838, 43905, 650155, 717062, 838368, 678805, 815399, 551182, 938014, 41497, 37752, 42292, 39069, 611265, 601162, 46481, 584309, 33517, 33371, 42699, 32638, 622826, 41135, 8203, 0, 19000, 0, 0, 24166, 0, 0, 25675, 0, 55049, 26100, 28079, 0, 75366, 167779, 46, 0, 31284, 0, 0, 38565, 46934, 62511, 231676, 43849, 80361, 47538, 0, 39525, 32837, 0, 522987, 38113, 36521, 44081, 32531, 554734, 34947, 54915, 55240, 374902, 422375, 472454, 537254, 458259, 274986, 882911, 38826, 43598, 749453], \"yaxis\": \"y\"}, {\"alignmentgroup\": \"True\", \"hovertemplate\": \"CARRIER_NAME=SkyWest Airlines Inc.<br>YEAR_MONTH=%{x}<br>FREIGHT=%{y}<extra></extra>\", \"legendgroup\": \"SkyWest Airlines Inc.\", \"marker\": {\"color\": \"#B6E880\"}, \"name\": \"SkyWest Airlines Inc.\", \"offsetgroup\": \"SkyWest Airlines Inc.\", \"orientation\": \"v\", \"showlegend\": true, \"textposition\": \"auto\", \"type\": \"bar\", \"x\": [\"2019-01-01T00:00:00\", \"2019-04-01T00:00:00\", \"2019-08-01T00:00:00\", \"2019-10-01T00:00:00\", \"2019-12-01T00:00:00\", \"2019-06-01T00:00:00\", \"2019-05-01T00:00:00\", \"2019-09-01T00:00:00\", \"2019-11-01T00:00:00\", \"2020-04-01T00:00:00\", \"2020-01-01T00:00:00\", \"2020-03-01T00:00:00\", \"2020-02-01T00:00:00\", \"2020-07-01T00:00:00\", \"2020-08-01T00:00:00\", \"2020-06-01T00:00:00\", \"2020-09-01T00:00:00\", \"2020-11-01T00:00:00\", \"2020-10-01T00:00:00\", \"2020-12-01T00:00:00\"], \"xaxis\": \"x\", \"y\": [0, 0, 0, 0, 0, 0, 0, 0, 0, 0, 0, 0, 0, 0, 0, 0, 0, 0, 0, 0], \"yaxis\": \"y\"}, {\"alignmentgroup\": \"True\", \"hovertemplate\": \"CARRIER_NAME=Republic Airline<br>YEAR_MONTH=%{x}<br>FREIGHT=%{y}<extra></extra>\", \"legendgroup\": \"Republic Airline\", \"marker\": {\"color\": \"#FF97FF\"}, \"name\": \"Republic Airline\", \"offsetgroup\": \"Republic Airline\", \"orientation\": \"v\", \"showlegend\": true, \"textposition\": \"auto\", \"type\": \"bar\", \"x\": [\"2019-11-01T00:00:00\", \"2019-09-01T00:00:00\", \"2019-10-01T00:00:00\", \"2019-12-01T00:00:00\", \"2019-05-01T00:00:00\", \"2019-08-01T00:00:00\", \"2019-02-01T00:00:00\", \"2019-07-01T00:00:00\", \"2019-01-01T00:00:00\", \"2019-11-01T00:00:00\", \"2019-09-01T00:00:00\", \"2019-06-01T00:00:00\", \"2019-10-01T00:00:00\", \"2019-07-01T00:00:00\", \"2019-12-01T00:00:00\", \"2019-04-01T00:00:00\", \"2019-03-01T00:00:00\", \"2019-08-01T00:00:00\", \"2019-06-01T00:00:00\", \"2019-05-01T00:00:00\", \"2019-02-01T00:00:00\", \"2019-01-01T00:00:00\", \"2019-03-01T00:00:00\", \"2019-04-01T00:00:00\", \"2020-04-01T00:00:00\", \"2020-03-01T00:00:00\", \"2020-01-01T00:00:00\", \"2020-03-01T00:00:00\", \"2020-01-01T00:00:00\", \"2020-02-01T00:00:00\"], \"xaxis\": \"x\", \"y\": [0, 0, 0, 0, 0, 0, 0, 0, 0, 0, 0, 0, 0, 0, 0, 0, 0, 0, 0, 0, 0, 0, 0, 0, 0, 0, 0, 0, 0, 0], \"yaxis\": \"y\"}, {\"alignmentgroup\": \"True\", \"hovertemplate\": \"CARRIER_NAME=American Airlines Inc.<br>YEAR_MONTH=%{x}<br>FREIGHT=%{y}<extra></extra>\", \"legendgroup\": \"American Airlines Inc.\", \"marker\": {\"color\": \"#FECB52\"}, \"name\": \"American Airlines Inc.\", \"offsetgroup\": \"American Airlines Inc.\", \"orientation\": \"v\", \"showlegend\": true, \"textposition\": \"auto\", \"type\": \"bar\", \"x\": [\"2019-04-01T00:00:00\", \"2019-02-01T00:00:00\", \"2019-02-01T00:00:00\", \"2019-01-01T00:00:00\", \"2019-11-01T00:00:00\", \"2019-03-01T00:00:00\", \"2019-04-01T00:00:00\", \"2019-07-01T00:00:00\", \"2019-12-01T00:00:00\", \"2019-10-01T00:00:00\", \"2019-09-01T00:00:00\", \"2019-06-01T00:00:00\", \"2019-08-01T00:00:00\", \"2019-05-01T00:00:00\", \"2019-04-01T00:00:00\", \"2019-08-01T00:00:00\", \"2019-09-01T00:00:00\", \"2019-02-01T00:00:00\", \"2019-01-01T00:00:00\", \"2019-03-01T00:00:00\", \"2019-11-01T00:00:00\", \"2019-07-01T00:00:00\", \"2019-05-01T00:00:00\", \"2019-06-01T00:00:00\", \"2019-10-01T00:00:00\", \"2019-12-01T00:00:00\", \"2020-04-01T00:00:00\", \"2020-12-01T00:00:00\", \"2020-04-01T00:00:00\", \"2020-03-01T00:00:00\", \"2020-01-01T00:00:00\", \"2020-02-01T00:00:00\", \"2020-03-01T00:00:00\", \"2020-02-01T00:00:00\", \"2020-01-01T00:00:00\"], \"xaxis\": \"x\", \"y\": [133, 0, 5, 2, 0, 22, 1, 15, 251, 32, 22, 31, 6, 25, 956, 952, 1494, 506, 3574, 1418, 1069, 4148, 1485, 946, 4649, 3145, 0, 0, 309, 434, 620, 3, 434, 1423, 3208], \"yaxis\": \"y\"}, {\"alignmentgroup\": \"True\", \"hovertemplate\": \"CARRIER_NAME=ExpressJet Airlines LLC<br>YEAR_MONTH=%{x}<br>FREIGHT=%{y}<extra></extra>\", \"legendgroup\": \"ExpressJet Airlines LLC\", \"marker\": {\"color\": \"#636efa\"}, \"name\": \"ExpressJet Airlines LLC\", \"offsetgroup\": \"ExpressJet Airlines LLC\", \"orientation\": \"v\", \"showlegend\": true, \"textposition\": \"auto\", \"type\": \"bar\", \"x\": [\"2019-11-01T00:00:00\", \"2019-12-01T00:00:00\", \"2019-09-01T00:00:00\", \"2019-10-01T00:00:00\", \"2019-06-01T00:00:00\", \"2019-08-01T00:00:00\", \"2019-07-01T00:00:00\", \"2020-05-01T00:00:00\", \"2020-04-01T00:00:00\", \"2020-03-01T00:00:00\", \"2020-02-01T00:00:00\", \"2020-01-01T00:00:00\"], \"xaxis\": \"x\", \"y\": [0, 0, 0, 0, 0, 0, 0, 0, 0, 0, 0, 0], \"yaxis\": \"y\"}, {\"alignmentgroup\": \"True\", \"hovertemplate\": \"CARRIER_NAME=Frontier Airlines Inc.<br>YEAR_MONTH=%{x}<br>FREIGHT=%{y}<extra></extra>\", \"legendgroup\": \"Frontier Airlines Inc.\", \"marker\": {\"color\": \"#EF553B\"}, \"name\": \"Frontier Airlines Inc.\", \"offsetgroup\": \"Frontier Airlines Inc.\", \"orientation\": \"v\", \"showlegend\": true, \"textposition\": \"auto\", \"type\": \"bar\", \"x\": [\"2019-02-01T00:00:00\", \"2019-11-01T00:00:00\", \"2019-04-01T00:00:00\", \"2019-09-01T00:00:00\", \"2019-10-01T00:00:00\", \"2019-01-01T00:00:00\", \"2019-07-01T00:00:00\", \"2019-03-01T00:00:00\", \"2019-08-01T00:00:00\", \"2019-05-01T00:00:00\", \"2019-06-01T00:00:00\", \"2019-12-01T00:00:00\", \"2019-01-01T00:00:00\", \"2019-10-01T00:00:00\", \"2019-03-01T00:00:00\", \"2019-02-01T00:00:00\", \"2019-09-01T00:00:00\", \"2019-04-01T00:00:00\", \"2019-11-01T00:00:00\", \"2019-08-01T00:00:00\", \"2019-05-01T00:00:00\", \"2019-06-01T00:00:00\", \"2019-07-01T00:00:00\", \"2019-12-01T00:00:00\", \"2020-06-01T00:00:00\", \"2020-03-01T00:00:00\", \"2020-08-01T00:00:00\", \"2020-02-01T00:00:00\", \"2020-01-01T00:00:00\", \"2020-09-01T00:00:00\", \"2020-03-01T00:00:00\", \"2020-10-01T00:00:00\", \"2020-07-01T00:00:00\", \"2020-11-01T00:00:00\", \"2020-12-01T00:00:00\", \"2020-02-01T00:00:00\", \"2020-01-01T00:00:00\"], \"xaxis\": \"x\", \"y\": [0, 0, 0, 0, 0, 0, 0, 0, 0, 0, 0, 0, 0, 0, 0, 0, 0, 0, 0, 0, 0, 0, 0, 0, 0, 0, 0, 0, 0, 0, 0, 0, 0, 0, 0, 0, 0], \"yaxis\": \"y\"}, {\"alignmentgroup\": \"True\", \"hovertemplate\": \"CARRIER_NAME=Spirit Air Lines<br>YEAR_MONTH=%{x}<br>FREIGHT=%{y}<extra></extra>\", \"legendgroup\": \"Spirit Air Lines\", \"marker\": {\"color\": \"#00cc96\"}, \"name\": \"Spirit Air Lines\", \"offsetgroup\": \"Spirit Air Lines\", \"orientation\": \"v\", \"showlegend\": true, \"textposition\": \"auto\", \"type\": \"bar\", \"x\": [\"2019-01-01T00:00:00\", \"2019-02-01T00:00:00\", \"2019-04-01T00:00:00\", \"2019-03-01T00:00:00\", \"2019-12-01T00:00:00\", \"2019-07-01T00:00:00\", \"2019-08-01T00:00:00\", \"2019-06-01T00:00:00\", \"2019-09-01T00:00:00\", \"2019-11-01T00:00:00\", \"2019-05-01T00:00:00\", \"2019-02-01T00:00:00\", \"2019-10-01T00:00:00\", \"2019-01-01T00:00:00\", \"2019-12-01T00:00:00\", \"2019-09-01T00:00:00\", \"2019-11-01T00:00:00\", \"2019-10-01T00:00:00\", \"2019-07-01T00:00:00\", \"2019-06-01T00:00:00\", \"2019-08-01T00:00:00\", \"2019-04-01T00:00:00\", \"2019-05-01T00:00:00\", \"2019-03-01T00:00:00\", \"2020-04-01T00:00:00\", \"2020-04-01T00:00:00\", \"2020-06-01T00:00:00\", \"2020-03-01T00:00:00\", \"2020-02-01T00:00:00\", \"2020-01-01T00:00:00\", \"2020-03-01T00:00:00\", \"2020-09-01T00:00:00\", \"2020-06-01T00:00:00\", \"2020-10-01T00:00:00\", \"2020-12-01T00:00:00\", \"2020-07-01T00:00:00\", \"2020-02-01T00:00:00\", \"2020-08-01T00:00:00\", \"2020-01-01T00:00:00\", \"2020-11-01T00:00:00\", \"2020-09-01T00:00:00\", \"2020-08-01T00:00:00\", \"2020-12-01T00:00:00\", \"2020-07-01T00:00:00\", \"2020-10-01T00:00:00\", \"2020-11-01T00:00:00\"], \"xaxis\": \"x\", \"y\": [0, 0, 0, 0, 0, 0, 0, 0, 0, 0, 0, 0, 0, 0, 0, 0, 0, 0, 0, 0, 0, 0, 0, 0, 0, 0, 0, 0, 0, 0, 0, 0, 0, 0, 0, 0, 0, 0, 0, 0, 0, 0, 0, 0, 0, 0], \"yaxis\": \"y\"}, {\"alignmentgroup\": \"True\", \"hovertemplate\": \"CARRIER_NAME=Mesa Airlines Inc.<br>YEAR_MONTH=%{x}<br>FREIGHT=%{y}<extra></extra>\", \"legendgroup\": \"Mesa Airlines Inc.\", \"marker\": {\"color\": \"#ab63fa\"}, \"name\": \"Mesa Airlines Inc.\", \"offsetgroup\": \"Mesa Airlines Inc.\", \"orientation\": \"v\", \"showlegend\": true, \"textposition\": \"auto\", \"type\": \"bar\", \"x\": [\"2019-07-01T00:00:00\", \"2019-06-01T00:00:00\", \"2019-08-01T00:00:00\", \"2019-02-01T00:00:00\", \"2019-11-01T00:00:00\", \"2019-12-01T00:00:00\", \"2019-04-01T00:00:00\", \"2019-05-01T00:00:00\", \"2019-01-01T00:00:00\", \"2019-03-01T00:00:00\", \"2019-09-01T00:00:00\", \"2019-10-01T00:00:00\", \"2020-04-01T00:00:00\", \"2020-12-01T00:00:00\", \"2020-10-01T00:00:00\", \"2020-08-01T00:00:00\", \"2020-06-01T00:00:00\", \"2020-07-01T00:00:00\", \"2020-11-01T00:00:00\", \"2020-09-01T00:00:00\", \"2020-05-01T00:00:00\", \"2020-03-01T00:00:00\", \"2020-01-01T00:00:00\", \"2020-02-01T00:00:00\"], \"xaxis\": \"x\", \"y\": [0, 0, 0, 0, 0, 0, 0, 0, 0, 0, 0, 0, 0, 0, 0, 0, 0, 0, 0, 0, 0, 0, 0, 0], \"yaxis\": \"y\"}, {\"alignmentgroup\": \"True\", \"hovertemplate\": \"CARRIER_NAME=Southwest Airlines Co.<br>YEAR_MONTH=%{x}<br>FREIGHT=%{y}<extra></extra>\", \"legendgroup\": \"Southwest Airlines Co.\", \"marker\": {\"color\": \"#FFA15A\"}, \"name\": \"Southwest Airlines Co.\", \"offsetgroup\": \"Southwest Airlines Co.\", \"orientation\": \"v\", \"showlegend\": true, \"textposition\": \"auto\", \"type\": \"bar\", \"x\": [\"2019-09-01T00:00:00\", \"2019-11-01T00:00:00\", \"2019-08-01T00:00:00\", \"2019-10-01T00:00:00\", \"2019-12-01T00:00:00\", \"2019-02-01T00:00:00\", \"2019-01-01T00:00:00\", \"2019-05-01T00:00:00\", \"2019-06-01T00:00:00\", \"2019-04-01T00:00:00\", \"2019-07-01T00:00:00\", \"2019-03-01T00:00:00\", \"2019-02-01T00:00:00\", \"2019-01-01T00:00:00\", \"2019-11-01T00:00:00\", \"2019-10-01T00:00:00\", \"2019-02-01T00:00:00\", \"2019-09-01T00:00:00\", \"2019-04-01T00:00:00\", \"2019-09-01T00:00:00\", \"2019-01-01T00:00:00\", \"2019-03-01T00:00:00\", \"2019-06-01T00:00:00\", \"2019-08-01T00:00:00\", \"2019-04-01T00:00:00\", \"2019-07-01T00:00:00\", \"2019-05-01T00:00:00\", \"2019-12-01T00:00:00\", \"2019-06-01T00:00:00\", \"2019-11-01T00:00:00\", \"2019-05-01T00:00:00\", \"2019-03-01T00:00:00\", \"2019-08-01T00:00:00\", \"2019-07-01T00:00:00\", \"2019-12-01T00:00:00\", \"2019-10-01T00:00:00\", \"2020-12-01T00:00:00\", \"2020-11-01T00:00:00\", \"2020-05-01T00:00:00\", \"2020-10-01T00:00:00\", \"2020-04-01T00:00:00\", \"2020-04-01T00:00:00\", \"2020-09-01T00:00:00\", \"2020-04-01T00:00:00\", \"2020-05-01T00:00:00\", \"2020-08-01T00:00:00\", \"2020-05-01T00:00:00\", \"2020-08-01T00:00:00\", \"2020-11-01T00:00:00\", \"2020-03-01T00:00:00\", \"2020-07-01T00:00:00\", \"2020-06-01T00:00:00\", \"2020-09-01T00:00:00\", \"2020-06-01T00:00:00\", \"2020-10-01T00:00:00\", \"2020-12-01T00:00:00\", \"2020-07-01T00:00:00\", \"2020-08-01T00:00:00\", \"2020-03-01T00:00:00\", \"2020-02-01T00:00:00\", \"2020-01-01T00:00:00\", \"2020-06-01T00:00:00\", \"2020-07-01T00:00:00\", \"2020-03-01T00:00:00\", \"2020-09-01T00:00:00\", \"2020-10-01T00:00:00\", \"2020-11-01T00:00:00\", \"2020-02-01T00:00:00\", \"2020-01-01T00:00:00\", \"2020-12-01T00:00:00\", \"2020-02-01T00:00:00\", \"2020-01-01T00:00:00\"], \"xaxis\": \"x\", \"y\": [27025, 24864, 25839, 34378, 25393, 37546, 39846, 38864, 37331, 29025, 31114, 30088, 24614, 23374, 24523, 18585, 42275, 23704, 23501, 14805, 34992, 23717, 21979, 24851, 31661, 18599, 29288, 26765, 18006, 18331, 24994, 32501, 23703, 22625, 22449, 30227, 0, 2569, 5587, 3793, 16364, 36257, 4668, 20674, 28834, 24489, 23439, 31772, 61936, 28492, 30253, 32893, 44056, 25023, 69216, 61791, 51542, 16573, 30909, 40291, 30636, 21854, 17882, 18360, 22194, 22372, 34765, 28422, 31586, 46017, 27054, 15865], \"yaxis\": \"y\"}, {\"alignmentgroup\": \"True\", \"hovertemplate\": \"CARRIER_NAME=National Air Cargo Group Inc d/ba National Airlines<br>YEAR_MONTH=%{x}<br>FREIGHT=%{y}<extra></extra>\", \"legendgroup\": \"National Air Cargo Group Inc d/ba National Airlines\", \"marker\": {\"color\": \"#19d3f3\"}, \"name\": \"National Air Cargo Group Inc d/ba National Airlines\", \"offsetgroup\": \"National Air Cargo Group Inc d/ba National Airlines\", \"orientation\": \"v\", \"showlegend\": true, \"textposition\": \"auto\", \"type\": \"bar\", \"x\": [\"2020-03-01T00:00:00\"], \"xaxis\": \"x\", \"y\": [0], \"yaxis\": \"y\"}, {\"alignmentgroup\": \"True\", \"hovertemplate\": \"CARRIER_NAME=Air Transport International<br>YEAR_MONTH=%{x}<br>FREIGHT=%{y}<extra></extra>\", \"legendgroup\": \"Air Transport International\", \"marker\": {\"color\": \"#FF6692\"}, \"name\": \"Air Transport International\", \"offsetgroup\": \"Air Transport International\", \"orientation\": \"v\", \"showlegend\": true, \"textposition\": \"auto\", \"type\": \"bar\", \"x\": [\"2020-09-01T00:00:00\"], \"xaxis\": \"x\", \"y\": [47891], \"yaxis\": \"y\"}, {\"alignmentgroup\": \"True\", \"hovertemplate\": \"CARRIER_NAME=Swift Air, LLC d/b/a Eastern Air Lines d/b/a Eastern<br>YEAR_MONTH=%{x}<br>FREIGHT=%{y}<extra></extra>\", \"legendgroup\": \"Swift Air, LLC d/b/a Eastern Air Lines d/b/a Eastern\", \"marker\": {\"color\": \"#B6E880\"}, \"name\": \"Swift Air, LLC d/b/a Eastern Air Lines d/b/a Eastern\", \"offsetgroup\": \"Swift Air, LLC d/b/a Eastern Air Lines d/b/a Eastern\", \"orientation\": \"v\", \"showlegend\": true, \"textposition\": \"auto\", \"type\": \"bar\", \"x\": [\"2020-09-01T00:00:00\"], \"xaxis\": \"x\", \"y\": [0], \"yaxis\": \"y\"}],                        {\"barmode\": \"group\", \"legend\": {\"title\": {\"text\": \"CARRIER_NAME\"}, \"tracegroupgap\": 0}, \"margin\": {\"t\": 60}, \"template\": {\"data\": {\"bar\": [{\"error_x\": {\"color\": \"#2a3f5f\"}, \"error_y\": {\"color\": \"#2a3f5f\"}, \"marker\": {\"line\": {\"color\": \"#E5ECF6\", \"width\": 0.5}}, \"type\": \"bar\"}], \"barpolar\": [{\"marker\": {\"line\": {\"color\": \"#E5ECF6\", \"width\": 0.5}}, \"type\": \"barpolar\"}], \"carpet\": [{\"aaxis\": {\"endlinecolor\": \"#2a3f5f\", \"gridcolor\": \"white\", \"linecolor\": \"white\", \"minorgridcolor\": \"white\", \"startlinecolor\": \"#2a3f5f\"}, \"baxis\": {\"endlinecolor\": \"#2a3f5f\", \"gridcolor\": \"white\", \"linecolor\": \"white\", \"minorgridcolor\": \"white\", \"startlinecolor\": \"#2a3f5f\"}, \"type\": \"carpet\"}], \"choropleth\": [{\"colorbar\": {\"outlinewidth\": 0, \"ticks\": \"\"}, \"type\": \"choropleth\"}], \"contour\": [{\"colorbar\": {\"outlinewidth\": 0, \"ticks\": \"\"}, \"colorscale\": [[0.0, \"#0d0887\"], [0.1111111111111111, \"#46039f\"], [0.2222222222222222, \"#7201a8\"], [0.3333333333333333, \"#9c179e\"], [0.4444444444444444, \"#bd3786\"], [0.5555555555555556, \"#d8576b\"], [0.6666666666666666, \"#ed7953\"], [0.7777777777777778, \"#fb9f3a\"], [0.8888888888888888, \"#fdca26\"], [1.0, \"#f0f921\"]], \"type\": \"contour\"}], \"contourcarpet\": [{\"colorbar\": {\"outlinewidth\": 0, \"ticks\": \"\"}, \"type\": \"contourcarpet\"}], \"heatmap\": [{\"colorbar\": {\"outlinewidth\": 0, \"ticks\": \"\"}, \"colorscale\": [[0.0, \"#0d0887\"], [0.1111111111111111, \"#46039f\"], [0.2222222222222222, \"#7201a8\"], [0.3333333333333333, \"#9c179e\"], [0.4444444444444444, \"#bd3786\"], [0.5555555555555556, \"#d8576b\"], [0.6666666666666666, \"#ed7953\"], [0.7777777777777778, \"#fb9f3a\"], [0.8888888888888888, \"#fdca26\"], [1.0, \"#f0f921\"]], \"type\": \"heatmap\"}], \"heatmapgl\": [{\"colorbar\": {\"outlinewidth\": 0, \"ticks\": \"\"}, \"colorscale\": [[0.0, \"#0d0887\"], [0.1111111111111111, \"#46039f\"], [0.2222222222222222, \"#7201a8\"], [0.3333333333333333, \"#9c179e\"], [0.4444444444444444, \"#bd3786\"], [0.5555555555555556, \"#d8576b\"], [0.6666666666666666, \"#ed7953\"], [0.7777777777777778, \"#fb9f3a\"], [0.8888888888888888, \"#fdca26\"], [1.0, \"#f0f921\"]], \"type\": \"heatmapgl\"}], \"histogram\": [{\"marker\": {\"colorbar\": {\"outlinewidth\": 0, \"ticks\": \"\"}}, \"type\": \"histogram\"}], \"histogram2d\": [{\"colorbar\": {\"outlinewidth\": 0, \"ticks\": \"\"}, \"colorscale\": [[0.0, \"#0d0887\"], [0.1111111111111111, \"#46039f\"], [0.2222222222222222, \"#7201a8\"], [0.3333333333333333, \"#9c179e\"], [0.4444444444444444, \"#bd3786\"], [0.5555555555555556, \"#d8576b\"], [0.6666666666666666, \"#ed7953\"], [0.7777777777777778, \"#fb9f3a\"], [0.8888888888888888, \"#fdca26\"], [1.0, \"#f0f921\"]], \"type\": \"histogram2d\"}], \"histogram2dcontour\": [{\"colorbar\": {\"outlinewidth\": 0, \"ticks\": \"\"}, \"colorscale\": [[0.0, \"#0d0887\"], [0.1111111111111111, \"#46039f\"], [0.2222222222222222, \"#7201a8\"], [0.3333333333333333, \"#9c179e\"], [0.4444444444444444, \"#bd3786\"], [0.5555555555555556, \"#d8576b\"], [0.6666666666666666, \"#ed7953\"], [0.7777777777777778, \"#fb9f3a\"], [0.8888888888888888, \"#fdca26\"], [1.0, \"#f0f921\"]], \"type\": \"histogram2dcontour\"}], \"mesh3d\": [{\"colorbar\": {\"outlinewidth\": 0, \"ticks\": \"\"}, \"type\": \"mesh3d\"}], \"parcoords\": [{\"line\": {\"colorbar\": {\"outlinewidth\": 0, \"ticks\": \"\"}}, \"type\": \"parcoords\"}], \"pie\": [{\"automargin\": true, \"type\": \"pie\"}], \"scatter\": [{\"marker\": {\"colorbar\": {\"outlinewidth\": 0, \"ticks\": \"\"}}, \"type\": \"scatter\"}], \"scatter3d\": [{\"line\": {\"colorbar\": {\"outlinewidth\": 0, \"ticks\": \"\"}}, \"marker\": {\"colorbar\": {\"outlinewidth\": 0, \"ticks\": \"\"}}, \"type\": \"scatter3d\"}], \"scattercarpet\": [{\"marker\": {\"colorbar\": {\"outlinewidth\": 0, \"ticks\": \"\"}}, \"type\": \"scattercarpet\"}], \"scattergeo\": [{\"marker\": {\"colorbar\": {\"outlinewidth\": 0, \"ticks\": \"\"}}, \"type\": \"scattergeo\"}], \"scattergl\": [{\"marker\": {\"colorbar\": {\"outlinewidth\": 0, \"ticks\": \"\"}}, \"type\": \"scattergl\"}], \"scattermapbox\": [{\"marker\": {\"colorbar\": {\"outlinewidth\": 0, \"ticks\": \"\"}}, \"type\": \"scattermapbox\"}], \"scatterpolar\": [{\"marker\": {\"colorbar\": {\"outlinewidth\": 0, \"ticks\": \"\"}}, \"type\": \"scatterpolar\"}], \"scatterpolargl\": [{\"marker\": {\"colorbar\": {\"outlinewidth\": 0, \"ticks\": \"\"}}, \"type\": \"scatterpolargl\"}], \"scatterternary\": [{\"marker\": {\"colorbar\": {\"outlinewidth\": 0, \"ticks\": \"\"}}, \"type\": \"scatterternary\"}], \"surface\": [{\"colorbar\": {\"outlinewidth\": 0, \"ticks\": \"\"}, \"colorscale\": [[0.0, \"#0d0887\"], [0.1111111111111111, \"#46039f\"], [0.2222222222222222, \"#7201a8\"], [0.3333333333333333, \"#9c179e\"], [0.4444444444444444, \"#bd3786\"], [0.5555555555555556, \"#d8576b\"], [0.6666666666666666, \"#ed7953\"], [0.7777777777777778, \"#fb9f3a\"], [0.8888888888888888, \"#fdca26\"], [1.0, \"#f0f921\"]], \"type\": \"surface\"}], \"table\": [{\"cells\": {\"fill\": {\"color\": \"#EBF0F8\"}, \"line\": {\"color\": \"white\"}}, \"header\": {\"fill\": {\"color\": \"#C8D4E3\"}, \"line\": {\"color\": \"white\"}}, \"type\": \"table\"}]}, \"layout\": {\"annotationdefaults\": {\"arrowcolor\": \"#2a3f5f\", \"arrowhead\": 0, \"arrowwidth\": 1}, \"autotypenumbers\": \"strict\", \"coloraxis\": {\"colorbar\": {\"outlinewidth\": 0, \"ticks\": \"\"}}, \"colorscale\": {\"diverging\": [[0, \"#8e0152\"], [0.1, \"#c51b7d\"], [0.2, \"#de77ae\"], [0.3, \"#f1b6da\"], [0.4, \"#fde0ef\"], [0.5, \"#f7f7f7\"], [0.6, \"#e6f5d0\"], [0.7, \"#b8e186\"], [0.8, \"#7fbc41\"], [0.9, \"#4d9221\"], [1, \"#276419\"]], \"sequential\": [[0.0, \"#0d0887\"], [0.1111111111111111, \"#46039f\"], [0.2222222222222222, \"#7201a8\"], [0.3333333333333333, \"#9c179e\"], [0.4444444444444444, \"#bd3786\"], [0.5555555555555556, \"#d8576b\"], [0.6666666666666666, \"#ed7953\"], [0.7777777777777778, \"#fb9f3a\"], [0.8888888888888888, \"#fdca26\"], [1.0, \"#f0f921\"]], \"sequentialminus\": [[0.0, \"#0d0887\"], [0.1111111111111111, \"#46039f\"], [0.2222222222222222, \"#7201a8\"], [0.3333333333333333, \"#9c179e\"], [0.4444444444444444, \"#bd3786\"], [0.5555555555555556, \"#d8576b\"], [0.6666666666666666, \"#ed7953\"], [0.7777777777777778, \"#fb9f3a\"], [0.8888888888888888, \"#fdca26\"], [1.0, \"#f0f921\"]]}, \"colorway\": [\"#636efa\", \"#EF553B\", \"#00cc96\", \"#ab63fa\", \"#FFA15A\", \"#19d3f3\", \"#FF6692\", \"#B6E880\", \"#FF97FF\", \"#FECB52\"], \"font\": {\"color\": \"#2a3f5f\"}, \"geo\": {\"bgcolor\": \"white\", \"lakecolor\": \"white\", \"landcolor\": \"#E5ECF6\", \"showlakes\": true, \"showland\": true, \"subunitcolor\": \"white\"}, \"hoverlabel\": {\"align\": \"left\"}, \"hovermode\": \"closest\", \"mapbox\": {\"style\": \"light\"}, \"paper_bgcolor\": \"white\", \"plot_bgcolor\": \"#E5ECF6\", \"polar\": {\"angularaxis\": {\"gridcolor\": \"white\", \"linecolor\": \"white\", \"ticks\": \"\"}, \"bgcolor\": \"#E5ECF6\", \"radialaxis\": {\"gridcolor\": \"white\", \"linecolor\": \"white\", \"ticks\": \"\"}}, \"scene\": {\"xaxis\": {\"backgroundcolor\": \"#E5ECF6\", \"gridcolor\": \"white\", \"gridwidth\": 2, \"linecolor\": \"white\", \"showbackground\": true, \"ticks\": \"\", \"zerolinecolor\": \"white\"}, \"yaxis\": {\"backgroundcolor\": \"#E5ECF6\", \"gridcolor\": \"white\", \"gridwidth\": 2, \"linecolor\": \"white\", \"showbackground\": true, \"ticks\": \"\", \"zerolinecolor\": \"white\"}, \"zaxis\": {\"backgroundcolor\": \"#E5ECF6\", \"gridcolor\": \"white\", \"gridwidth\": 2, \"linecolor\": \"white\", \"showbackground\": true, \"ticks\": \"\", \"zerolinecolor\": \"white\"}}, \"shapedefaults\": {\"line\": {\"color\": \"#2a3f5f\"}}, \"ternary\": {\"aaxis\": {\"gridcolor\": \"white\", \"linecolor\": \"white\", \"ticks\": \"\"}, \"baxis\": {\"gridcolor\": \"white\", \"linecolor\": \"white\", \"ticks\": \"\"}, \"bgcolor\": \"#E5ECF6\", \"caxis\": {\"gridcolor\": \"white\", \"linecolor\": \"white\", \"ticks\": \"\"}}, \"title\": {\"x\": 0.05}, \"xaxis\": {\"automargin\": true, \"gridcolor\": \"white\", \"linecolor\": \"white\", \"ticks\": \"\", \"title\": {\"standoff\": 15}, \"zerolinecolor\": \"white\", \"zerolinewidth\": 2}, \"yaxis\": {\"automargin\": true, \"gridcolor\": \"white\", \"linecolor\": \"white\", \"ticks\": \"\", \"title\": {\"standoff\": 15}, \"zerolinecolor\": \"white\", \"zerolinewidth\": 2}}}, \"xaxis\": {\"anchor\": \"y\", \"domain\": [0.0, 1.0], \"title\": {\"text\": \"YEAR_MONTH\"}}, \"yaxis\": {\"anchor\": \"x\", \"domain\": [0.0, 1.0], \"title\": {\"text\": \"FREIGHT\"}}},                        {\"responsive\": true}                    ).then(function(){\n",
       "                            \n",
       "var gd = document.getElementById('7ab73462-dfcb-4c37-ad3a-1c5712271913');\n",
       "var x = new MutationObserver(function (mutations, observer) {{\n",
       "        var display = window.getComputedStyle(gd).display;\n",
       "        if (!display || display === 'none') {{\n",
       "            console.log([gd, 'removed!']);\n",
       "            Plotly.purge(gd);\n",
       "            observer.disconnect();\n",
       "        }}\n",
       "}});\n",
       "\n",
       "// Listen for the removal of the full notebook cells\n",
       "var notebookContainer = gd.closest('#notebook-container');\n",
       "if (notebookContainer) {{\n",
       "    x.observe(notebookContainer, {childList: true});\n",
       "}}\n",
       "\n",
       "// Listen for the clearing of the current output cell\n",
       "var outputEl = gd.closest('.output');\n",
       "if (outputEl) {{\n",
       "    x.observe(outputEl, {childList: true});\n",
       "}}\n",
       "\n",
       "                        })                };                });            </script>        </div>"
      ]
     },
     "metadata": {},
     "output_type": "display_data"
    }
   ],
   "source": [
    "import plotly.express as px\n",
    "fig = px.bar(combine_Data, x=\"YEAR_MONTH\", y=\"FREIGHT\",\n",
    "             color='CARRIER_NAME', barmode='group')\n",
    "fig.show()"
   ]
  },
  {
   "cell_type": "code",
   "execution_count": 95,
   "metadata": {},
   "outputs": [
    {
     "data": {
      "text/html": [
       "<div>\n",
       "<style scoped>\n",
       "    .dataframe tbody tr th:only-of-type {\n",
       "        vertical-align: middle;\n",
       "    }\n",
       "\n",
       "    .dataframe tbody tr th {\n",
       "        vertical-align: top;\n",
       "    }\n",
       "\n",
       "    .dataframe thead th {\n",
       "        text-align: right;\n",
       "    }\n",
       "</style>\n",
       "<table border=\"1\" class=\"dataframe\">\n",
       "  <thead>\n",
       "    <tr style=\"text-align: right;\">\n",
       "      <th></th>\n",
       "      <th>PASSENGERS</th>\n",
       "      <th>FREIGHT</th>\n",
       "      <th>DISTANCE</th>\n",
       "      <th>UNIQUE_CARRIER_NAME</th>\n",
       "      <th>CARRIER_NAME</th>\n",
       "      <th>ORIGIN</th>\n",
       "      <th>ORIGIN_CITY_NAME</th>\n",
       "      <th>DEST</th>\n",
       "      <th>DEST_CITY_NAME</th>\n",
       "      <th>YEAR</th>\n",
       "      <th>QUARTER</th>\n",
       "      <th>MONTH</th>\n",
       "      <th>DISTANCE_GROUP</th>\n",
       "      <th>YEAR_MONTH</th>\n",
       "    </tr>\n",
       "  </thead>\n",
       "  <tbody>\n",
       "    <tr>\n",
       "      <th>4173</th>\n",
       "      <td>0</td>\n",
       "      <td>0</td>\n",
       "      <td>1947</td>\n",
       "      <td>Atlas Air Inc.</td>\n",
       "      <td>Atlas Air Inc.</td>\n",
       "      <td>ATL</td>\n",
       "      <td>Atlanta, GA</td>\n",
       "      <td>LAX</td>\n",
       "      <td>Los Angeles, CA</td>\n",
       "      <td>2019</td>\n",
       "      <td>4</td>\n",
       "      <td>11</td>\n",
       "      <td>4</td>\n",
       "      <td>2019-11-01</td>\n",
       "    </tr>\n",
       "    <tr>\n",
       "      <th>10965</th>\n",
       "      <td>0</td>\n",
       "      <td>0</td>\n",
       "      <td>762</td>\n",
       "      <td>Miami Air International</td>\n",
       "      <td>Miami Air International</td>\n",
       "      <td>ATL</td>\n",
       "      <td>Atlanta, GA</td>\n",
       "      <td>LGA</td>\n",
       "      <td>New York, NY</td>\n",
       "      <td>2019</td>\n",
       "      <td>4</td>\n",
       "      <td>12</td>\n",
       "      <td>2</td>\n",
       "      <td>2019-12-01</td>\n",
       "    </tr>\n",
       "    <tr>\n",
       "      <th>13433</th>\n",
       "      <td>0</td>\n",
       "      <td>49782</td>\n",
       "      <td>689</td>\n",
       "      <td>Federal Express Corporation</td>\n",
       "      <td>Federal Express Corporation</td>\n",
       "      <td>ATL</td>\n",
       "      <td>Atlanta, GA</td>\n",
       "      <td>IAH</td>\n",
       "      <td>Houston, TX</td>\n",
       "      <td>2019</td>\n",
       "      <td>2</td>\n",
       "      <td>4</td>\n",
       "      <td>2</td>\n",
       "      <td>2019-04-01</td>\n",
       "    </tr>\n",
       "    <tr>\n",
       "      <th>21338</th>\n",
       "      <td>0</td>\n",
       "      <td>1287407</td>\n",
       "      <td>1947</td>\n",
       "      <td>Federal Express Corporation</td>\n",
       "      <td>Federal Express Corporation</td>\n",
       "      <td>ATL</td>\n",
       "      <td>Atlanta, GA</td>\n",
       "      <td>LAX</td>\n",
       "      <td>Los Angeles, CA</td>\n",
       "      <td>2019</td>\n",
       "      <td>4</td>\n",
       "      <td>11</td>\n",
       "      <td>4</td>\n",
       "      <td>2019-11-01</td>\n",
       "    </tr>\n",
       "    <tr>\n",
       "      <th>22145</th>\n",
       "      <td>0</td>\n",
       "      <td>463720</td>\n",
       "      <td>1947</td>\n",
       "      <td>Federal Express Corporation</td>\n",
       "      <td>Federal Express Corporation</td>\n",
       "      <td>ATL</td>\n",
       "      <td>Atlanta, GA</td>\n",
       "      <td>LAX</td>\n",
       "      <td>Los Angeles, CA</td>\n",
       "      <td>2019</td>\n",
       "      <td>4</td>\n",
       "      <td>12</td>\n",
       "      <td>4</td>\n",
       "      <td>2019-12-01</td>\n",
       "    </tr>\n",
       "    <tr>\n",
       "      <th>...</th>\n",
       "      <td>...</td>\n",
       "      <td>...</td>\n",
       "      <td>...</td>\n",
       "      <td>...</td>\n",
       "      <td>...</td>\n",
       "      <td>...</td>\n",
       "      <td>...</td>\n",
       "      <td>...</td>\n",
       "      <td>...</td>\n",
       "      <td>...</td>\n",
       "      <td>...</td>\n",
       "      <td>...</td>\n",
       "      <td>...</td>\n",
       "      <td>...</td>\n",
       "    </tr>\n",
       "    <tr>\n",
       "      <th>191718</th>\n",
       "      <td>29927</td>\n",
       "      <td>274986</td>\n",
       "      <td>1947</td>\n",
       "      <td>Delta Air Lines Inc.</td>\n",
       "      <td>Delta Air Lines Inc.</td>\n",
       "      <td>ATL</td>\n",
       "      <td>Atlanta, GA</td>\n",
       "      <td>LAX</td>\n",
       "      <td>Los Angeles, CA</td>\n",
       "      <td>2020</td>\n",
       "      <td>4</td>\n",
       "      <td>10</td>\n",
       "      <td>4</td>\n",
       "      <td>2020-10-01</td>\n",
       "    </tr>\n",
       "    <tr>\n",
       "      <th>192320</th>\n",
       "      <td>54819</td>\n",
       "      <td>882911</td>\n",
       "      <td>1947</td>\n",
       "      <td>Delta Air Lines Inc.</td>\n",
       "      <td>Delta Air Lines Inc.</td>\n",
       "      <td>ATL</td>\n",
       "      <td>Atlanta, GA</td>\n",
       "      <td>LAX</td>\n",
       "      <td>Los Angeles, CA</td>\n",
       "      <td>2020</td>\n",
       "      <td>1</td>\n",
       "      <td>2</td>\n",
       "      <td>4</td>\n",
       "      <td>2020-02-01</td>\n",
       "    </tr>\n",
       "    <tr>\n",
       "      <th>192325</th>\n",
       "      <td>56010</td>\n",
       "      <td>38826</td>\n",
       "      <td>762</td>\n",
       "      <td>Delta Air Lines Inc.</td>\n",
       "      <td>Delta Air Lines Inc.</td>\n",
       "      <td>ATL</td>\n",
       "      <td>Atlanta, GA</td>\n",
       "      <td>LGA</td>\n",
       "      <td>New York, NY</td>\n",
       "      <td>2020</td>\n",
       "      <td>1</td>\n",
       "      <td>2</td>\n",
       "      <td>2</td>\n",
       "      <td>2020-02-01</td>\n",
       "    </tr>\n",
       "    <tr>\n",
       "      <th>192337</th>\n",
       "      <td>59187</td>\n",
       "      <td>43598</td>\n",
       "      <td>762</td>\n",
       "      <td>Delta Air Lines Inc.</td>\n",
       "      <td>Delta Air Lines Inc.</td>\n",
       "      <td>ATL</td>\n",
       "      <td>Atlanta, GA</td>\n",
       "      <td>LGA</td>\n",
       "      <td>New York, NY</td>\n",
       "      <td>2020</td>\n",
       "      <td>1</td>\n",
       "      <td>1</td>\n",
       "      <td>2</td>\n",
       "      <td>2020-01-01</td>\n",
       "    </tr>\n",
       "    <tr>\n",
       "      <th>192339</th>\n",
       "      <td>60731</td>\n",
       "      <td>749453</td>\n",
       "      <td>1947</td>\n",
       "      <td>Delta Air Lines Inc.</td>\n",
       "      <td>Delta Air Lines Inc.</td>\n",
       "      <td>ATL</td>\n",
       "      <td>Atlanta, GA</td>\n",
       "      <td>LAX</td>\n",
       "      <td>Los Angeles, CA</td>\n",
       "      <td>2020</td>\n",
       "      <td>1</td>\n",
       "      <td>1</td>\n",
       "      <td>4</td>\n",
       "      <td>2020-01-01</td>\n",
       "    </tr>\n",
       "  </tbody>\n",
       "</table>\n",
       "<p>421 rows × 14 columns</p>\n",
       "</div>"
      ],
      "text/plain": [
       "        PASSENGERS  FREIGHT  DISTANCE          UNIQUE_CARRIER_NAME  \\\n",
       "4173             0        0      1947               Atlas Air Inc.   \n",
       "10965            0        0       762      Miami Air International   \n",
       "13433            0    49782       689  Federal Express Corporation   \n",
       "21338            0  1287407      1947  Federal Express Corporation   \n",
       "22145            0   463720      1947  Federal Express Corporation   \n",
       "...            ...      ...       ...                          ...   \n",
       "191718       29927   274986      1947         Delta Air Lines Inc.   \n",
       "192320       54819   882911      1947         Delta Air Lines Inc.   \n",
       "192325       56010    38826       762         Delta Air Lines Inc.   \n",
       "192337       59187    43598       762         Delta Air Lines Inc.   \n",
       "192339       60731   749453      1947         Delta Air Lines Inc.   \n",
       "\n",
       "                       CARRIER_NAME ORIGIN ORIGIN_CITY_NAME DEST  \\\n",
       "4173                 Atlas Air Inc.    ATL      Atlanta, GA  LAX   \n",
       "10965       Miami Air International    ATL      Atlanta, GA  LGA   \n",
       "13433   Federal Express Corporation    ATL      Atlanta, GA  IAH   \n",
       "21338   Federal Express Corporation    ATL      Atlanta, GA  LAX   \n",
       "22145   Federal Express Corporation    ATL      Atlanta, GA  LAX   \n",
       "...                             ...    ...              ...  ...   \n",
       "191718         Delta Air Lines Inc.    ATL      Atlanta, GA  LAX   \n",
       "192320         Delta Air Lines Inc.    ATL      Atlanta, GA  LAX   \n",
       "192325         Delta Air Lines Inc.    ATL      Atlanta, GA  LGA   \n",
       "192337         Delta Air Lines Inc.    ATL      Atlanta, GA  LGA   \n",
       "192339         Delta Air Lines Inc.    ATL      Atlanta, GA  LAX   \n",
       "\n",
       "         DEST_CITY_NAME  YEAR  QUARTER  MONTH  DISTANCE_GROUP YEAR_MONTH  \n",
       "4173    Los Angeles, CA  2019        4     11               4 2019-11-01  \n",
       "10965      New York, NY  2019        4     12               2 2019-12-01  \n",
       "13433       Houston, TX  2019        2      4               2 2019-04-01  \n",
       "21338   Los Angeles, CA  2019        4     11               4 2019-11-01  \n",
       "22145   Los Angeles, CA  2019        4     12               4 2019-12-01  \n",
       "...                 ...   ...      ...    ...             ...        ...  \n",
       "191718  Los Angeles, CA  2020        4     10               4 2020-10-01  \n",
       "192320  Los Angeles, CA  2020        1      2               4 2020-02-01  \n",
       "192325     New York, NY  2020        1      2               2 2020-02-01  \n",
       "192337     New York, NY  2020        1      1               2 2020-01-01  \n",
       "192339  Los Angeles, CA  2020        1      1               4 2020-01-01  \n",
       "\n",
       "[421 rows x 14 columns]"
      ]
     },
     "execution_count": 95,
     "metadata": {},
     "output_type": "execute_result"
    }
   ],
   "source": [
    "combine_Data"
   ]
  },
  {
   "cell_type": "code",
   "execution_count": 135,
   "metadata": {},
   "outputs": [
    {
     "data": {
      "text/html": [
       "<div>\n",
       "<style scoped>\n",
       "    .dataframe tbody tr th:only-of-type {\n",
       "        vertical-align: middle;\n",
       "    }\n",
       "\n",
       "    .dataframe tbody tr th {\n",
       "        vertical-align: top;\n",
       "    }\n",
       "\n",
       "    .dataframe thead th {\n",
       "        text-align: right;\n",
       "    }\n",
       "</style>\n",
       "<table border=\"1\" class=\"dataframe\">\n",
       "  <thead>\n",
       "    <tr style=\"text-align: right;\">\n",
       "      <th></th>\n",
       "      <th>YEAR_MONTH</th>\n",
       "      <th>PASSENGERS</th>\n",
       "    </tr>\n",
       "  </thead>\n",
       "  <tbody>\n",
       "    <tr>\n",
       "      <th>4173</th>\n",
       "      <td>2019-11-01</td>\n",
       "      <td>0</td>\n",
       "    </tr>\n",
       "    <tr>\n",
       "      <th>10965</th>\n",
       "      <td>2019-12-01</td>\n",
       "      <td>0</td>\n",
       "    </tr>\n",
       "    <tr>\n",
       "      <th>13433</th>\n",
       "      <td>2019-04-01</td>\n",
       "      <td>0</td>\n",
       "    </tr>\n",
       "    <tr>\n",
       "      <th>21338</th>\n",
       "      <td>2019-11-01</td>\n",
       "      <td>0</td>\n",
       "    </tr>\n",
       "    <tr>\n",
       "      <th>22145</th>\n",
       "      <td>2019-12-01</td>\n",
       "      <td>0</td>\n",
       "    </tr>\n",
       "    <tr>\n",
       "      <th>...</th>\n",
       "      <td>...</td>\n",
       "      <td>...</td>\n",
       "    </tr>\n",
       "    <tr>\n",
       "      <th>191718</th>\n",
       "      <td>2020-10-01</td>\n",
       "      <td>29927</td>\n",
       "    </tr>\n",
       "    <tr>\n",
       "      <th>192320</th>\n",
       "      <td>2020-02-01</td>\n",
       "      <td>54819</td>\n",
       "    </tr>\n",
       "    <tr>\n",
       "      <th>192325</th>\n",
       "      <td>2020-02-01</td>\n",
       "      <td>56010</td>\n",
       "    </tr>\n",
       "    <tr>\n",
       "      <th>192337</th>\n",
       "      <td>2020-01-01</td>\n",
       "      <td>59187</td>\n",
       "    </tr>\n",
       "    <tr>\n",
       "      <th>192339</th>\n",
       "      <td>2020-01-01</td>\n",
       "      <td>60731</td>\n",
       "    </tr>\n",
       "  </tbody>\n",
       "</table>\n",
       "<p>421 rows × 2 columns</p>\n",
       "</div>"
      ],
      "text/plain": [
       "       YEAR_MONTH  PASSENGERS\n",
       "4173   2019-11-01           0\n",
       "10965  2019-12-01           0\n",
       "13433  2019-04-01           0\n",
       "21338  2019-11-01           0\n",
       "22145  2019-12-01           0\n",
       "...           ...         ...\n",
       "191718 2020-10-01       29927\n",
       "192320 2020-02-01       54819\n",
       "192325 2020-02-01       56010\n",
       "192337 2020-01-01       59187\n",
       "192339 2020-01-01       60731\n",
       "\n",
       "[421 rows x 2 columns]"
      ]
     },
     "execution_count": 135,
     "metadata": {},
     "output_type": "execute_result"
    }
   ],
   "source": [
    "#Time series Data\n",
    "df=combine_Data[[\"YEAR_MONTH\",\"PASSENGERS\"]]\n",
    "df"
   ]
  },
  {
   "cell_type": "code",
   "execution_count": 136,
   "metadata": {},
   "outputs": [
    {
     "data": {
      "image/png": "[encoded data removed]",
      "text/plain": [
       "<Figure size 432x288 with 1 Axes>"
      ]
     },
     "metadata": {
      "needs_background": "light"
     },
     "output_type": "display_data"
    }
   ],
   "source": [
    "#Timeseries\n",
    "df.plot(x=\"YEAR_MONTH\",y=\"PASSENGERS\")\n",
    "plt.show()"
   ]
  },
  {
   "cell_type": "code",
   "execution_count": 100,
   "metadata": {},
   "outputs": [
    {
     "data": {
      "text/html": [
       "<div>\n",
       "<style scoped>\n",
       "    .dataframe tbody tr th:only-of-type {\n",
       "        vertical-align: middle;\n",
       "    }\n",
       "\n",
       "    .dataframe tbody tr th {\n",
       "        vertical-align: top;\n",
       "    }\n",
       "\n",
       "    .dataframe thead th {\n",
       "        text-align: right;\n",
       "    }\n",
       "</style>\n",
       "<table border=\"1\" class=\"dataframe\">\n",
       "  <thead>\n",
       "    <tr style=\"text-align: right;\">\n",
       "      <th></th>\n",
       "      <th>YEAR_MONTH</th>\n",
       "      <th>FREIGHT</th>\n",
       "    </tr>\n",
       "  </thead>\n",
       "  <tbody>\n",
       "    <tr>\n",
       "      <th>4173</th>\n",
       "      <td>2019-11-01</td>\n",
       "      <td>0</td>\n",
       "    </tr>\n",
       "    <tr>\n",
       "      <th>10965</th>\n",
       "      <td>2019-12-01</td>\n",
       "      <td>0</td>\n",
       "    </tr>\n",
       "    <tr>\n",
       "      <th>13433</th>\n",
       "      <td>2019-04-01</td>\n",
       "      <td>49782</td>\n",
       "    </tr>\n",
       "    <tr>\n",
       "      <th>21338</th>\n",
       "      <td>2019-11-01</td>\n",
       "      <td>1287407</td>\n",
       "    </tr>\n",
       "    <tr>\n",
       "      <th>22145</th>\n",
       "      <td>2019-12-01</td>\n",
       "      <td>463720</td>\n",
       "    </tr>\n",
       "    <tr>\n",
       "      <th>...</th>\n",
       "      <td>...</td>\n",
       "      <td>...</td>\n",
       "    </tr>\n",
       "    <tr>\n",
       "      <th>191718</th>\n",
       "      <td>2020-10-01</td>\n",
       "      <td>274986</td>\n",
       "    </tr>\n",
       "    <tr>\n",
       "      <th>192320</th>\n",
       "      <td>2020-02-01</td>\n",
       "      <td>882911</td>\n",
       "    </tr>\n",
       "    <tr>\n",
       "      <th>192325</th>\n",
       "      <td>2020-02-01</td>\n",
       "      <td>38826</td>\n",
       "    </tr>\n",
       "    <tr>\n",
       "      <th>192337</th>\n",
       "      <td>2020-01-01</td>\n",
       "      <td>43598</td>\n",
       "    </tr>\n",
       "    <tr>\n",
       "      <th>192339</th>\n",
       "      <td>2020-01-01</td>\n",
       "      <td>749453</td>\n",
       "    </tr>\n",
       "  </tbody>\n",
       "</table>\n",
       "<p>421 rows × 2 columns</p>\n",
       "</div>"
      ],
      "text/plain": [
       "       YEAR_MONTH  FREIGHT\n",
       "4173   2019-11-01        0\n",
       "10965  2019-12-01        0\n",
       "13433  2019-04-01    49782\n",
       "21338  2019-11-01  1287407\n",
       "22145  2019-12-01   463720\n",
       "...           ...      ...\n",
       "191718 2020-10-01   274986\n",
       "192320 2020-02-01   882911\n",
       "192325 2020-02-01    38826\n",
       "192337 2020-01-01    43598\n",
       "192339 2020-01-01   749453\n",
       "\n",
       "[421 rows x 2 columns]"
      ]
     },
     "execution_count": 100,
     "metadata": {},
     "output_type": "execute_result"
    }
   ],
   "source": [
    "df1=combine_Data[[\"YEAR_MONTH\",\"FREIGHT\"]]\n",
    "df1"
   ]
  },
  {
   "cell_type": "code",
   "execution_count": 137,
   "metadata": {},
   "outputs": [
    {
     "data": {
      "image/png": "[encoded data removed]",
      "text/plain": [
       "<Figure size 432x288 with 1 Axes>"
      ]
     },
     "metadata": {
      "needs_background": "light"
     },
     "output_type": "display_data"
    }
   ],
   "source": [
    "df1.plot(x=\"YEAR_MONTH\",y=\"FREIGHT\")\n",
    "plt.show()"
   ]
  },
  {
   "cell_type": "code",
   "execution_count": 178,
   "metadata": {
    "scrolled": true
   },
   "outputs": [
    {
     "name": "stdout",
     "output_type": "stream",
     "text": [
      "Test RMSE: 18175.394\n"
     ]
    }
   ],
   "source": [
    "\n",
    "df.set_index(\"YEAR_MONTH\")\n",
    "train, test = model_selection.train_test_split(df[\"PASSENGERS\"], train_size=90)\n",
    "# Fit a simple auto_arima model\n",
    "modl = pm.auto_arima(train, start_p=1, start_q=1, start_P=1, start_Q=1, max_p=5, max_q=5, max_P=5, max_Q=5, seasonal=True, stepwise=True, suppress_warnings=True, D=10, max_D=10, error_action='ignore') \n",
    "# Create predictions for the future, evaluate on test \n",
    "preds, conf_int = modl.predict(n_periods=test.shape[0], return_conf_int=True)\n",
    "# Print the error:\n",
    "print(\"Test RMSE: %.3f\" % np.sqrt(mean_squared_error(test, preds)))"
   ]
  },
  {
   "cell_type": "code",
   "execution_count": 145,
   "metadata": {},
   "outputs": [
    {
     "data": {
      "image/png": "[encoded data removed]",
      "text/plain": [
       "<Figure size 432x288 with 1 Axes>"
      ]
     },
     "metadata": {
      "needs_background": "light"
     },
     "output_type": "display_data"
    },
    {
     "name": "stdout",
     "output_type": "stream",
     "text": [
      "<class 'pandas.core.frame.DataFrame'>\n",
      "Int64Index: 421 entries, 4173 to 192339\n",
      "Data columns (total 2 columns):\n",
      " #   Column      Non-Null Count  Dtype\n",
      "---  ------      --------------  -----\n",
      " 0   YEAR_MONTH  421 non-null    int64\n",
      " 1   PASSENGERS  421 non-null    int64\n",
      "dtypes: int64(2)\n",
      "memory usage: 9.9 KB\n"
     ]
    }
   ],
   "source": [
    "pm.plot_acf(df[\"PASSENGERS\"])\n",
    "df.info()"
   ]
  },
  {
   "cell_type": "code",
   "execution_count": 177,
   "metadata": {
    "scrolled": true
   },
   "outputs": [
    {
     "name": "stderr",
     "output_type": "stream",
     "text": [
      "C:\\Users\\Husse\\.conda\\envs\\PythonData\\lib\\site-packages\\pmdarima\\utils\\visualization.py:219: FutureWarning:\n",
      "\n",
      "the 'unbiased'' keyword is deprecated, use 'adjusted' instead\n",
      "\n"
     ]
    },
    {
     "data": {
      "image/png": "[encoded data removed]",
      "text/plain": [
       "<Figure size 432x288 with 1 Axes>"
      ]
     },
     "metadata": {
      "needs_background": "light"
     },
     "output_type": "display_data"
    },
    {
     "name": "stdout",
     "output_type": "stream",
     "text": [
      "<class 'pandas.core.frame.DataFrame'>\n",
      "Int64Index: 421 entries, 4173 to 192339\n",
      "Data columns (total 2 columns):\n",
      " #   Column      Non-Null Count  Dtype         \n",
      "---  ------      --------------  -----         \n",
      " 0   YEAR_MONTH  421 non-null    datetime64[ns]\n",
      " 1   FREIGHT     421 non-null    int64         \n",
      "dtypes: datetime64[ns](1), int64(1)\n",
      "memory usage: 9.9 KB\n"
     ]
    }
   ],
   "source": [
    "pm.plot_acf(df1[\"FREIGHT\"])\n",
    "df1.info()"
   ]
  },
  {
   "cell_type": "code",
   "execution_count": 176,
   "metadata": {},
   "outputs": [
    {
     "name": "stdout",
     "output_type": "stream",
     "text": [
      "Test RMSE: 166691.645\n"
     ]
    }
   ],
   "source": [
    "\n",
    "df1.set_index(\"YEAR_MONTH\")\n",
    "train, test_F = model_selection.train_test_split(df1[\"FREIGHT\"], train_size=90)\n",
    "# Fit a simple auto_arima model\n",
    "modl_FREIGHT = pm.auto_arima(train, start_p=1, start_q=1, start_P=1, start_Q=1, max_p=5, max_q=5, max_P=5, max_Q=5, seasonal=True, stepwise=True, suppress_warnings=True, D=10, max_D=10, error_action='ignore',m=1) \n",
    "# Create predictions for the future, evaluate on test \n",
    "preds, conf_int = modl_FREIGHT.predict(n_periods=test_F.shape[0], return_conf_int=True)\n",
    "# Print the error:\n",
    "print(\"Test RMSE: %.3f\" % np.sqrt(mean_squared_error(test_F, preds)))"
   ]
  },
  {
   "cell_type": "code",
   "execution_count": 183,
   "metadata": {},
   "outputs": [
    {
     "data": {
      "text/plain": [
       "Text(0.5, 1.0, 'Test samples vs. forecasts (m=12)')"
      ]
     },
     "execution_count": 183,
     "metadata": {},
     "output_type": "execute_result"
    },
    {
     "data": {
      "image/png": "[encoded data removed]",
      "text/plain": [
       "<Figure size 864x576 with 2 Axes>"
      ]
     },
     "metadata": {
      "needs_background": "light"
     },
     "output_type": "display_data"
    }
   ],
   "source": [
    "fig, axes = plt.subplots(1, 2, figsize=(12, 8))\n",
    "x = np.arange(test.shape[0])\n",
    "# Plot m=1 \n",
    "axes[0].scatter(x, test, marker='x',color=\"green\") \n",
    "axes[0].plot(x, modl.predict(n_periods=test.shape[0])) \n",
    "axes[0].set_title('Test samples vs. forecasts (m=1)')\n",
    "\n",
    "# Plot m=1 \n",
    "x = np.arange(test_F.shape[0])\n",
    "axes[1].scatter(x, test_F, marker='x') \n",
    "axes[1].plot(x, modl_FREIGHT.predict(n_periods=test_F.shape[0])) \n",
    "axes[1].set_title('Test samples vs. forecasts (m=12)')\n"
   ]
  }
 ],
 "metadata": {
  "kernelspec": {
   "display_name": "Python [conda env:.conda-PythonData] *",
   "language": "python",
   "name": "conda-env-.conda-PythonData-py"
  }
 },
 "nbformat": 4,
 "nbformat_minor": 4
}
